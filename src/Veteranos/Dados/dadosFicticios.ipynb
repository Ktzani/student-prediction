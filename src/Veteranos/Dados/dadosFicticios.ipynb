{
 "cells": [
  {
   "cell_type": "code",
   "execution_count": 11,
   "metadata": {},
   "outputs": [],
   "source": [
    "import numpy as np\n",
    "import pandas as pd\n",
    "import random"
   ]
  },
  {
   "cell_type": "markdown",
   "metadata": {},
   "source": [
    "## 1) Criando dados ficticios"
   ]
  },
  {
   "cell_type": "code",
   "execution_count": 12,
   "metadata": {},
   "outputs": [],
   "source": [
    "data = {\n",
    "    'Media_Total': [random.uniform(5, 10) for _ in range(1000)],\n",
    "}\n",
    "\n",
    "# Gerando o coeficiente com base na média\n",
    "data['Coeficiente'] = [media * random.uniform(0.8, 1.2) for media in data['Media_Total']]\n",
    "\n",
    "# Adicionando as notas nas disciplinas\n",
    "data['Introducao_a_Programacao'] = [random.uniform(0, 10) for _ in range(1000)]\n",
    "data['Estrutura_de_Dados'] = [random.uniform(0, 10) for _ in range(1000)]"
   ]
  },
  {
   "cell_type": "markdown",
   "metadata": {},
   "source": [
    "### 1.1) Adicionando a coluna de aprovação em cada disciplina"
   ]
  },
  {
   "cell_type": "code",
   "execution_count": 13,
   "metadata": {},
   "outputs": [],
   "source": [
    "df = pd.DataFrame(data)\n",
    "df['Introducao_a_Programacao_Aprovado'] = [1 if x > 6.0 else 0 for x in df['Introducao_a_Programacao']]\n",
    "df['Estrutura_de_Dados_Aprovado'] = [1 if x > 6.0 else 0 for x in df['Estrutura_de_Dados']]"
   ]
  },
  {
   "cell_type": "markdown",
   "metadata": {},
   "source": [
    "### 1.2) Criando uma coluna de destino (classificação de desempenho)"
   ]
  },
  {
   "cell_type": "code",
   "execution_count": 14,
   "metadata": {},
   "outputs": [
    {
     "data": {
      "text/html": [
       "<div>\n",
       "<style scoped>\n",
       "    .dataframe tbody tr th:only-of-type {\n",
       "        vertical-align: middle;\n",
       "    }\n",
       "\n",
       "    .dataframe tbody tr th {\n",
       "        vertical-align: top;\n",
       "    }\n",
       "\n",
       "    .dataframe thead th {\n",
       "        text-align: right;\n",
       "    }\n",
       "</style>\n",
       "<table border=\"1\" class=\"dataframe\">\n",
       "  <thead>\n",
       "    <tr style=\"text-align: right;\">\n",
       "      <th></th>\n",
       "      <th>Media_Total</th>\n",
       "      <th>Coeficiente</th>\n",
       "      <th>Introducao_a_Programacao</th>\n",
       "      <th>Estrutura_de_Dados</th>\n",
       "      <th>Introducao_a_Programacao_Aprovado</th>\n",
       "      <th>Estrutura_de_Dados_Aprovado</th>\n",
       "      <th>Desempenho</th>\n",
       "    </tr>\n",
       "  </thead>\n",
       "  <tbody>\n",
       "    <tr>\n",
       "      <th>0</th>\n",
       "      <td>9.626715</td>\n",
       "      <td>10.644896</td>\n",
       "      <td>3.088811</td>\n",
       "      <td>1.762699</td>\n",
       "      <td>0</td>\n",
       "      <td>0</td>\n",
       "      <td>Bem</td>\n",
       "    </tr>\n",
       "    <tr>\n",
       "      <th>1</th>\n",
       "      <td>9.960334</td>\n",
       "      <td>9.818715</td>\n",
       "      <td>4.464785</td>\n",
       "      <td>7.720980</td>\n",
       "      <td>0</td>\n",
       "      <td>1</td>\n",
       "      <td>Bem</td>\n",
       "    </tr>\n",
       "    <tr>\n",
       "      <th>2</th>\n",
       "      <td>8.740338</td>\n",
       "      <td>9.086914</td>\n",
       "      <td>2.740052</td>\n",
       "      <td>0.712933</td>\n",
       "      <td>0</td>\n",
       "      <td>0</td>\n",
       "      <td>Bem</td>\n",
       "    </tr>\n",
       "    <tr>\n",
       "      <th>3</th>\n",
       "      <td>7.774918</td>\n",
       "      <td>7.093310</td>\n",
       "      <td>0.930765</td>\n",
       "      <td>4.508544</td>\n",
       "      <td>0</td>\n",
       "      <td>0</td>\n",
       "      <td>Bem</td>\n",
       "    </tr>\n",
       "    <tr>\n",
       "      <th>4</th>\n",
       "      <td>5.637035</td>\n",
       "      <td>4.517239</td>\n",
       "      <td>6.393895</td>\n",
       "      <td>2.023240</td>\n",
       "      <td>1</td>\n",
       "      <td>0</td>\n",
       "      <td>Mal</td>\n",
       "    </tr>\n",
       "    <tr>\n",
       "      <th>...</th>\n",
       "      <td>...</td>\n",
       "      <td>...</td>\n",
       "      <td>...</td>\n",
       "      <td>...</td>\n",
       "      <td>...</td>\n",
       "      <td>...</td>\n",
       "      <td>...</td>\n",
       "    </tr>\n",
       "    <tr>\n",
       "      <th>995</th>\n",
       "      <td>7.914746</td>\n",
       "      <td>9.330353</td>\n",
       "      <td>0.823461</td>\n",
       "      <td>4.628386</td>\n",
       "      <td>0</td>\n",
       "      <td>0</td>\n",
       "      <td>Bem</td>\n",
       "    </tr>\n",
       "    <tr>\n",
       "      <th>996</th>\n",
       "      <td>7.816127</td>\n",
       "      <td>7.221967</td>\n",
       "      <td>2.966806</td>\n",
       "      <td>1.612926</td>\n",
       "      <td>0</td>\n",
       "      <td>0</td>\n",
       "      <td>Bem</td>\n",
       "    </tr>\n",
       "    <tr>\n",
       "      <th>997</th>\n",
       "      <td>7.139751</td>\n",
       "      <td>6.000495</td>\n",
       "      <td>0.525839</td>\n",
       "      <td>8.293730</td>\n",
       "      <td>0</td>\n",
       "      <td>1</td>\n",
       "      <td>Médio</td>\n",
       "    </tr>\n",
       "    <tr>\n",
       "      <th>998</th>\n",
       "      <td>8.311339</td>\n",
       "      <td>8.480750</td>\n",
       "      <td>8.148992</td>\n",
       "      <td>3.742535</td>\n",
       "      <td>1</td>\n",
       "      <td>0</td>\n",
       "      <td>Bem</td>\n",
       "    </tr>\n",
       "    <tr>\n",
       "      <th>999</th>\n",
       "      <td>9.120988</td>\n",
       "      <td>9.574601</td>\n",
       "      <td>3.439619</td>\n",
       "      <td>3.280129</td>\n",
       "      <td>0</td>\n",
       "      <td>0</td>\n",
       "      <td>Bem</td>\n",
       "    </tr>\n",
       "  </tbody>\n",
       "</table>\n",
       "<p>1000 rows × 7 columns</p>\n",
       "</div>"
      ],
      "text/plain": [
       "     Media_Total  Coeficiente  Introducao_a_Programacao  Estrutura_de_Dados  \\\n",
       "0       9.626715    10.644896                  3.088811            1.762699   \n",
       "1       9.960334     9.818715                  4.464785            7.720980   \n",
       "2       8.740338     9.086914                  2.740052            0.712933   \n",
       "3       7.774918     7.093310                  0.930765            4.508544   \n",
       "4       5.637035     4.517239                  6.393895            2.023240   \n",
       "..           ...          ...                       ...                 ...   \n",
       "995     7.914746     9.330353                  0.823461            4.628386   \n",
       "996     7.816127     7.221967                  2.966806            1.612926   \n",
       "997     7.139751     6.000495                  0.525839            8.293730   \n",
       "998     8.311339     8.480750                  8.148992            3.742535   \n",
       "999     9.120988     9.574601                  3.439619            3.280129   \n",
       "\n",
       "     Introducao_a_Programacao_Aprovado  Estrutura_de_Dados_Aprovado Desempenho  \n",
       "0                                    0                            0        Bem  \n",
       "1                                    0                            1        Bem  \n",
       "2                                    0                            0        Bem  \n",
       "3                                    0                            0        Bem  \n",
       "4                                    1                            0        Mal  \n",
       "..                                 ...                          ...        ...  \n",
       "995                                  0                            0        Bem  \n",
       "996                                  0                            0        Bem  \n",
       "997                                  0                            1      Médio  \n",
       "998                                  1                            0        Bem  \n",
       "999                                  0                            0        Bem  \n",
       "\n",
       "[1000 rows x 7 columns]"
      ]
     },
     "execution_count": 14,
     "metadata": {},
     "output_type": "execute_result"
    }
   ],
   "source": [
    "def classificar_desempenho(row):\n",
    "    if row['Media_Total'] >= 7.5 and row['Coeficiente'] >= 0.8:\n",
    "        return 'Bem'\n",
    "    elif row['Media_Total'] >= 6 and row['Coeficiente'] >= 0.65:\n",
    "        return 'Médio'\n",
    "    else:\n",
    "        return 'Mal'\n",
    "\n",
    "df['Desempenho'] = df.apply(classificar_desempenho, axis=1)\n",
    "\n",
    "df"
   ]
  },
  {
   "cell_type": "markdown",
   "metadata": {},
   "source": [
    "### 1.3) Salvando dados em arquivo CSV"
   ]
  },
  {
   "cell_type": "code",
   "execution_count": 15,
   "metadata": {},
   "outputs": [
    {
     "name": "stdout",
     "output_type": "stream",
     "text": [
      "Dataset salvo em alunos_vet_ficticios.csv\n"
     ]
    }
   ],
   "source": [
    "nome_do_arquivo = \"alunos_vet_ficticios.csv\"\n",
    "\n",
    "# Salve o DataFrame em um arquivo CSV\n",
    "df.to_csv(nome_do_arquivo, index=False)\n",
    "\n",
    "print(f'Dataset salvo em {nome_do_arquivo}')"
   ]
  }
 ],
 "metadata": {
  "kernelspec": {
   "display_name": "Python 3",
   "language": "python",
   "name": "python3"
  },
  "language_info": {
   "codemirror_mode": {
    "name": "ipython",
    "version": 3
   },
   "file_extension": ".py",
   "mimetype": "text/x-python",
   "name": "python",
   "nbconvert_exporter": "python",
   "pygments_lexer": "ipython3",
   "version": "3.10.11"
  }
 },
 "nbformat": 4,
 "nbformat_minor": 2
}
