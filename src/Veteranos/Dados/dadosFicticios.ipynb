{
 "cells": [
  {
   "cell_type": "code",
   "execution_count": 42,
   "metadata": {},
   "outputs": [],
   "source": [
    "import pandas as pd\n",
    "import random\n",
    "import os\n",
    "\n",
    "from sklearn.model_selection import train_test_split\n",
    "\n",
    "from sklearn.preprocessing import LabelEncoder"
   ]
  },
  {
   "cell_type": "markdown",
   "metadata": {},
   "source": [
    "## 1) Criando dados ficticios"
   ]
  },
  {
   "cell_type": "code",
   "execution_count": 43,
   "metadata": {},
   "outputs": [],
   "source": [
    "data = {\n",
    "    'Media_Total': [random.uniform(5, 10) for _ in range(1000)],\n",
    "}\n",
    "\n",
    "# Gerando o coeficiente com base na média\n",
    "data['Coeficiente'] = [media * random.uniform(0.8, 1.2) for media in data['Media_Total']]\n",
    "\n",
    "# Adicionando as notas nas disciplinas\n",
    "data['Introducao_a_Programacao'] = [random.uniform(0, 10) for _ in range(1000)]\n",
    "data['Estrutura_de_Dados'] = [random.uniform(0, 10) for _ in range(1000)]"
   ]
  },
  {
   "cell_type": "markdown",
   "metadata": {},
   "source": [
    "### 1.1) Adicionando a coluna de aprovação em cada disciplina"
   ]
  },
  {
   "cell_type": "code",
   "execution_count": 44,
   "metadata": {},
   "outputs": [],
   "source": [
    "df = pd.DataFrame(data)\n",
    "df['Introducao_a_Programacao_Aprovado'] = [1 if x > 6.0 else 0 for x in df['Introducao_a_Programacao']]\n",
    "df['Estrutura_de_Dados_Aprovado'] = [1 if x > 6.0 else 0 for x in df['Estrutura_de_Dados']]"
   ]
  },
  {
   "cell_type": "markdown",
   "metadata": {},
   "source": [
    "### 1.2) Criando uma coluna de destino (classificação de desempenho)"
   ]
  },
  {
   "cell_type": "code",
   "execution_count": 45,
   "metadata": {},
   "outputs": [
    {
     "data": {
      "text/html": [
       "<div>\n",
       "<style scoped>\n",
       "    .dataframe tbody tr th:only-of-type {\n",
       "        vertical-align: middle;\n",
       "    }\n",
       "\n",
       "    .dataframe tbody tr th {\n",
       "        vertical-align: top;\n",
       "    }\n",
       "\n",
       "    .dataframe thead th {\n",
       "        text-align: right;\n",
       "    }\n",
       "</style>\n",
       "<table border=\"1\" class=\"dataframe\">\n",
       "  <thead>\n",
       "    <tr style=\"text-align: right;\">\n",
       "      <th></th>\n",
       "      <th>Media_Total</th>\n",
       "      <th>Coeficiente</th>\n",
       "      <th>Introducao_a_Programacao</th>\n",
       "      <th>Estrutura_de_Dados</th>\n",
       "      <th>Introducao_a_Programacao_Aprovado</th>\n",
       "      <th>Estrutura_de_Dados_Aprovado</th>\n",
       "      <th>Desempenho</th>\n",
       "    </tr>\n",
       "  </thead>\n",
       "  <tbody>\n",
       "    <tr>\n",
       "      <th>0</th>\n",
       "      <td>8.658702</td>\n",
       "      <td>7.529665</td>\n",
       "      <td>4.572613</td>\n",
       "      <td>0.083527</td>\n",
       "      <td>0</td>\n",
       "      <td>0</td>\n",
       "      <td>Mal</td>\n",
       "    </tr>\n",
       "    <tr>\n",
       "      <th>1</th>\n",
       "      <td>5.269240</td>\n",
       "      <td>4.785637</td>\n",
       "      <td>6.329305</td>\n",
       "      <td>7.003009</td>\n",
       "      <td>1</td>\n",
       "      <td>1</td>\n",
       "      <td>Mal</td>\n",
       "    </tr>\n",
       "    <tr>\n",
       "      <th>2</th>\n",
       "      <td>8.977446</td>\n",
       "      <td>9.853000</td>\n",
       "      <td>7.372162</td>\n",
       "      <td>0.690647</td>\n",
       "      <td>1</td>\n",
       "      <td>0</td>\n",
       "      <td>Médio</td>\n",
       "    </tr>\n",
       "    <tr>\n",
       "      <th>3</th>\n",
       "      <td>8.760039</td>\n",
       "      <td>7.009478</td>\n",
       "      <td>2.526649</td>\n",
       "      <td>1.661359</td>\n",
       "      <td>0</td>\n",
       "      <td>0</td>\n",
       "      <td>Bem</td>\n",
       "    </tr>\n",
       "    <tr>\n",
       "      <th>4</th>\n",
       "      <td>6.055427</td>\n",
       "      <td>5.755192</td>\n",
       "      <td>1.972583</td>\n",
       "      <td>5.441494</td>\n",
       "      <td>0</td>\n",
       "      <td>0</td>\n",
       "      <td>Médio</td>\n",
       "    </tr>\n",
       "    <tr>\n",
       "      <th>...</th>\n",
       "      <td>...</td>\n",
       "      <td>...</td>\n",
       "      <td>...</td>\n",
       "      <td>...</td>\n",
       "      <td>...</td>\n",
       "      <td>...</td>\n",
       "      <td>...</td>\n",
       "    </tr>\n",
       "    <tr>\n",
       "      <th>995</th>\n",
       "      <td>8.516731</td>\n",
       "      <td>8.819100</td>\n",
       "      <td>2.572038</td>\n",
       "      <td>3.915188</td>\n",
       "      <td>0</td>\n",
       "      <td>0</td>\n",
       "      <td>Bem</td>\n",
       "    </tr>\n",
       "    <tr>\n",
       "      <th>996</th>\n",
       "      <td>7.898556</td>\n",
       "      <td>6.919436</td>\n",
       "      <td>5.893331</td>\n",
       "      <td>5.191784</td>\n",
       "      <td>0</td>\n",
       "      <td>0</td>\n",
       "      <td>Bem</td>\n",
       "    </tr>\n",
       "    <tr>\n",
       "      <th>997</th>\n",
       "      <td>9.853482</td>\n",
       "      <td>9.116896</td>\n",
       "      <td>0.806071</td>\n",
       "      <td>9.975290</td>\n",
       "      <td>0</td>\n",
       "      <td>1</td>\n",
       "      <td>Bem</td>\n",
       "    </tr>\n",
       "    <tr>\n",
       "      <th>998</th>\n",
       "      <td>7.685811</td>\n",
       "      <td>7.876297</td>\n",
       "      <td>5.117693</td>\n",
       "      <td>1.814657</td>\n",
       "      <td>0</td>\n",
       "      <td>0</td>\n",
       "      <td>Bem</td>\n",
       "    </tr>\n",
       "    <tr>\n",
       "      <th>999</th>\n",
       "      <td>8.485313</td>\n",
       "      <td>6.840847</td>\n",
       "      <td>5.302473</td>\n",
       "      <td>5.374390</td>\n",
       "      <td>0</td>\n",
       "      <td>0</td>\n",
       "      <td>Bem</td>\n",
       "    </tr>\n",
       "  </tbody>\n",
       "</table>\n",
       "<p>1000 rows × 7 columns</p>\n",
       "</div>"
      ],
      "text/plain": [
       "     Media_Total  Coeficiente  Introducao_a_Programacao  Estrutura_de_Dados  \\\n",
       "0       8.658702     7.529665                  4.572613            0.083527   \n",
       "1       5.269240     4.785637                  6.329305            7.003009   \n",
       "2       8.977446     9.853000                  7.372162            0.690647   \n",
       "3       8.760039     7.009478                  2.526649            1.661359   \n",
       "4       6.055427     5.755192                  1.972583            5.441494   \n",
       "..           ...          ...                       ...                 ...   \n",
       "995     8.516731     8.819100                  2.572038            3.915188   \n",
       "996     7.898556     6.919436                  5.893331            5.191784   \n",
       "997     9.853482     9.116896                  0.806071            9.975290   \n",
       "998     7.685811     7.876297                  5.117693            1.814657   \n",
       "999     8.485313     6.840847                  5.302473            5.374390   \n",
       "\n",
       "     Introducao_a_Programacao_Aprovado  Estrutura_de_Dados_Aprovado Desempenho  \n",
       "0                                    0                            0        Mal  \n",
       "1                                    1                            1        Mal  \n",
       "2                                    1                            0      Médio  \n",
       "3                                    0                            0        Bem  \n",
       "4                                    0                            0      Médio  \n",
       "..                                 ...                          ...        ...  \n",
       "995                                  0                            0        Bem  \n",
       "996                                  0                            0        Bem  \n",
       "997                                  0                            1        Bem  \n",
       "998                                  0                            0        Bem  \n",
       "999                                  0                            0        Bem  \n",
       "\n",
       "[1000 rows x 7 columns]"
      ]
     },
     "execution_count": 45,
     "metadata": {},
     "output_type": "execute_result"
    }
   ],
   "source": [
    "def classificar_desempenho(row):\n",
    "    if row['Media_Total'] >= 7.5 and row['Coeficiente'] >= 0.8 and row['Introducao_a_Programacao'] >= 0.7 and row['Estrutura_de_Dados'] >= 0.7:\n",
    "        return 'Bem'\n",
    "    elif row['Media_Total'] >= 6 and row['Coeficiente'] >= 0.65 and row['Introducao_a_Programacao'] >= 0.6 and row['Estrutura_de_Dados'] >= 0.6:\n",
    "        return 'Médio'\n",
    "    else:\n",
    "        return 'Mal'\n",
    "\n",
    "df['Desempenho'] = df.apply(classificar_desempenho, axis=1)\n",
    "\n",
    "df"
   ]
  },
  {
   "cell_type": "markdown",
   "metadata": {},
   "source": [
    "### 1.3) Dividir os dados em recursos (X) e rótulos (y)"
   ]
  },
  {
   "cell_type": "code",
   "execution_count": 46,
   "metadata": {},
   "outputs": [],
   "source": [
    "X = df[['Media_Total', 'Coeficiente', 'Introducao_a_Programacao', 'Estrutura_de_Dados', 'Introducao_a_Programacao_Aprovado', 'Estrutura_de_Dados_Aprovado']]\n",
    "y = df['Desempenho']"
   ]
  },
  {
   "cell_type": "markdown",
   "metadata": {},
   "source": [
    "## 2) Dados de treinamento e teste"
   ]
  },
  {
   "cell_type": "markdown",
   "metadata": {},
   "source": [
    "### 2.1) Modelos Simples"
   ]
  },
  {
   "cell_type": "markdown",
   "metadata": {},
   "source": [
    "#### 2.1.1) Divisão dos dados"
   ]
  },
  {
   "cell_type": "code",
   "execution_count": 47,
   "metadata": {},
   "outputs": [],
   "source": [
    "X_train, X_test, y_train, y_test = train_test_split(X, y, test_size=0.3, random_state=42)"
   ]
  },
  {
   "cell_type": "markdown",
   "metadata": {},
   "source": [
    "#### 2.1.2) Salvando dados"
   ]
  },
  {
   "cell_type": "code",
   "execution_count": 48,
   "metadata": {},
   "outputs": [],
   "source": [
    "\n",
    "diretorioModeloSimples = './ModelosSimples'\n",
    "if not os.path.exists(diretorioModeloSimples):\n",
    "    os.makedirs(diretorioModeloSimples)\n",
    "\n",
    "# Salvar os dados de treinamento\n",
    "pd.DataFrame(X_train).to_csv('./ModelosSimples/X_train.csv', index=False)\n",
    "pd.DataFrame(y_train).to_csv('./ModelosSimples/y_train.csv', index=False)\n",
    "\n",
    "# Salvar os dados de teste\n",
    "pd.DataFrame(X_test).to_csv('./ModelosSimples/X_test.csv', index=False)\n",
    "pd.DataFrame(y_test).to_csv('./ModelosSimples/y_test.csv', index=False)"
   ]
  },
  {
   "cell_type": "markdown",
   "metadata": {},
   "source": [
    "### 2.2) Redes Neurais"
   ]
  },
  {
   "cell_type": "markdown",
   "metadata": {},
   "source": [
    "#### 2.2.1) Pré-processando dados"
   ]
  },
  {
   "cell_type": "code",
   "execution_count": 49,
   "metadata": {},
   "outputs": [],
   "source": [
    "# Codificar as classes de desempenho em valores numéricos\n",
    "label_encoder = LabelEncoder()\n",
    "y = label_encoder.fit_transform(y)"
   ]
  },
  {
   "cell_type": "markdown",
   "metadata": {},
   "source": [
    "#### 2.2.2) Divisão dos dados"
   ]
  },
  {
   "cell_type": "code",
   "execution_count": 50,
   "metadata": {},
   "outputs": [],
   "source": [
    "X_train, X_temp, y_train, y_temp  = train_test_split(X, y, test_size=0.3, random_state=42)\n",
    "X_val, X_test, y_val, y_test = train_test_split(X_temp, y_temp, test_size=0.5, random_state=42)"
   ]
  },
  {
   "cell_type": "markdown",
   "metadata": {},
   "source": [
    "#### 2.2.3) Salvando dos dados"
   ]
  },
  {
   "cell_type": "code",
   "execution_count": 51,
   "metadata": {},
   "outputs": [],
   "source": [
    "diretorioRedesNeurais = './RedesNeurais'\n",
    "if not os.path.exists(diretorioRedesNeurais):\n",
    "    os.makedirs(diretorioRedesNeurais)\n",
    "\n",
    "# Salvar os dados de treinamento\n",
    "pd.DataFrame(X_train).to_csv('./RedesNeurais/X_train.csv', index=False)\n",
    "pd.DataFrame(y_train).to_csv('./RedesNeurais/y_train.csv', index=False)\n",
    "\n",
    "# Salvar os dados de teste\n",
    "pd.DataFrame(X_test).to_csv('./RedesNeurais/X_test.csv', index=False)\n",
    "pd.DataFrame(y_test).to_csv('./RedesNeurais/y_test.csv', index=False)\n",
    "\n",
    "# Salvar os dados de validacao\n",
    "pd.DataFrame(X_val).to_csv('./RedesNeurais/X_val.csv', index=False)\n",
    "pd.DataFrame(y_val).to_csv('./RedesNeurais/y_val.csv', index=False)"
   ]
  }
 ],
 "metadata": {
  "kernelspec": {
   "display_name": "Python 3",
   "language": "python",
   "name": "python3"
  },
  "language_info": {
   "codemirror_mode": {
    "name": "ipython",
    "version": 3
   },
   "file_extension": ".py",
   "mimetype": "text/x-python",
   "name": "python",
   "nbconvert_exporter": "python",
   "pygments_lexer": "ipython3",
   "version": "3.10.1"
  }
 },
 "nbformat": 4,
 "nbformat_minor": 2
}
