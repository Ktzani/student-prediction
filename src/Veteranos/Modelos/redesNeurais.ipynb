{
 "cells": [
  {
   "cell_type": "code",
   "execution_count": 1,
   "metadata": {},
   "outputs": [],
   "source": [
    "import numpy as np\n",
    "import tensorflow as tf\n",
    "import pandas as pd\n",
    "\n",
    "from sklearn.model_selection import train_test_split\n",
    "from sklearn.preprocessing import LabelEncoder, StandardScaler\n",
    "from sklearn.metrics import confusion_matrix, accuracy_score, precision_score, recall_score, f1_score, classification_report\n",
    "\n",
    "from tensorflow.keras.models import Sequential\n",
    "from tensorflow.keras.layers import Dense\n",
    "from tensorflow.keras.utils import to_categorical\n",
    "\n",
    "import matplotlib.pyplot as plt\n",
    "import seaborn as sns"
   ]
  },
  {
   "cell_type": "markdown",
   "metadata": {},
   "source": [
    "## 1) Coletando dados ficticios"
   ]
  },
  {
   "cell_type": "code",
   "execution_count": 2,
   "metadata": {},
   "outputs": [
    {
     "data": {
      "text/html": [
       "<div>\n",
       "<style scoped>\n",
       "    .dataframe tbody tr th:only-of-type {\n",
       "        vertical-align: middle;\n",
       "    }\n",
       "\n",
       "    .dataframe tbody tr th {\n",
       "        vertical-align: top;\n",
       "    }\n",
       "\n",
       "    .dataframe thead th {\n",
       "        text-align: right;\n",
       "    }\n",
       "</style>\n",
       "<table border=\"1\" class=\"dataframe\">\n",
       "  <thead>\n",
       "    <tr style=\"text-align: right;\">\n",
       "      <th></th>\n",
       "      <th>Media_Total</th>\n",
       "      <th>Coeficiente</th>\n",
       "      <th>Introducao_a_Programacao</th>\n",
       "      <th>Estrutura_de_Dados</th>\n",
       "      <th>Introducao_a_Programacao_Aprovado</th>\n",
       "      <th>Estrutura_de_Dados_Aprovado</th>\n",
       "      <th>Desempenho</th>\n",
       "    </tr>\n",
       "  </thead>\n",
       "  <tbody>\n",
       "    <tr>\n",
       "      <th>0</th>\n",
       "      <td>9.626715</td>\n",
       "      <td>10.644896</td>\n",
       "      <td>3.088811</td>\n",
       "      <td>1.762699</td>\n",
       "      <td>0</td>\n",
       "      <td>0</td>\n",
       "      <td>Bem</td>\n",
       "    </tr>\n",
       "    <tr>\n",
       "      <th>1</th>\n",
       "      <td>9.960334</td>\n",
       "      <td>9.818715</td>\n",
       "      <td>4.464785</td>\n",
       "      <td>7.720980</td>\n",
       "      <td>0</td>\n",
       "      <td>1</td>\n",
       "      <td>Bem</td>\n",
       "    </tr>\n",
       "    <tr>\n",
       "      <th>2</th>\n",
       "      <td>8.740338</td>\n",
       "      <td>9.086914</td>\n",
       "      <td>2.740052</td>\n",
       "      <td>0.712933</td>\n",
       "      <td>0</td>\n",
       "      <td>0</td>\n",
       "      <td>Bem</td>\n",
       "    </tr>\n",
       "    <tr>\n",
       "      <th>3</th>\n",
       "      <td>7.774918</td>\n",
       "      <td>7.093310</td>\n",
       "      <td>0.930765</td>\n",
       "      <td>4.508544</td>\n",
       "      <td>0</td>\n",
       "      <td>0</td>\n",
       "      <td>Bem</td>\n",
       "    </tr>\n",
       "    <tr>\n",
       "      <th>4</th>\n",
       "      <td>5.637035</td>\n",
       "      <td>4.517239</td>\n",
       "      <td>6.393895</td>\n",
       "      <td>2.023240</td>\n",
       "      <td>1</td>\n",
       "      <td>0</td>\n",
       "      <td>Mal</td>\n",
       "    </tr>\n",
       "    <tr>\n",
       "      <th>...</th>\n",
       "      <td>...</td>\n",
       "      <td>...</td>\n",
       "      <td>...</td>\n",
       "      <td>...</td>\n",
       "      <td>...</td>\n",
       "      <td>...</td>\n",
       "      <td>...</td>\n",
       "    </tr>\n",
       "    <tr>\n",
       "      <th>995</th>\n",
       "      <td>7.914746</td>\n",
       "      <td>9.330353</td>\n",
       "      <td>0.823461</td>\n",
       "      <td>4.628386</td>\n",
       "      <td>0</td>\n",
       "      <td>0</td>\n",
       "      <td>Bem</td>\n",
       "    </tr>\n",
       "    <tr>\n",
       "      <th>996</th>\n",
       "      <td>7.816127</td>\n",
       "      <td>7.221967</td>\n",
       "      <td>2.966806</td>\n",
       "      <td>1.612926</td>\n",
       "      <td>0</td>\n",
       "      <td>0</td>\n",
       "      <td>Bem</td>\n",
       "    </tr>\n",
       "    <tr>\n",
       "      <th>997</th>\n",
       "      <td>7.139751</td>\n",
       "      <td>6.000495</td>\n",
       "      <td>0.525839</td>\n",
       "      <td>8.293730</td>\n",
       "      <td>0</td>\n",
       "      <td>1</td>\n",
       "      <td>Médio</td>\n",
       "    </tr>\n",
       "    <tr>\n",
       "      <th>998</th>\n",
       "      <td>8.311339</td>\n",
       "      <td>8.480750</td>\n",
       "      <td>8.148992</td>\n",
       "      <td>3.742535</td>\n",
       "      <td>1</td>\n",
       "      <td>0</td>\n",
       "      <td>Bem</td>\n",
       "    </tr>\n",
       "    <tr>\n",
       "      <th>999</th>\n",
       "      <td>9.120988</td>\n",
       "      <td>9.574601</td>\n",
       "      <td>3.439619</td>\n",
       "      <td>3.280129</td>\n",
       "      <td>0</td>\n",
       "      <td>0</td>\n",
       "      <td>Bem</td>\n",
       "    </tr>\n",
       "  </tbody>\n",
       "</table>\n",
       "<p>1000 rows × 7 columns</p>\n",
       "</div>"
      ],
      "text/plain": [
       "     Media_Total  Coeficiente  Introducao_a_Programacao  Estrutura_de_Dados  \\\n",
       "0       9.626715    10.644896                  3.088811            1.762699   \n",
       "1       9.960334     9.818715                  4.464785            7.720980   \n",
       "2       8.740338     9.086914                  2.740052            0.712933   \n",
       "3       7.774918     7.093310                  0.930765            4.508544   \n",
       "4       5.637035     4.517239                  6.393895            2.023240   \n",
       "..           ...          ...                       ...                 ...   \n",
       "995     7.914746     9.330353                  0.823461            4.628386   \n",
       "996     7.816127     7.221967                  2.966806            1.612926   \n",
       "997     7.139751     6.000495                  0.525839            8.293730   \n",
       "998     8.311339     8.480750                  8.148992            3.742535   \n",
       "999     9.120988     9.574601                  3.439619            3.280129   \n",
       "\n",
       "     Introducao_a_Programacao_Aprovado  Estrutura_de_Dados_Aprovado Desempenho  \n",
       "0                                    0                            0        Bem  \n",
       "1                                    0                            1        Bem  \n",
       "2                                    0                            0        Bem  \n",
       "3                                    0                            0        Bem  \n",
       "4                                    1                            0        Mal  \n",
       "..                                 ...                          ...        ...  \n",
       "995                                  0                            0        Bem  \n",
       "996                                  0                            0        Bem  \n",
       "997                                  0                            1      Médio  \n",
       "998                                  1                            0        Bem  \n",
       "999                                  0                            0        Bem  \n",
       "\n",
       "[1000 rows x 7 columns]"
      ]
     },
     "execution_count": 2,
     "metadata": {},
     "output_type": "execute_result"
    }
   ],
   "source": [
    "# Especifique o caminho para o arquivo CSV\n",
    "caminho_arquivo_csv = \"../Dados/alunos_vet_ficticios.csv\"\n",
    "\n",
    "# Carregue o arquivo CSV em um DataFrame\n",
    "df = pd.read_csv(caminho_arquivo_csv)\n",
    "\n",
    "df"
   ]
  },
  {
   "cell_type": "markdown",
   "metadata": {},
   "source": [
    "### 1.1) Dividir os dados em recursos (X) e rótulos (y)"
   ]
  },
  {
   "cell_type": "code",
   "execution_count": 3,
   "metadata": {},
   "outputs": [],
   "source": [
    "X = df[['Media_Total', 'Coeficiente', 'Introducao_a_Programacao', 'Estrutura_de_Dados']]\n",
    "y = df['Desempenho']"
   ]
  },
  {
   "cell_type": "markdown",
   "metadata": {},
   "source": [
    "## 2) Pré-processando dados"
   ]
  },
  {
   "cell_type": "code",
   "execution_count": 4,
   "metadata": {},
   "outputs": [],
   "source": [
    "# Codificar as classes de desempenho em valores numéricos\n",
    "label_encoder = LabelEncoder()\n",
    "y = label_encoder.fit_transform(y)"
   ]
  },
  {
   "cell_type": "markdown",
   "metadata": {},
   "source": [
    "## 3) Divisão em dados de treinamento e teste"
   ]
  },
  {
   "cell_type": "code",
   "execution_count": 5,
   "metadata": {},
   "outputs": [],
   "source": [
    "X_train, X_test, y_train, y_test = train_test_split(X, y, test_size=0.2, random_state=42)\n",
    "\n",
    "# Padronizar as características (normalização)\n",
    "scaler = StandardScaler()\n",
    "X_train = scaler.fit_transform(X_train)\n",
    "X_test = scaler.transform(X_test)\n",
    "\n",
    "# Converter as classes em vetores one-hot (para a camada de saída)\n",
    "y_train = to_categorical(y_train)\n",
    "y_test = to_categorical(y_test)"
   ]
  },
  {
   "cell_type": "markdown",
   "metadata": {},
   "source": [
    "## 4) Construindo rede neural"
   ]
  },
  {
   "cell_type": "code",
   "execution_count": 6,
   "metadata": {},
   "outputs": [],
   "source": [
    "# Construir um modelo de rede neural\n",
    "neuralNetwork = Sequential()\n",
    "neuralNetwork.add(Dense(64, input_dim=4, activation='relu'))\n",
    "neuralNetwork.add(Dense(32, activation='relu'))\n",
    "neuralNetwork.add(Dense(3, activation='softmax'))  # 3 unidades na camada de saída para as três classes"
   ]
  },
  {
   "cell_type": "markdown",
   "metadata": {},
   "source": [
    "## 5) Compilando Modelo"
   ]
  },
  {
   "cell_type": "code",
   "execution_count": 7,
   "metadata": {},
   "outputs": [],
   "source": [
    "neuralNetwork.compile(loss='categorical_crossentropy', optimizer='adam', metrics=['accuracy'])"
   ]
  },
  {
   "cell_type": "markdown",
   "metadata": {},
   "source": [
    "## 6) Treinando Modelo"
   ]
  },
  {
   "cell_type": "code",
   "execution_count": 8,
   "metadata": {},
   "outputs": [
    {
     "name": "stdout",
     "output_type": "stream",
     "text": [
      "Epoch 1/50\n",
      "25/25 [==============================] - 1s 958us/step - loss: 0.9094 - accuracy: 0.6275\n",
      "Epoch 2/50\n",
      "25/25 [==============================] - 0s 833us/step - loss: 0.6333 - accuracy: 0.7738\n",
      "Epoch 3/50\n",
      "25/25 [==============================] - 0s 833us/step - loss: 0.4889 - accuracy: 0.8125\n",
      "Epoch 4/50\n",
      "25/25 [==============================] - 0s 833us/step - loss: 0.3985 - accuracy: 0.8763\n",
      "Epoch 5/50\n",
      "25/25 [==============================] - 0s 750us/step - loss: 0.3396 - accuracy: 0.8838\n",
      "Epoch 6/50\n",
      "25/25 [==============================] - 0s 792us/step - loss: 0.2954 - accuracy: 0.9013\n",
      "Epoch 7/50\n",
      "25/25 [==============================] - 0s 792us/step - loss: 0.2615 - accuracy: 0.9062\n",
      "Epoch 8/50\n",
      "25/25 [==============================] - 0s 792us/step - loss: 0.2350 - accuracy: 0.9137\n",
      "Epoch 9/50\n",
      "25/25 [==============================] - 0s 792us/step - loss: 0.2118 - accuracy: 0.9237\n",
      "Epoch 10/50\n",
      "25/25 [==============================] - 0s 833us/step - loss: 0.1939 - accuracy: 0.9350\n",
      "Epoch 11/50\n",
      "25/25 [==============================] - 0s 833us/step - loss: 0.1767 - accuracy: 0.9388\n",
      "Epoch 12/50\n",
      "25/25 [==============================] - 0s 750us/step - loss: 0.1641 - accuracy: 0.9450\n",
      "Epoch 13/50\n",
      "25/25 [==============================] - 0s 792us/step - loss: 0.1488 - accuracy: 0.9500\n",
      "Epoch 14/50\n",
      "25/25 [==============================] - 0s 750us/step - loss: 0.1422 - accuracy: 0.9550\n",
      "Epoch 15/50\n",
      "25/25 [==============================] - 0s 792us/step - loss: 0.1344 - accuracy: 0.9575\n",
      "Epoch 16/50\n",
      "25/25 [==============================] - 0s 792us/step - loss: 0.1236 - accuracy: 0.9588\n",
      "Epoch 17/50\n",
      "25/25 [==============================] - 0s 792us/step - loss: 0.1157 - accuracy: 0.9663\n",
      "Epoch 18/50\n",
      "25/25 [==============================] - 0s 750us/step - loss: 0.1098 - accuracy: 0.9625\n",
      "Epoch 19/50\n",
      "25/25 [==============================] - 0s 792us/step - loss: 0.1030 - accuracy: 0.9650\n",
      "Epoch 20/50\n",
      "25/25 [==============================] - 0s 750us/step - loss: 0.0971 - accuracy: 0.9737\n",
      "Epoch 21/50\n",
      "25/25 [==============================] - 0s 750us/step - loss: 0.0936 - accuracy: 0.9725\n",
      "Epoch 22/50\n",
      "25/25 [==============================] - 0s 750us/step - loss: 0.0872 - accuracy: 0.9762\n",
      "Epoch 23/50\n",
      "25/25 [==============================] - 0s 750us/step - loss: 0.0832 - accuracy: 0.9787\n",
      "Epoch 24/50\n",
      "25/25 [==============================] - 0s 750us/step - loss: 0.0803 - accuracy: 0.9787\n",
      "Epoch 25/50\n",
      "25/25 [==============================] - 0s 750us/step - loss: 0.0776 - accuracy: 0.9800\n",
      "Epoch 26/50\n",
      "25/25 [==============================] - 0s 792us/step - loss: 0.0751 - accuracy: 0.9800\n",
      "Epoch 27/50\n",
      "25/25 [==============================] - 0s 750us/step - loss: 0.0723 - accuracy: 0.9862\n",
      "Epoch 28/50\n",
      "25/25 [==============================] - 0s 792us/step - loss: 0.0665 - accuracy: 0.9887\n",
      "Epoch 29/50\n",
      "25/25 [==============================] - 0s 750us/step - loss: 0.0692 - accuracy: 0.9837\n",
      "Epoch 30/50\n",
      "25/25 [==============================] - 0s 792us/step - loss: 0.0627 - accuracy: 0.9900\n",
      "Epoch 31/50\n",
      "25/25 [==============================] - 0s 792us/step - loss: 0.0649 - accuracy: 0.9825\n",
      "Epoch 32/50\n",
      "25/25 [==============================] - 0s 792us/step - loss: 0.0591 - accuracy: 0.9900\n",
      "Epoch 33/50\n",
      "25/25 [==============================] - 0s 750us/step - loss: 0.0575 - accuracy: 0.9925\n",
      "Epoch 34/50\n",
      "25/25 [==============================] - 0s 750us/step - loss: 0.0564 - accuracy: 0.9887\n",
      "Epoch 35/50\n",
      "25/25 [==============================] - 0s 792us/step - loss: 0.0539 - accuracy: 0.9937\n",
      "Epoch 36/50\n",
      "25/25 [==============================] - 0s 750us/step - loss: 0.0517 - accuracy: 0.9925\n",
      "Epoch 37/50\n",
      "25/25 [==============================] - 0s 750us/step - loss: 0.0502 - accuracy: 0.9925\n",
      "Epoch 38/50\n",
      "25/25 [==============================] - 0s 750us/step - loss: 0.0483 - accuracy: 0.9937\n",
      "Epoch 39/50\n",
      "25/25 [==============================] - 0s 750us/step - loss: 0.0489 - accuracy: 0.9887\n",
      "Epoch 40/50\n",
      "25/25 [==============================] - 0s 792us/step - loss: 0.0535 - accuracy: 0.9850\n",
      "Epoch 41/50\n",
      "25/25 [==============================] - 0s 750us/step - loss: 0.0528 - accuracy: 0.9837\n",
      "Epoch 42/50\n",
      "25/25 [==============================] - 0s 750us/step - loss: 0.0461 - accuracy: 0.9912\n",
      "Epoch 43/50\n",
      "25/25 [==============================] - 0s 792us/step - loss: 0.0435 - accuracy: 0.9937\n",
      "Epoch 44/50\n",
      "25/25 [==============================] - 0s 750us/step - loss: 0.0413 - accuracy: 0.9950\n",
      "Epoch 45/50\n",
      "25/25 [==============================] - 0s 750us/step - loss: 0.0423 - accuracy: 0.9900\n",
      "Epoch 46/50\n",
      "25/25 [==============================] - 0s 750us/step - loss: 0.0407 - accuracy: 0.9950\n",
      "Epoch 47/50\n",
      "25/25 [==============================] - 0s 750us/step - loss: 0.0384 - accuracy: 0.9900\n",
      "Epoch 48/50\n",
      "25/25 [==============================] - 0s 792us/step - loss: 0.0375 - accuracy: 0.9975\n",
      "Epoch 49/50\n",
      "25/25 [==============================] - 0s 792us/step - loss: 0.0368 - accuracy: 0.9950\n",
      "Epoch 50/50\n",
      "25/25 [==============================] - 0s 750us/step - loss: 0.0379 - accuracy: 0.9925\n"
     ]
    },
    {
     "data": {
      "text/plain": [
       "<keras.src.callbacks.History at 0x2229c3c0e20>"
      ]
     },
     "execution_count": 8,
     "metadata": {},
     "output_type": "execute_result"
    }
   ],
   "source": [
    "neuralNetwork.fit(X_train, y_train, epochs=50, batch_size=32)"
   ]
  },
  {
   "cell_type": "markdown",
   "metadata": {},
   "source": [
    "## 7) Predição"
   ]
  },
  {
   "cell_type": "code",
   "execution_count": 9,
   "metadata": {},
   "outputs": [
    {
     "name": "stdout",
     "output_type": "stream",
     "text": [
      "7/7 [==============================] - 0s 667us/step\n"
     ]
    }
   ],
   "source": [
    "y_pred = neuralNetwork.predict(X_test)"
   ]
  },
  {
   "cell_type": "markdown",
   "metadata": {},
   "source": [
    "## 8) Avaliando "
   ]
  },
  {
   "cell_type": "code",
   "execution_count": 10,
   "metadata": {},
   "outputs": [
    {
     "name": "stdout",
     "output_type": "stream",
     "text": [
      "7/7 [==============================] - 0s 1ms/step - loss: 0.0493 - accuracy: 0.9750\n",
      "Acurácia no conjunto de teste: 97.50%\n"
     ]
    }
   ],
   "source": [
    "loss, accuracy = neuralNetwork.evaluate(X_test, y_test)\n",
    "print(f'Acurácia no conjunto de teste: {accuracy * 100:.2f}%')"
   ]
  },
  {
   "cell_type": "markdown",
   "metadata": {},
   "source": [
    "## 9) Matriz Confusão"
   ]
  },
  {
   "cell_type": "code",
   "execution_count": 11,
   "metadata": {},
   "outputs": [
    {
     "data": {
      "image/png": "[encoded data removed]",
      "text/plain": [
       "<Figure size 800x600 with 2 Axes>"
      ]
     },
     "metadata": {},
     "output_type": "display_data"
    }
   ],
   "source": [
    "# Calcule a matriz de confusão\n",
    "# Transformar as previsões de volta para as classes originais\n",
    "y_pred_classes = label_encoder.inverse_transform(np.argmax(y_pred, axis=1))\n",
    "y_test_classes = label_encoder.inverse_transform(np.argmax(y_test, axis=1))\n",
    "\n",
    "\n",
    "cm = confusion_matrix(y_test_classes, y_pred_classes)  # Substitua y_test e y_pred pelos seus dados reais e previstos\n",
    "\n",
    "# Crie uma visualização da matriz de confusão\n",
    "plt.figure(figsize=(8, 6))\n",
    "sns.heatmap(cm, annot=True, fmt=\"d\", cmap=\"Blues\", xticklabels=['Bem', 'Médio', 'Mal'], yticklabels=['Bem', 'Médio', 'Mal'])\n",
    "plt.xlabel('Predito')\n",
    "plt.ylabel('Real')\n",
    "plt.title('Matriz de Confusão')\n",
    "plt.show()"
   ]
  },
  {
   "cell_type": "markdown",
   "metadata": {},
   "source": [
    "## Métricas de eficácia"
   ]
  },
  {
   "cell_type": "code",
   "execution_count": 14,
   "metadata": {},
   "outputs": [
    {
     "name": "stdout",
     "output_type": "stream",
     "text": [
      "----------------------------------------------------------------\n",
      "Acurácia do Teste: 0.975\n",
      "----------------------------------------------------------------\n",
      "\n",
      "Relatório de Classificação:\n",
      "              precision    recall  f1-score   support\n",
      "\n",
      "         Bem       1.00      0.98      0.99       106\n",
      "         Mal       1.00      0.93      0.96        44\n",
      "       Médio       0.91      1.00      0.95        50\n",
      "\n",
      "    accuracy                           0.97       200\n",
      "   macro avg       0.97      0.97      0.97       200\n",
      "weighted avg       0.98      0.97      0.98       200\n",
      "\n"
     ]
    }
   ],
   "source": [
    "print(\"----------------------------------------------------------------\")\n",
    "accuracy = accuracy_score(y_test_classes, y_pred_classes)  \n",
    "print(f'Acurácia do Teste: {accuracy}')\n",
    "\n",
    "print(\"----------------------------------------------------------------\\n\")\n",
    "classification_rep = classification_report(y_test_classes, y_pred_classes)\n",
    "print(f'Relatório de Classificação:\\n{classification_rep}')\n",
    "\n",
    "\n",
    "# precision = precision_score(y_test, y_pred)  # Substitua y_test e y_pred pelos seus dados reais e previstos\n",
    "# print(f'Precisão: {precision}')\n",
    "\n",
    "# recall = recall_score(y_test, y_pred)  # Substitua y_test e y_pred pelos seus dados reais e previstos\n",
    "# print(f'Recall: {recall}')\n",
    "\n",
    "# f1 = f1_score(y_test, y_pred)  # Substitua y_test e y_pred pelos seus dados reais e previstos\n",
    "# print(f'Medida F: {f1}')"
   ]
  }
 ],
 "metadata": {
  "kernelspec": {
   "display_name": "Python 3",
   "language": "python",
   "name": "python3"
  },
  "language_info": {
   "codemirror_mode": {
    "name": "ipython",
    "version": 3
   },
   "file_extension": ".py",
   "mimetype": "text/x-python",
   "name": "python",
   "nbconvert_exporter": "python",
   "pygments_lexer": "ipython3",
   "version": "3.10.11"
  }
 },
 "nbformat": 4,
 "nbformat_minor": 2
}
