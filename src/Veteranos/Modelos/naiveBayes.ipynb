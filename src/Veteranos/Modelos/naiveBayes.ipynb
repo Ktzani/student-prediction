{
 "cells": [
  {
   "cell_type": "code",
   "execution_count": 1,
   "metadata": {},
   "outputs": [],
   "source": [
    "import pandas as pd\n",
    "\n",
    "from sklearn.model_selection import train_test_split\n",
    "from sklearn.naive_bayes import GaussianNB\n",
    "from sklearn.feature_extraction.text import CountVectorizer\n",
    "from sklearn.metrics import confusion_matrix, accuracy_score, precision_score, recall_score, f1_score, classification_report\n",
    "from sklearn.model_selection import GridSearchCV\n",
    "\n",
    "import matplotlib.pyplot as plt\n",
    "import seaborn as sns"
   ]
  },
  {
   "cell_type": "markdown",
   "metadata": {},
   "source": [
    "## 1) Coletando dados ficticios"
   ]
  },
  {
   "cell_type": "code",
   "execution_count": 2,
   "metadata": {},
   "outputs": [
    {
     "data": {
      "text/html": [
       "<div>\n",
       "<style scoped>\n",
       "    .dataframe tbody tr th:only-of-type {\n",
       "        vertical-align: middle;\n",
       "    }\n",
       "\n",
       "    .dataframe tbody tr th {\n",
       "        vertical-align: top;\n",
       "    }\n",
       "\n",
       "    .dataframe thead th {\n",
       "        text-align: right;\n",
       "    }\n",
       "</style>\n",
       "<table border=\"1\" class=\"dataframe\">\n",
       "  <thead>\n",
       "    <tr style=\"text-align: right;\">\n",
       "      <th></th>\n",
       "      <th>Media_Total</th>\n",
       "      <th>Coeficiente</th>\n",
       "      <th>Introducao_a_Programacao</th>\n",
       "      <th>Estrutura_de_Dados</th>\n",
       "      <th>Introducao_a_Programacao_Aprovado</th>\n",
       "      <th>Estrutura_de_Dados_Aprovado</th>\n",
       "      <th>Desempenho</th>\n",
       "    </tr>\n",
       "  </thead>\n",
       "  <tbody>\n",
       "    <tr>\n",
       "      <th>0</th>\n",
       "      <td>9.990051</td>\n",
       "      <td>8.173498</td>\n",
       "      <td>3.200457</td>\n",
       "      <td>3.930675</td>\n",
       "      <td>0</td>\n",
       "      <td>0</td>\n",
       "      <td>Bem</td>\n",
       "    </tr>\n",
       "    <tr>\n",
       "      <th>1</th>\n",
       "      <td>5.023513</td>\n",
       "      <td>5.418585</td>\n",
       "      <td>8.383406</td>\n",
       "      <td>8.635196</td>\n",
       "      <td>1</td>\n",
       "      <td>1</td>\n",
       "      <td>Mal</td>\n",
       "    </tr>\n",
       "    <tr>\n",
       "      <th>2</th>\n",
       "      <td>6.985317</td>\n",
       "      <td>8.050814</td>\n",
       "      <td>1.764348</td>\n",
       "      <td>7.805347</td>\n",
       "      <td>0</td>\n",
       "      <td>1</td>\n",
       "      <td>Médio</td>\n",
       "    </tr>\n",
       "    <tr>\n",
       "      <th>3</th>\n",
       "      <td>7.495009</td>\n",
       "      <td>6.697187</td>\n",
       "      <td>7.737681</td>\n",
       "      <td>6.041974</td>\n",
       "      <td>1</td>\n",
       "      <td>1</td>\n",
       "      <td>Médio</td>\n",
       "    </tr>\n",
       "    <tr>\n",
       "      <th>4</th>\n",
       "      <td>7.140715</td>\n",
       "      <td>8.036784</td>\n",
       "      <td>3.051088</td>\n",
       "      <td>5.262379</td>\n",
       "      <td>0</td>\n",
       "      <td>0</td>\n",
       "      <td>Médio</td>\n",
       "    </tr>\n",
       "    <tr>\n",
       "      <th>...</th>\n",
       "      <td>...</td>\n",
       "      <td>...</td>\n",
       "      <td>...</td>\n",
       "      <td>...</td>\n",
       "      <td>...</td>\n",
       "      <td>...</td>\n",
       "      <td>...</td>\n",
       "    </tr>\n",
       "    <tr>\n",
       "      <th>995</th>\n",
       "      <td>5.915413</td>\n",
       "      <td>6.088547</td>\n",
       "      <td>4.350494</td>\n",
       "      <td>4.759490</td>\n",
       "      <td>0</td>\n",
       "      <td>0</td>\n",
       "      <td>Mal</td>\n",
       "    </tr>\n",
       "    <tr>\n",
       "      <th>996</th>\n",
       "      <td>5.073801</td>\n",
       "      <td>5.739836</td>\n",
       "      <td>4.382063</td>\n",
       "      <td>0.538095</td>\n",
       "      <td>0</td>\n",
       "      <td>0</td>\n",
       "      <td>Mal</td>\n",
       "    </tr>\n",
       "    <tr>\n",
       "      <th>997</th>\n",
       "      <td>5.777425</td>\n",
       "      <td>4.936708</td>\n",
       "      <td>9.276650</td>\n",
       "      <td>0.697943</td>\n",
       "      <td>1</td>\n",
       "      <td>0</td>\n",
       "      <td>Mal</td>\n",
       "    </tr>\n",
       "    <tr>\n",
       "      <th>998</th>\n",
       "      <td>8.509269</td>\n",
       "      <td>8.566800</td>\n",
       "      <td>1.394659</td>\n",
       "      <td>4.237572</td>\n",
       "      <td>0</td>\n",
       "      <td>0</td>\n",
       "      <td>Bem</td>\n",
       "    </tr>\n",
       "    <tr>\n",
       "      <th>999</th>\n",
       "      <td>6.158849</td>\n",
       "      <td>6.306888</td>\n",
       "      <td>0.527864</td>\n",
       "      <td>5.823464</td>\n",
       "      <td>0</td>\n",
       "      <td>0</td>\n",
       "      <td>Mal</td>\n",
       "    </tr>\n",
       "  </tbody>\n",
       "</table>\n",
       "<p>1000 rows × 7 columns</p>\n",
       "</div>"
      ],
      "text/plain": [
       "     Media_Total  Coeficiente  Introducao_a_Programacao  Estrutura_de_Dados  \\\n",
       "0       9.990051     8.173498                  3.200457            3.930675   \n",
       "1       5.023513     5.418585                  8.383406            8.635196   \n",
       "2       6.985317     8.050814                  1.764348            7.805347   \n",
       "3       7.495009     6.697187                  7.737681            6.041974   \n",
       "4       7.140715     8.036784                  3.051088            5.262379   \n",
       "..           ...          ...                       ...                 ...   \n",
       "995     5.915413     6.088547                  4.350494            4.759490   \n",
       "996     5.073801     5.739836                  4.382063            0.538095   \n",
       "997     5.777425     4.936708                  9.276650            0.697943   \n",
       "998     8.509269     8.566800                  1.394659            4.237572   \n",
       "999     6.158849     6.306888                  0.527864            5.823464   \n",
       "\n",
       "     Introducao_a_Programacao_Aprovado  Estrutura_de_Dados_Aprovado Desempenho  \n",
       "0                                    0                            0        Bem  \n",
       "1                                    1                            1        Mal  \n",
       "2                                    0                            1      Médio  \n",
       "3                                    1                            1      Médio  \n",
       "4                                    0                            0      Médio  \n",
       "..                                 ...                          ...        ...  \n",
       "995                                  0                            0        Mal  \n",
       "996                                  0                            0        Mal  \n",
       "997                                  1                            0        Mal  \n",
       "998                                  0                            0        Bem  \n",
       "999                                  0                            0        Mal  \n",
       "\n",
       "[1000 rows x 7 columns]"
      ]
     },
     "execution_count": 2,
     "metadata": {},
     "output_type": "execute_result"
    }
   ],
   "source": [
    "# Especifique o caminho para o arquivo CSV\n",
    "caminho_arquivo_csv = \"../Dados/alunos_vet_ficticios.csv\"\n",
    "\n",
    "# Carregue o arquivo CSV em um DataFrame\n",
    "df = pd.read_csv(caminho_arquivo_csv)\n",
    "\n",
    "df"
   ]
  },
  {
   "cell_type": "markdown",
   "metadata": {},
   "source": [
    "### 1.1) Dividir os dados em recursos (X) e rótulos (y)"
   ]
  },
  {
   "cell_type": "code",
   "execution_count": 3,
   "metadata": {},
   "outputs": [],
   "source": [
    "X = df[['Media_Total', 'Coeficiente', 'Introducao_a_Programacao', 'Estrutura_de_Dados', 'Introducao_a_Programacao_Aprovado', 'Estrutura_de_Dados_Aprovado']]\n",
    "y = df['Desempenho']"
   ]
  },
  {
   "cell_type": "markdown",
   "metadata": {},
   "source": [
    "## 2) Divisão em dados de treinamento e teste"
   ]
  },
  {
   "cell_type": "code",
   "execution_count": 4,
   "metadata": {},
   "outputs": [],
   "source": [
    "X_train, X_test, y_train, y_test = train_test_split(X, y, test_size=0.3, random_state=42)\n",
    "\n",
    "# # Normalização dos dados\n",
    "# vectorizer = CountVectorizer()\n",
    "# X_train_vec = vectorizer.fit_transform(X_train)\n",
    "# X_test_vec = vectorizer.transform(X_test)"
   ]
  },
  {
   "cell_type": "markdown",
   "metadata": {},
   "source": [
    "## 3) Treinando modelo "
   ]
  },
  {
   "cell_type": "code",
   "execution_count": 5,
   "metadata": {},
   "outputs": [
    {
     "data": {
      "text/html": [
       "<style>#sk-container-id-1 {color: black;}#sk-container-id-1 pre{padding: 0;}#sk-container-id-1 div.sk-toggleable {background-color: white;}#sk-container-id-1 label.sk-toggleable__label {cursor: pointer;display: block;width: 100%;margin-bottom: 0;padding: 0.3em;box-sizing: border-box;text-align: center;}#sk-container-id-1 label.sk-toggleable__label-arrow:before {content: \"▸\";float: left;margin-right: 0.25em;color: #696969;}#sk-container-id-1 label.sk-toggleable__label-arrow:hover:before {color: black;}#sk-container-id-1 div.sk-estimator:hover label.sk-toggleable__label-arrow:before {color: black;}#sk-container-id-1 div.sk-toggleable__content {max-height: 0;max-width: 0;overflow: hidden;text-align: left;background-color: #f0f8ff;}#sk-container-id-1 div.sk-toggleable__content pre {margin: 0.2em;color: black;border-radius: 0.25em;background-color: #f0f8ff;}#sk-container-id-1 input.sk-toggleable__control:checked~div.sk-toggleable__content {max-height: 200px;max-width: 100%;overflow: auto;}#sk-container-id-1 input.sk-toggleable__control:checked~label.sk-toggleable__label-arrow:before {content: \"▾\";}#sk-container-id-1 div.sk-estimator input.sk-toggleable__control:checked~label.sk-toggleable__label {background-color: #d4ebff;}#sk-container-id-1 div.sk-label input.sk-toggleable__control:checked~label.sk-toggleable__label {background-color: #d4ebff;}#sk-container-id-1 input.sk-hidden--visually {border: 0;clip: rect(1px 1px 1px 1px);clip: rect(1px, 1px, 1px, 1px);height: 1px;margin: -1px;overflow: hidden;padding: 0;position: absolute;width: 1px;}#sk-container-id-1 div.sk-estimator {font-family: monospace;background-color: #f0f8ff;border: 1px dotted black;border-radius: 0.25em;box-sizing: border-box;margin-bottom: 0.5em;}#sk-container-id-1 div.sk-estimator:hover {background-color: #d4ebff;}#sk-container-id-1 div.sk-parallel-item::after {content: \"\";width: 100%;border-bottom: 1px solid gray;flex-grow: 1;}#sk-container-id-1 div.sk-label:hover label.sk-toggleable__label {background-color: #d4ebff;}#sk-container-id-1 div.sk-serial::before {content: \"\";position: absolute;border-left: 1px solid gray;box-sizing: border-box;top: 0;bottom: 0;left: 50%;z-index: 0;}#sk-container-id-1 div.sk-serial {display: flex;flex-direction: column;align-items: center;background-color: white;padding-right: 0.2em;padding-left: 0.2em;position: relative;}#sk-container-id-1 div.sk-item {position: relative;z-index: 1;}#sk-container-id-1 div.sk-parallel {display: flex;align-items: stretch;justify-content: center;background-color: white;position: relative;}#sk-container-id-1 div.sk-item::before, #sk-container-id-1 div.sk-parallel-item::before {content: \"\";position: absolute;border-left: 1px solid gray;box-sizing: border-box;top: 0;bottom: 0;left: 50%;z-index: -1;}#sk-container-id-1 div.sk-parallel-item {display: flex;flex-direction: column;z-index: 1;position: relative;background-color: white;}#sk-container-id-1 div.sk-parallel-item:first-child::after {align-self: flex-end;width: 50%;}#sk-container-id-1 div.sk-parallel-item:last-child::after {align-self: flex-start;width: 50%;}#sk-container-id-1 div.sk-parallel-item:only-child::after {width: 0;}#sk-container-id-1 div.sk-dashed-wrapped {border: 1px dashed gray;margin: 0 0.4em 0.5em 0.4em;box-sizing: border-box;padding-bottom: 0.4em;background-color: white;}#sk-container-id-1 div.sk-label label {font-family: monospace;font-weight: bold;display: inline-block;line-height: 1.2em;}#sk-container-id-1 div.sk-label-container {text-align: center;}#sk-container-id-1 div.sk-container {/* jupyter's `normalize.less` sets `[hidden] { display: none; }` but bootstrap.min.css set `[hidden] { display: none !important; }` so we also need the `!important` here to be able to override the default hidden behavior on the sphinx rendered scikit-learn.org. See: https://github.com/scikit-learn/scikit-learn/issues/21755 */display: inline-block !important;position: relative;}#sk-container-id-1 div.sk-text-repr-fallback {display: none;}</style><div id=\"sk-container-id-1\" class=\"sk-top-container\"><div class=\"sk-text-repr-fallback\"><pre>GaussianNB()</pre><b>In a Jupyter environment, please rerun this cell to show the HTML representation or trust the notebook. <br />On GitHub, the HTML representation is unable to render, please try loading this page with nbviewer.org.</b></div><div class=\"sk-container\" hidden><div class=\"sk-item\"><div class=\"sk-estimator sk-toggleable\"><input class=\"sk-toggleable__control sk-hidden--visually\" id=\"sk-estimator-id-1\" type=\"checkbox\" checked><label for=\"sk-estimator-id-1\" class=\"sk-toggleable__label sk-toggleable__label-arrow\">GaussianNB</label><div class=\"sk-toggleable__content\"><pre>GaussianNB()</pre></div></div></div></div></div>"
      ],
      "text/plain": [
       "GaussianNB()"
      ]
     },
     "execution_count": 5,
     "metadata": {},
     "output_type": "execute_result"
    }
   ],
   "source": [
    "# Ajuste de hiperparâmetros usando GridSearchCV\n",
    "param_grid = {\n",
    "     'priors': [None, [0.2, 0.3, 0.5]], # Teste diferentes prior probabilities para classes\n",
    "}\n",
    "\n",
    "# Ajuste de hiperparâmetros usando GridSearchCV\n",
    "grid_search = GridSearchCV(GaussianNB(), param_grid, cv=5, scoring='accuracy')\n",
    "grid_search.fit(X_train, y_train)\n",
    "\n",
    "best_naive_bayes = grid_search.best_estimator_\n",
    "\n",
    "# Treinamento do modelo Naive Bayes Multinomial com os melhores hiperparâmetros encontrados\n",
    "best_naive_bayes.fit(X_train, y_train)"
   ]
  },
  {
   "cell_type": "markdown",
   "metadata": {},
   "source": [
    "## 4) Predição"
   ]
  },
  {
   "cell_type": "code",
   "execution_count": 6,
   "metadata": {},
   "outputs": [],
   "source": [
    "y_pred = best_naive_bayes.predict(X_test)"
   ]
  },
  {
   "cell_type": "markdown",
   "metadata": {},
   "source": [
    "## 5) Matriz Confusão"
   ]
  },
  {
   "cell_type": "code",
   "execution_count": 7,
   "metadata": {},
   "outputs": [
    {
     "data": {
      "image/png": "[encoded data removed]",
      "text/plain": [
       "<Figure size 800x600 with 2 Axes>"
      ]
     },
     "metadata": {},
     "output_type": "display_data"
    }
   ],
   "source": [
    "# Calcule a matriz de confusão\n",
    "cm = confusion_matrix(y_test, y_pred)  # Substitua y_test e y_pred pelos seus dados reais e previstos\n",
    "\n",
    "# Crie uma visualização da matriz de confusão\n",
    "plt.figure(figsize=(8, 6))\n",
    "sns.heatmap(cm, annot=True, fmt=\"d\", cmap=\"Blues\", xticklabels=['Bem', 'Médio', 'Mal'], yticklabels=['Bem', 'Médio', 'Mal'])\n",
    "plt.xlabel('Predito')\n",
    "plt.ylabel('Real')\n",
    "plt.title('Matriz de Confusão')\n",
    "plt.show()"
   ]
  },
  {
   "cell_type": "markdown",
   "metadata": {},
   "source": [
    "## 6) Métricas de eficácia"
   ]
  },
  {
   "cell_type": "code",
   "execution_count": 8,
   "metadata": {},
   "outputs": [
    {
     "name": "stdout",
     "output_type": "stream",
     "text": [
      "Melhores Hiperparâmetros Encontrados: {'priors': None}\n",
      "----------------------------------------------------------------\n",
      "\n",
      "Acurácia do teste: 0.8733333333333333\n",
      "----------------------------------------------------------------\n",
      "\n",
      "Relatório de Classificação:\n",
      "              precision    recall  f1-score   support\n",
      "\n",
      "         Bem       0.92      0.92      0.92       136\n",
      "         Mal       0.85      0.80      0.82        85\n",
      "       Médio       0.82      0.87      0.85        79\n",
      "\n",
      "    accuracy                           0.87       300\n",
      "   macro avg       0.86      0.86      0.86       300\n",
      "weighted avg       0.87      0.87      0.87       300\n",
      "\n"
     ]
    }
   ],
   "source": [
    "print(f'Melhores Hiperparâmetros Encontrados: {grid_search.best_params_}')\n",
    "\n",
    "print(\"----------------------------------------------------------------\\n\")\n",
    "accuracy = accuracy_score(y_test, y_pred)  \n",
    "print(f'Acurácia do teste: {accuracy}')\n",
    "\n",
    "print(\"----------------------------------------------------------------\\n\")\n",
    "classification_rep = classification_report(y_test, y_pred)\n",
    "print(f'Relatório de Classificação:\\n{classification_rep}')\n",
    "\n",
    "# precision = precision_score(y_test, y_pred)  # Substitua y_test e y_pred pelos seus dados reais e previstos\n",
    "# print(f'Precisão: {precision}')\n",
    "\n",
    "# recall = recall_score(y_test, y_pred)  # Substitua y_test e y_pred pelos seus dados reais e previstos\n",
    "# print(f'Recall: {recall}')\n",
    "\n",
    "# f1 = f1_score(y_test, y_pred)  # Substitua y_test e y_pred pelos seus dados reais e previstos\n",
    "# print(f'Medida F: {f1}')"
   ]
  }
 ],
 "metadata": {
  "kernelspec": {
   "display_name": "Python 3",
   "language": "python",
   "name": "python3"
  },
  "language_info": {
   "codemirror_mode": {
    "name": "ipython",
    "version": 3
   },
   "file_extension": ".py",
   "mimetype": "text/x-python",
   "name": "python",
   "nbconvert_exporter": "python",
   "pygments_lexer": "ipython3",
   "version": "3.10.11"
  }
 },
 "nbformat": 4,
 "nbformat_minor": 2
}
