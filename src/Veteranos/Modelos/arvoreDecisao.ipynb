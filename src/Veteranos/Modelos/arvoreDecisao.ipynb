{
 "cells": [
  {
   "cell_type": "code",
   "execution_count": 21,
   "metadata": {},
   "outputs": [],
   "source": [
    "import numpy as np\n",
    "import pandas as pd\n",
    "from tabulate import tabulate\n",
    "\n",
    "from sklearn.model_selection import GridSearchCV\n",
    "from sklearn.tree import DecisionTreeClassifier\n",
    "from sklearn.metrics import confusion_matrix, accuracy_score, precision_score, recall_score, f1_score, classification_report\n",
    "\n",
    "import matplotlib.pyplot as plt\n",
    "import seaborn as sns"
   ]
  },
  {
   "cell_type": "markdown",
   "metadata": {},
   "source": [
    "## 1) Carregar os dados de treinamento e teste"
   ]
  },
  {
   "cell_type": "code",
   "execution_count": 22,
   "metadata": {},
   "outputs": [],
   "source": [
    "# Carregar os dados de treinamento e teste\n",
    "X_train = pd.read_csv('../Dados/ModelosSimples/X_train.csv')\n",
    "y_train = pd.read_csv('../Dados/ModelosSimples/y_train.csv')\n",
    "X_test = pd.read_csv('../Dados/ModelosSimples/X_test.csv')\n",
    "y_test = pd.read_csv('../Dados/ModelosSimples/y_test.csv')\n",
    "\n",
    "# Converter y_train e y_test em vetores 1D\n",
    "y_train = y_train.values.ravel()\n",
    "y_test = y_test.values.ravel()"
   ]
  },
  {
   "cell_type": "markdown",
   "metadata": {},
   "source": [
    "## 2) Treinando modelo "
   ]
  },
  {
   "cell_type": "code",
   "execution_count": 23,
   "metadata": {},
   "outputs": [
    {
     "data": {
      "text/html": [
       "<style>#sk-container-id-5 {color: black;}#sk-container-id-5 pre{padding: 0;}#sk-container-id-5 div.sk-toggleable {background-color: white;}#sk-container-id-5 label.sk-toggleable__label {cursor: pointer;display: block;width: 100%;margin-bottom: 0;padding: 0.3em;box-sizing: border-box;text-align: center;}#sk-container-id-5 label.sk-toggleable__label-arrow:before {content: \"▸\";float: left;margin-right: 0.25em;color: #696969;}#sk-container-id-5 label.sk-toggleable__label-arrow:hover:before {color: black;}#sk-container-id-5 div.sk-estimator:hover label.sk-toggleable__label-arrow:before {color: black;}#sk-container-id-5 div.sk-toggleable__content {max-height: 0;max-width: 0;overflow: hidden;text-align: left;background-color: #f0f8ff;}#sk-container-id-5 div.sk-toggleable__content pre {margin: 0.2em;color: black;border-radius: 0.25em;background-color: #f0f8ff;}#sk-container-id-5 input.sk-toggleable__control:checked~div.sk-toggleable__content {max-height: 200px;max-width: 100%;overflow: auto;}#sk-container-id-5 input.sk-toggleable__control:checked~label.sk-toggleable__label-arrow:before {content: \"▾\";}#sk-container-id-5 div.sk-estimator input.sk-toggleable__control:checked~label.sk-toggleable__label {background-color: #d4ebff;}#sk-container-id-5 div.sk-label input.sk-toggleable__control:checked~label.sk-toggleable__label {background-color: #d4ebff;}#sk-container-id-5 input.sk-hidden--visually {border: 0;clip: rect(1px 1px 1px 1px);clip: rect(1px, 1px, 1px, 1px);height: 1px;margin: -1px;overflow: hidden;padding: 0;position: absolute;width: 1px;}#sk-container-id-5 div.sk-estimator {font-family: monospace;background-color: #f0f8ff;border: 1px dotted black;border-radius: 0.25em;box-sizing: border-box;margin-bottom: 0.5em;}#sk-container-id-5 div.sk-estimator:hover {background-color: #d4ebff;}#sk-container-id-5 div.sk-parallel-item::after {content: \"\";width: 100%;border-bottom: 1px solid gray;flex-grow: 1;}#sk-container-id-5 div.sk-label:hover label.sk-toggleable__label {background-color: #d4ebff;}#sk-container-id-5 div.sk-serial::before {content: \"\";position: absolute;border-left: 1px solid gray;box-sizing: border-box;top: 0;bottom: 0;left: 50%;z-index: 0;}#sk-container-id-5 div.sk-serial {display: flex;flex-direction: column;align-items: center;background-color: white;padding-right: 0.2em;padding-left: 0.2em;position: relative;}#sk-container-id-5 div.sk-item {position: relative;z-index: 1;}#sk-container-id-5 div.sk-parallel {display: flex;align-items: stretch;justify-content: center;background-color: white;position: relative;}#sk-container-id-5 div.sk-item::before, #sk-container-id-5 div.sk-parallel-item::before {content: \"\";position: absolute;border-left: 1px solid gray;box-sizing: border-box;top: 0;bottom: 0;left: 50%;z-index: -1;}#sk-container-id-5 div.sk-parallel-item {display: flex;flex-direction: column;z-index: 1;position: relative;background-color: white;}#sk-container-id-5 div.sk-parallel-item:first-child::after {align-self: flex-end;width: 50%;}#sk-container-id-5 div.sk-parallel-item:last-child::after {align-self: flex-start;width: 50%;}#sk-container-id-5 div.sk-parallel-item:only-child::after {width: 0;}#sk-container-id-5 div.sk-dashed-wrapped {border: 1px dashed gray;margin: 0 0.4em 0.5em 0.4em;box-sizing: border-box;padding-bottom: 0.4em;background-color: white;}#sk-container-id-5 div.sk-label label {font-family: monospace;font-weight: bold;display: inline-block;line-height: 1.2em;}#sk-container-id-5 div.sk-label-container {text-align: center;}#sk-container-id-5 div.sk-container {/* jupyter's `normalize.less` sets `[hidden] { display: none; }` but bootstrap.min.css set `[hidden] { display: none !important; }` so we also need the `!important` here to be able to override the default hidden behavior on the sphinx rendered scikit-learn.org. See: https://github.com/scikit-learn/scikit-learn/issues/21755 */display: inline-block !important;position: relative;}#sk-container-id-5 div.sk-text-repr-fallback {display: none;}</style><div id=\"sk-container-id-5\" class=\"sk-top-container\"><div class=\"sk-text-repr-fallback\"><pre>GridSearchCV(cv=5, estimator=DecisionTreeClassifier(random_state=42),\n",
       "             param_grid={&#x27;criterion&#x27;: [&#x27;gini&#x27;, &#x27;entropy&#x27;],\n",
       "                         &#x27;max_depth&#x27;: [None, 10, 20, 30],\n",
       "                         &#x27;min_samples_leaf&#x27;: [1, 2, 4],\n",
       "                         &#x27;min_samples_split&#x27;: [2, 4, 5, 10]},\n",
       "             return_train_score=True, scoring=&#x27;accuracy&#x27;)</pre><b>In a Jupyter environment, please rerun this cell to show the HTML representation or trust the notebook. <br />On GitHub, the HTML representation is unable to render, please try loading this page with nbviewer.org.</b></div><div class=\"sk-container\" hidden><div class=\"sk-item sk-dashed-wrapped\"><div class=\"sk-label-container\"><div class=\"sk-label sk-toggleable\"><input class=\"sk-toggleable__control sk-hidden--visually\" id=\"sk-estimator-id-9\" type=\"checkbox\" ><label for=\"sk-estimator-id-9\" class=\"sk-toggleable__label sk-toggleable__label-arrow\">GridSearchCV</label><div class=\"sk-toggleable__content\"><pre>GridSearchCV(cv=5, estimator=DecisionTreeClassifier(random_state=42),\n",
       "             param_grid={&#x27;criterion&#x27;: [&#x27;gini&#x27;, &#x27;entropy&#x27;],\n",
       "                         &#x27;max_depth&#x27;: [None, 10, 20, 30],\n",
       "                         &#x27;min_samples_leaf&#x27;: [1, 2, 4],\n",
       "                         &#x27;min_samples_split&#x27;: [2, 4, 5, 10]},\n",
       "             return_train_score=True, scoring=&#x27;accuracy&#x27;)</pre></div></div></div><div class=\"sk-parallel\"><div class=\"sk-parallel-item\"><div class=\"sk-item\"><div class=\"sk-label-container\"><div class=\"sk-label sk-toggleable\"><input class=\"sk-toggleable__control sk-hidden--visually\" id=\"sk-estimator-id-10\" type=\"checkbox\" ><label for=\"sk-estimator-id-10\" class=\"sk-toggleable__label sk-toggleable__label-arrow\">estimator: DecisionTreeClassifier</label><div class=\"sk-toggleable__content\"><pre>DecisionTreeClassifier(random_state=42)</pre></div></div></div><div class=\"sk-serial\"><div class=\"sk-item\"><div class=\"sk-estimator sk-toggleable\"><input class=\"sk-toggleable__control sk-hidden--visually\" id=\"sk-estimator-id-11\" type=\"checkbox\" ><label for=\"sk-estimator-id-11\" class=\"sk-toggleable__label sk-toggleable__label-arrow\">DecisionTreeClassifier</label><div class=\"sk-toggleable__content\"><pre>DecisionTreeClassifier(random_state=42)</pre></div></div></div></div></div></div></div></div></div></div>"
      ],
      "text/plain": [
       "GridSearchCV(cv=5, estimator=DecisionTreeClassifier(random_state=42),\n",
       "             param_grid={'criterion': ['gini', 'entropy'],\n",
       "                         'max_depth': [None, 10, 20, 30],\n",
       "                         'min_samples_leaf': [1, 2, 4],\n",
       "                         'min_samples_split': [2, 4, 5, 10]},\n",
       "             return_train_score=True, scoring='accuracy')"
      ]
     },
     "execution_count": 23,
     "metadata": {},
     "output_type": "execute_result"
    }
   ],
   "source": [
    "param_grid = {\n",
    "    'criterion': ['gini', 'entropy'],  # Teste diferentes critérios de divisão\n",
    "    'max_depth': [None, 10, 20, 30],  # Teste diferentes profundidades máximas da árvore\n",
    "    'min_samples_split': [2, 4, 5, 10],  # Teste diferentes valores mínimos para dividir um nó\n",
    "    'min_samples_leaf': [1, 2, 4]  # Teste diferentes valores mínimos para folhas\n",
    "}\n",
    "\n",
    "grid_search = GridSearchCV(DecisionTreeClassifier(random_state=42), param_grid, cv=5, scoring='accuracy', return_train_score=True)\n",
    "\n",
    "grid_search.fit(X_train, y_train)"
   ]
  },
  {
   "cell_type": "markdown",
   "metadata": {},
   "source": [
    "### 2.1) Tabela comparativa para todas combinações"
   ]
  },
  {
   "cell_type": "code",
   "execution_count": 24,
   "metadata": {},
   "outputs": [
    {
     "name": "stdout",
     "output_type": "stream",
     "text": [
      "╒══════════════╤═════════════════════════════════════════════════════════════════════════════════════════════╤═══════════════╤════════════════════╕\n",
      "│ Combinação   │ Hiperparâmetros                                                                             │ Train Score   │ Validation Score   │\n",
      "╞══════════════╪═════════════════════════════════════════════════════════════════════════════════════════════╪═══════════════╪════════════════════╡\n",
      "│ 1            │ {'criterion': 'gini', 'max_depth': None, 'min_samples_leaf': 1, 'min_samples_split': 2}     │ 1             │ 0.99               │\n",
      "├──────────────┼─────────────────────────────────────────────────────────────────────────────────────────────┼───────────────┼────────────────────┤\n",
      "│ 2            │ {'criterion': 'gini', 'max_depth': None, 'min_samples_leaf': 1, 'min_samples_split': 4}     │ 1             │ 0.99               │\n",
      "├──────────────┼─────────────────────────────────────────────────────────────────────────────────────────────┼───────────────┼────────────────────┤\n",
      "│ 3            │ {'criterion': 'gini', 'max_depth': None, 'min_samples_leaf': 1, 'min_samples_split': 5}     │ 1             │ 0.99               │\n",
      "├──────────────┼─────────────────────────────────────────────────────────────────────────────────────────────┼───────────────┼────────────────────┤\n",
      "│ 4            │ {'criterion': 'gini', 'max_depth': None, 'min_samples_leaf': 1, 'min_samples_split': 10}    │ 1             │ 0.99               │\n",
      "├──────────────┼─────────────────────────────────────────────────────────────────────────────────────────────┼───────────────┼────────────────────┤\n",
      "│ 5            │ {'criterion': 'gini', 'max_depth': None, 'min_samples_leaf': 2, 'min_samples_split': 2}     │ 0.999643      │ 0.988571           │\n",
      "├──────────────┼─────────────────────────────────────────────────────────────────────────────────────────────┼───────────────┼────────────────────┤\n",
      "│ 6            │ {'criterion': 'gini', 'max_depth': None, 'min_samples_leaf': 2, 'min_samples_split': 4}     │ 0.999643      │ 0.988571           │\n",
      "├──────────────┼─────────────────────────────────────────────────────────────────────────────────────────────┼───────────────┼────────────────────┤\n",
      "│ 7            │ {'criterion': 'gini', 'max_depth': None, 'min_samples_leaf': 2, 'min_samples_split': 5}     │ 0.999643      │ 0.988571           │\n",
      "├──────────────┼─────────────────────────────────────────────────────────────────────────────────────────────┼───────────────┼────────────────────┤\n",
      "│ 8            │ {'criterion': 'gini', 'max_depth': None, 'min_samples_leaf': 2, 'min_samples_split': 10}    │ 0.999643      │ 0.988571           │\n",
      "├──────────────┼─────────────────────────────────────────────────────────────────────────────────────────────┼───────────────┼────────────────────┤\n",
      "│ 9            │ {'criterion': 'gini', 'max_depth': None, 'min_samples_leaf': 4, 'min_samples_split': 2}     │ 0.995         │ 0.982857           │\n",
      "├──────────────┼─────────────────────────────────────────────────────────────────────────────────────────────┼───────────────┼────────────────────┤\n",
      "│ 10           │ {'criterion': 'gini', 'max_depth': None, 'min_samples_leaf': 4, 'min_samples_split': 4}     │ 0.995         │ 0.982857           │\n",
      "├──────────────┼─────────────────────────────────────────────────────────────────────────────────────────────┼───────────────┼────────────────────┤\n",
      "│ 11           │ {'criterion': 'gini', 'max_depth': None, 'min_samples_leaf': 4, 'min_samples_split': 5}     │ 0.995         │ 0.982857           │\n",
      "├──────────────┼─────────────────────────────────────────────────────────────────────────────────────────────┼───────────────┼────────────────────┤\n",
      "│ 12           │ {'criterion': 'gini', 'max_depth': None, 'min_samples_leaf': 4, 'min_samples_split': 10}    │ 0.995         │ 0.982857           │\n",
      "├──────────────┼─────────────────────────────────────────────────────────────────────────────────────────────┼───────────────┼────────────────────┤\n",
      "│ 13           │ {'criterion': 'gini', 'max_depth': 10, 'min_samples_leaf': 1, 'min_samples_split': 2}       │ 1             │ 0.99               │\n",
      "├──────────────┼─────────────────────────────────────────────────────────────────────────────────────────────┼───────────────┼────────────────────┤\n",
      "│ 14           │ {'criterion': 'gini', 'max_depth': 10, 'min_samples_leaf': 1, 'min_samples_split': 4}       │ 1             │ 0.99               │\n",
      "├──────────────┼─────────────────────────────────────────────────────────────────────────────────────────────┼───────────────┼────────────────────┤\n",
      "│ 15           │ {'criterion': 'gini', 'max_depth': 10, 'min_samples_leaf': 1, 'min_samples_split': 5}       │ 1             │ 0.99               │\n",
      "├──────────────┼─────────────────────────────────────────────────────────────────────────────────────────────┼───────────────┼────────────────────┤\n",
      "│ 16           │ {'criterion': 'gini', 'max_depth': 10, 'min_samples_leaf': 1, 'min_samples_split': 10}      │ 1             │ 0.99               │\n",
      "├──────────────┼─────────────────────────────────────────────────────────────────────────────────────────────┼───────────────┼────────────────────┤\n",
      "│ 17           │ {'criterion': 'gini', 'max_depth': 10, 'min_samples_leaf': 2, 'min_samples_split': 2}       │ 0.999643      │ 0.988571           │\n",
      "├──────────────┼─────────────────────────────────────────────────────────────────────────────────────────────┼───────────────┼────────────────────┤\n",
      "│ 18           │ {'criterion': 'gini', 'max_depth': 10, 'min_samples_leaf': 2, 'min_samples_split': 4}       │ 0.999643      │ 0.988571           │\n",
      "├──────────────┼─────────────────────────────────────────────────────────────────────────────────────────────┼───────────────┼────────────────────┤\n",
      "│ 19           │ {'criterion': 'gini', 'max_depth': 10, 'min_samples_leaf': 2, 'min_samples_split': 5}       │ 0.999643      │ 0.988571           │\n",
      "├──────────────┼─────────────────────────────────────────────────────────────────────────────────────────────┼───────────────┼────────────────────┤\n",
      "│ 20           │ {'criterion': 'gini', 'max_depth': 10, 'min_samples_leaf': 2, 'min_samples_split': 10}      │ 0.999643      │ 0.988571           │\n",
      "├──────────────┼─────────────────────────────────────────────────────────────────────────────────────────────┼───────────────┼────────────────────┤\n",
      "│ 21           │ {'criterion': 'gini', 'max_depth': 10, 'min_samples_leaf': 4, 'min_samples_split': 2}       │ 0.995         │ 0.982857           │\n",
      "├──────────────┼─────────────────────────────────────────────────────────────────────────────────────────────┼───────────────┼────────────────────┤\n",
      "│ 22           │ {'criterion': 'gini', 'max_depth': 10, 'min_samples_leaf': 4, 'min_samples_split': 4}       │ 0.995         │ 0.982857           │\n",
      "├──────────────┼─────────────────────────────────────────────────────────────────────────────────────────────┼───────────────┼────────────────────┤\n",
      "│ 23           │ {'criterion': 'gini', 'max_depth': 10, 'min_samples_leaf': 4, 'min_samples_split': 5}       │ 0.995         │ 0.982857           │\n",
      "├──────────────┼─────────────────────────────────────────────────────────────────────────────────────────────┼───────────────┼────────────────────┤\n",
      "│ 24           │ {'criterion': 'gini', 'max_depth': 10, 'min_samples_leaf': 4, 'min_samples_split': 10}      │ 0.995         │ 0.982857           │\n",
      "├──────────────┼─────────────────────────────────────────────────────────────────────────────────────────────┼───────────────┼────────────────────┤\n",
      "│ 25           │ {'criterion': 'gini', 'max_depth': 20, 'min_samples_leaf': 1, 'min_samples_split': 2}       │ 1             │ 0.99               │\n",
      "├──────────────┼─────────────────────────────────────────────────────────────────────────────────────────────┼───────────────┼────────────────────┤\n",
      "│ 26           │ {'criterion': 'gini', 'max_depth': 20, 'min_samples_leaf': 1, 'min_samples_split': 4}       │ 1             │ 0.99               │\n",
      "├──────────────┼─────────────────────────────────────────────────────────────────────────────────────────────┼───────────────┼────────────────────┤\n",
      "│ 27           │ {'criterion': 'gini', 'max_depth': 20, 'min_samples_leaf': 1, 'min_samples_split': 5}       │ 1             │ 0.99               │\n",
      "├──────────────┼─────────────────────────────────────────────────────────────────────────────────────────────┼───────────────┼────────────────────┤\n",
      "│ 28           │ {'criterion': 'gini', 'max_depth': 20, 'min_samples_leaf': 1, 'min_samples_split': 10}      │ 1             │ 0.99               │\n",
      "├──────────────┼─────────────────────────────────────────────────────────────────────────────────────────────┼───────────────┼────────────────────┤\n",
      "│ 29           │ {'criterion': 'gini', 'max_depth': 20, 'min_samples_leaf': 2, 'min_samples_split': 2}       │ 0.999643      │ 0.988571           │\n",
      "├──────────────┼─────────────────────────────────────────────────────────────────────────────────────────────┼───────────────┼────────────────────┤\n",
      "│ 30           │ {'criterion': 'gini', 'max_depth': 20, 'min_samples_leaf': 2, 'min_samples_split': 4}       │ 0.999643      │ 0.988571           │\n",
      "├──────────────┼─────────────────────────────────────────────────────────────────────────────────────────────┼───────────────┼────────────────────┤\n",
      "│ 31           │ {'criterion': 'gini', 'max_depth': 20, 'min_samples_leaf': 2, 'min_samples_split': 5}       │ 0.999643      │ 0.988571           │\n",
      "├──────────────┼─────────────────────────────────────────────────────────────────────────────────────────────┼───────────────┼────────────────────┤\n",
      "│ 32           │ {'criterion': 'gini', 'max_depth': 20, 'min_samples_leaf': 2, 'min_samples_split': 10}      │ 0.999643      │ 0.988571           │\n",
      "├──────────────┼─────────────────────────────────────────────────────────────────────────────────────────────┼───────────────┼────────────────────┤\n",
      "│ 33           │ {'criterion': 'gini', 'max_depth': 20, 'min_samples_leaf': 4, 'min_samples_split': 2}       │ 0.995         │ 0.982857           │\n",
      "├──────────────┼─────────────────────────────────────────────────────────────────────────────────────────────┼───────────────┼────────────────────┤\n",
      "│ 34           │ {'criterion': 'gini', 'max_depth': 20, 'min_samples_leaf': 4, 'min_samples_split': 4}       │ 0.995         │ 0.982857           │\n",
      "├──────────────┼─────────────────────────────────────────────────────────────────────────────────────────────┼───────────────┼────────────────────┤\n",
      "│ 35           │ {'criterion': 'gini', 'max_depth': 20, 'min_samples_leaf': 4, 'min_samples_split': 5}       │ 0.995         │ 0.982857           │\n",
      "├──────────────┼─────────────────────────────────────────────────────────────────────────────────────────────┼───────────────┼────────────────────┤\n",
      "│ 36           │ {'criterion': 'gini', 'max_depth': 20, 'min_samples_leaf': 4, 'min_samples_split': 10}      │ 0.995         │ 0.982857           │\n",
      "├──────────────┼─────────────────────────────────────────────────────────────────────────────────────────────┼───────────────┼────────────────────┤\n",
      "│ 37           │ {'criterion': 'gini', 'max_depth': 30, 'min_samples_leaf': 1, 'min_samples_split': 2}       │ 1             │ 0.99               │\n",
      "├──────────────┼─────────────────────────────────────────────────────────────────────────────────────────────┼───────────────┼────────────────────┤\n",
      "│ 38           │ {'criterion': 'gini', 'max_depth': 30, 'min_samples_leaf': 1, 'min_samples_split': 4}       │ 1             │ 0.99               │\n",
      "├──────────────┼─────────────────────────────────────────────────────────────────────────────────────────────┼───────────────┼────────────────────┤\n",
      "│ 39           │ {'criterion': 'gini', 'max_depth': 30, 'min_samples_leaf': 1, 'min_samples_split': 5}       │ 1             │ 0.99               │\n",
      "├──────────────┼─────────────────────────────────────────────────────────────────────────────────────────────┼───────────────┼────────────────────┤\n",
      "│ 40           │ {'criterion': 'gini', 'max_depth': 30, 'min_samples_leaf': 1, 'min_samples_split': 10}      │ 1             │ 0.99               │\n",
      "├──────────────┼─────────────────────────────────────────────────────────────────────────────────────────────┼───────────────┼────────────────────┤\n",
      "│ 41           │ {'criterion': 'gini', 'max_depth': 30, 'min_samples_leaf': 2, 'min_samples_split': 2}       │ 0.999643      │ 0.988571           │\n",
      "├──────────────┼─────────────────────────────────────────────────────────────────────────────────────────────┼───────────────┼────────────────────┤\n",
      "│ 42           │ {'criterion': 'gini', 'max_depth': 30, 'min_samples_leaf': 2, 'min_samples_split': 4}       │ 0.999643      │ 0.988571           │\n",
      "├──────────────┼─────────────────────────────────────────────────────────────────────────────────────────────┼───────────────┼────────────────────┤\n",
      "│ 43           │ {'criterion': 'gini', 'max_depth': 30, 'min_samples_leaf': 2, 'min_samples_split': 5}       │ 0.999643      │ 0.988571           │\n",
      "├──────────────┼─────────────────────────────────────────────────────────────────────────────────────────────┼───────────────┼────────────────────┤\n",
      "│ 44           │ {'criterion': 'gini', 'max_depth': 30, 'min_samples_leaf': 2, 'min_samples_split': 10}      │ 0.999643      │ 0.988571           │\n",
      "├──────────────┼─────────────────────────────────────────────────────────────────────────────────────────────┼───────────────┼────────────────────┤\n",
      "│ 45           │ {'criterion': 'gini', 'max_depth': 30, 'min_samples_leaf': 4, 'min_samples_split': 2}       │ 0.995         │ 0.982857           │\n",
      "├──────────────┼─────────────────────────────────────────────────────────────────────────────────────────────┼───────────────┼────────────────────┤\n",
      "│ 46           │ {'criterion': 'gini', 'max_depth': 30, 'min_samples_leaf': 4, 'min_samples_split': 4}       │ 0.995         │ 0.982857           │\n",
      "├──────────────┼─────────────────────────────────────────────────────────────────────────────────────────────┼───────────────┼────────────────────┤\n",
      "│ 47           │ {'criterion': 'gini', 'max_depth': 30, 'min_samples_leaf': 4, 'min_samples_split': 5}       │ 0.995         │ 0.982857           │\n",
      "├──────────────┼─────────────────────────────────────────────────────────────────────────────────────────────┼───────────────┼────────────────────┤\n",
      "│ 48           │ {'criterion': 'gini', 'max_depth': 30, 'min_samples_leaf': 4, 'min_samples_split': 10}      │ 0.995         │ 0.982857           │\n",
      "├──────────────┼─────────────────────────────────────────────────────────────────────────────────────────────┼───────────────┼────────────────────┤\n",
      "│ 49           │ {'criterion': 'entropy', 'max_depth': None, 'min_samples_leaf': 1, 'min_samples_split': 2}  │ 1             │ 0.99               │\n",
      "├──────────────┼─────────────────────────────────────────────────────────────────────────────────────────────┼───────────────┼────────────────────┤\n",
      "│ 50           │ {'criterion': 'entropy', 'max_depth': None, 'min_samples_leaf': 1, 'min_samples_split': 4}  │ 1             │ 0.99               │\n",
      "├──────────────┼─────────────────────────────────────────────────────────────────────────────────────────────┼───────────────┼────────────────────┤\n",
      "│ 51           │ {'criterion': 'entropy', 'max_depth': None, 'min_samples_leaf': 1, 'min_samples_split': 5}  │ 1             │ 0.99               │\n",
      "├──────────────┼─────────────────────────────────────────────────────────────────────────────────────────────┼───────────────┼────────────────────┤\n",
      "│ 52           │ {'criterion': 'entropy', 'max_depth': None, 'min_samples_leaf': 1, 'min_samples_split': 10} │ 1             │ 0.99               │\n",
      "├──────────────┼─────────────────────────────────────────────────────────────────────────────────────────────┼───────────────┼────────────────────┤\n",
      "│ 53           │ {'criterion': 'entropy', 'max_depth': None, 'min_samples_leaf': 2, 'min_samples_split': 2}  │ 0.999643      │ 0.988571           │\n",
      "├──────────────┼─────────────────────────────────────────────────────────────────────────────────────────────┼───────────────┼────────────────────┤\n",
      "│ 54           │ {'criterion': 'entropy', 'max_depth': None, 'min_samples_leaf': 2, 'min_samples_split': 4}  │ 0.999643      │ 0.988571           │\n",
      "├──────────────┼─────────────────────────────────────────────────────────────────────────────────────────────┼───────────────┼────────────────────┤\n",
      "│ 55           │ {'criterion': 'entropy', 'max_depth': None, 'min_samples_leaf': 2, 'min_samples_split': 5}  │ 0.999643      │ 0.988571           │\n",
      "├──────────────┼─────────────────────────────────────────────────────────────────────────────────────────────┼───────────────┼────────────────────┤\n",
      "│ 56           │ {'criterion': 'entropy', 'max_depth': None, 'min_samples_leaf': 2, 'min_samples_split': 10} │ 0.999643      │ 0.988571           │\n",
      "├──────────────┼─────────────────────────────────────────────────────────────────────────────────────────────┼───────────────┼────────────────────┤\n",
      "│ 57           │ {'criterion': 'entropy', 'max_depth': None, 'min_samples_leaf': 4, 'min_samples_split': 2}  │ 0.995         │ 0.982857           │\n",
      "├──────────────┼─────────────────────────────────────────────────────────────────────────────────────────────┼───────────────┼────────────────────┤\n",
      "│ 58           │ {'criterion': 'entropy', 'max_depth': None, 'min_samples_leaf': 4, 'min_samples_split': 4}  │ 0.995         │ 0.982857           │\n",
      "├──────────────┼─────────────────────────────────────────────────────────────────────────────────────────────┼───────────────┼────────────────────┤\n",
      "│ 59           │ {'criterion': 'entropy', 'max_depth': None, 'min_samples_leaf': 4, 'min_samples_split': 5}  │ 0.995         │ 0.982857           │\n",
      "├──────────────┼─────────────────────────────────────────────────────────────────────────────────────────────┼───────────────┼────────────────────┤\n",
      "│ 60           │ {'criterion': 'entropy', 'max_depth': None, 'min_samples_leaf': 4, 'min_samples_split': 10} │ 0.995         │ 0.982857           │\n",
      "├──────────────┼─────────────────────────────────────────────────────────────────────────────────────────────┼───────────────┼────────────────────┤\n",
      "│ 61           │ {'criterion': 'entropy', 'max_depth': 10, 'min_samples_leaf': 1, 'min_samples_split': 2}    │ 1             │ 0.99               │\n",
      "├──────────────┼─────────────────────────────────────────────────────────────────────────────────────────────┼───────────────┼────────────────────┤\n",
      "│ 62           │ {'criterion': 'entropy', 'max_depth': 10, 'min_samples_leaf': 1, 'min_samples_split': 4}    │ 1             │ 0.99               │\n",
      "├──────────────┼─────────────────────────────────────────────────────────────────────────────────────────────┼───────────────┼────────────────────┤\n",
      "│ 63           │ {'criterion': 'entropy', 'max_depth': 10, 'min_samples_leaf': 1, 'min_samples_split': 5}    │ 1             │ 0.99               │\n",
      "├──────────────┼─────────────────────────────────────────────────────────────────────────────────────────────┼───────────────┼────────────────────┤\n",
      "│ 64           │ {'criterion': 'entropy', 'max_depth': 10, 'min_samples_leaf': 1, 'min_samples_split': 10}   │ 1             │ 0.99               │\n",
      "├──────────────┼─────────────────────────────────────────────────────────────────────────────────────────────┼───────────────┼────────────────────┤\n",
      "│ 65           │ {'criterion': 'entropy', 'max_depth': 10, 'min_samples_leaf': 2, 'min_samples_split': 2}    │ 0.999643      │ 0.988571           │\n",
      "├──────────────┼─────────────────────────────────────────────────────────────────────────────────────────────┼───────────────┼────────────────────┤\n",
      "│ 66           │ {'criterion': 'entropy', 'max_depth': 10, 'min_samples_leaf': 2, 'min_samples_split': 4}    │ 0.999643      │ 0.988571           │\n",
      "├──────────────┼─────────────────────────────────────────────────────────────────────────────────────────────┼───────────────┼────────────────────┤\n",
      "│ 67           │ {'criterion': 'entropy', 'max_depth': 10, 'min_samples_leaf': 2, 'min_samples_split': 5}    │ 0.999643      │ 0.988571           │\n",
      "├──────────────┼─────────────────────────────────────────────────────────────────────────────────────────────┼───────────────┼────────────────────┤\n",
      "│ 68           │ {'criterion': 'entropy', 'max_depth': 10, 'min_samples_leaf': 2, 'min_samples_split': 10}   │ 0.999643      │ 0.988571           │\n",
      "├──────────────┼─────────────────────────────────────────────────────────────────────────────────────────────┼───────────────┼────────────────────┤\n",
      "│ 69           │ {'criterion': 'entropy', 'max_depth': 10, 'min_samples_leaf': 4, 'min_samples_split': 2}    │ 0.995         │ 0.982857           │\n",
      "├──────────────┼─────────────────────────────────────────────────────────────────────────────────────────────┼───────────────┼────────────────────┤\n",
      "│ 70           │ {'criterion': 'entropy', 'max_depth': 10, 'min_samples_leaf': 4, 'min_samples_split': 4}    │ 0.995         │ 0.982857           │\n",
      "├──────────────┼─────────────────────────────────────────────────────────────────────────────────────────────┼───────────────┼────────────────────┤\n",
      "│ 71           │ {'criterion': 'entropy', 'max_depth': 10, 'min_samples_leaf': 4, 'min_samples_split': 5}    │ 0.995         │ 0.982857           │\n",
      "├──────────────┼─────────────────────────────────────────────────────────────────────────────────────────────┼───────────────┼────────────────────┤\n",
      "│ 72           │ {'criterion': 'entropy', 'max_depth': 10, 'min_samples_leaf': 4, 'min_samples_split': 10}   │ 0.995         │ 0.982857           │\n",
      "├──────────────┼─────────────────────────────────────────────────────────────────────────────────────────────┼───────────────┼────────────────────┤\n",
      "│ 73           │ {'criterion': 'entropy', 'max_depth': 20, 'min_samples_leaf': 1, 'min_samples_split': 2}    │ 1             │ 0.99               │\n",
      "├──────────────┼─────────────────────────────────────────────────────────────────────────────────────────────┼───────────────┼────────────────────┤\n",
      "│ 74           │ {'criterion': 'entropy', 'max_depth': 20, 'min_samples_leaf': 1, 'min_samples_split': 4}    │ 1             │ 0.99               │\n",
      "├──────────────┼─────────────────────────────────────────────────────────────────────────────────────────────┼───────────────┼────────────────────┤\n",
      "│ 75           │ {'criterion': 'entropy', 'max_depth': 20, 'min_samples_leaf': 1, 'min_samples_split': 5}    │ 1             │ 0.99               │\n",
      "├──────────────┼─────────────────────────────────────────────────────────────────────────────────────────────┼───────────────┼────────────────────┤\n",
      "│ 76           │ {'criterion': 'entropy', 'max_depth': 20, 'min_samples_leaf': 1, 'min_samples_split': 10}   │ 1             │ 0.99               │\n",
      "├──────────────┼─────────────────────────────────────────────────────────────────────────────────────────────┼───────────────┼────────────────────┤\n",
      "│ 77           │ {'criterion': 'entropy', 'max_depth': 20, 'min_samples_leaf': 2, 'min_samples_split': 2}    │ 0.999643      │ 0.988571           │\n",
      "├──────────────┼─────────────────────────────────────────────────────────────────────────────────────────────┼───────────────┼────────────────────┤\n",
      "│ 78           │ {'criterion': 'entropy', 'max_depth': 20, 'min_samples_leaf': 2, 'min_samples_split': 4}    │ 0.999643      │ 0.988571           │\n",
      "├──────────────┼─────────────────────────────────────────────────────────────────────────────────────────────┼───────────────┼────────────────────┤\n",
      "│ 79           │ {'criterion': 'entropy', 'max_depth': 20, 'min_samples_leaf': 2, 'min_samples_split': 5}    │ 0.999643      │ 0.988571           │\n",
      "├──────────────┼─────────────────────────────────────────────────────────────────────────────────────────────┼───────────────┼────────────────────┤\n",
      "│ 80           │ {'criterion': 'entropy', 'max_depth': 20, 'min_samples_leaf': 2, 'min_samples_split': 10}   │ 0.999643      │ 0.988571           │\n",
      "├──────────────┼─────────────────────────────────────────────────────────────────────────────────────────────┼───────────────┼────────────────────┤\n",
      "│ 81           │ {'criterion': 'entropy', 'max_depth': 20, 'min_samples_leaf': 4, 'min_samples_split': 2}    │ 0.995         │ 0.982857           │\n",
      "├──────────────┼─────────────────────────────────────────────────────────────────────────────────────────────┼───────────────┼────────────────────┤\n",
      "│ 82           │ {'criterion': 'entropy', 'max_depth': 20, 'min_samples_leaf': 4, 'min_samples_split': 4}    │ 0.995         │ 0.982857           │\n",
      "├──────────────┼─────────────────────────────────────────────────────────────────────────────────────────────┼───────────────┼────────────────────┤\n",
      "│ 83           │ {'criterion': 'entropy', 'max_depth': 20, 'min_samples_leaf': 4, 'min_samples_split': 5}    │ 0.995         │ 0.982857           │\n",
      "├──────────────┼─────────────────────────────────────────────────────────────────────────────────────────────┼───────────────┼────────────────────┤\n",
      "│ 84           │ {'criterion': 'entropy', 'max_depth': 20, 'min_samples_leaf': 4, 'min_samples_split': 10}   │ 0.995         │ 0.982857           │\n",
      "├──────────────┼─────────────────────────────────────────────────────────────────────────────────────────────┼───────────────┼────────────────────┤\n",
      "│ 85           │ {'criterion': 'entropy', 'max_depth': 30, 'min_samples_leaf': 1, 'min_samples_split': 2}    │ 1             │ 0.99               │\n",
      "├──────────────┼─────────────────────────────────────────────────────────────────────────────────────────────┼───────────────┼────────────────────┤\n",
      "│ 86           │ {'criterion': 'entropy', 'max_depth': 30, 'min_samples_leaf': 1, 'min_samples_split': 4}    │ 1             │ 0.99               │\n",
      "├──────────────┼─────────────────────────────────────────────────────────────────────────────────────────────┼───────────────┼────────────────────┤\n",
      "│ 87           │ {'criterion': 'entropy', 'max_depth': 30, 'min_samples_leaf': 1, 'min_samples_split': 5}    │ 1             │ 0.99               │\n",
      "├──────────────┼─────────────────────────────────────────────────────────────────────────────────────────────┼───────────────┼────────────────────┤\n",
      "│ 88           │ {'criterion': 'entropy', 'max_depth': 30, 'min_samples_leaf': 1, 'min_samples_split': 10}   │ 1             │ 0.99               │\n",
      "├──────────────┼─────────────────────────────────────────────────────────────────────────────────────────────┼───────────────┼────────────────────┤\n",
      "│ 89           │ {'criterion': 'entropy', 'max_depth': 30, 'min_samples_leaf': 2, 'min_samples_split': 2}    │ 0.999643      │ 0.988571           │\n",
      "├──────────────┼─────────────────────────────────────────────────────────────────────────────────────────────┼───────────────┼────────────────────┤\n",
      "│ 90           │ {'criterion': 'entropy', 'max_depth': 30, 'min_samples_leaf': 2, 'min_samples_split': 4}    │ 0.999643      │ 0.988571           │\n",
      "├──────────────┼─────────────────────────────────────────────────────────────────────────────────────────────┼───────────────┼────────────────────┤\n",
      "│ 91           │ {'criterion': 'entropy', 'max_depth': 30, 'min_samples_leaf': 2, 'min_samples_split': 5}    │ 0.999643      │ 0.988571           │\n",
      "├──────────────┼─────────────────────────────────────────────────────────────────────────────────────────────┼───────────────┼────────────────────┤\n",
      "│ 92           │ {'criterion': 'entropy', 'max_depth': 30, 'min_samples_leaf': 2, 'min_samples_split': 10}   │ 0.999643      │ 0.988571           │\n",
      "├──────────────┼─────────────────────────────────────────────────────────────────────────────────────────────┼───────────────┼────────────────────┤\n",
      "│ 93           │ {'criterion': 'entropy', 'max_depth': 30, 'min_samples_leaf': 4, 'min_samples_split': 2}    │ 0.995         │ 0.982857           │\n",
      "├──────────────┼─────────────────────────────────────────────────────────────────────────────────────────────┼───────────────┼────────────────────┤\n",
      "│ 94           │ {'criterion': 'entropy', 'max_depth': 30, 'min_samples_leaf': 4, 'min_samples_split': 4}    │ 0.995         │ 0.982857           │\n",
      "├──────────────┼─────────────────────────────────────────────────────────────────────────────────────────────┼───────────────┼────────────────────┤\n",
      "│ 95           │ {'criterion': 'entropy', 'max_depth': 30, 'min_samples_leaf': 4, 'min_samples_split': 5}    │ 0.995         │ 0.982857           │\n",
      "├──────────────┼─────────────────────────────────────────────────────────────────────────────────────────────┼───────────────┼────────────────────┤\n",
      "│ 96           │ {'criterion': 'entropy', 'max_depth': 30, 'min_samples_leaf': 4, 'min_samples_split': 10}   │ 0.995         │ 0.982857           │\n",
      "╘══════════════╧═════════════════════════════════════════════════════════════════════════════════════════════╧═══════════════╧════════════════════╛\n"
     ]
    }
   ],
   "source": [
    "results = grid_search.cv_results_\n",
    "param_combinations = [f'{params}' for params in grid_search.cv_results_['params']]\n",
    "train_scores = results['mean_train_score']\n",
    "test_scores = results['mean_test_score']\n",
    "\n",
    "table_data = []\n",
    "\n",
    "for i in range(len(param_combinations)):\n",
    "    row = [i+1, param_combinations[i], train_scores[i], test_scores[i]]  \n",
    "    table_data.append(row)\n",
    "\n",
    "table = tabulate(table_data, headers=['Combinação', 'Hiperparâmetros', 'Train Score', 'Validation Score'], tablefmt='fancy_grid', numalign='left')\n",
    "\n",
    "print(table)"
   ]
  },
  {
   "cell_type": "markdown",
   "metadata": {},
   "source": [
    "## 3) Predição"
   ]
  },
  {
   "cell_type": "code",
   "execution_count": 25,
   "metadata": {},
   "outputs": [],
   "source": [
    "best_decision_tree = grid_search.best_estimator_\n",
    "y_pred = best_decision_tree.predict(X_test)"
   ]
  },
  {
   "cell_type": "markdown",
   "metadata": {},
   "source": [
    "## Matriz Confusão"
   ]
  },
  {
   "cell_type": "code",
   "execution_count": 26,
   "metadata": {},
   "outputs": [
    {
     "data": {
      "image/png": "[encoded data removed]",
      "text/plain": [
       "<Figure size 800x600 with 2 Axes>"
      ]
     },
     "metadata": {},
     "output_type": "display_data"
    }
   ],
   "source": [
    "cm = confusion_matrix(y_test, y_pred) \n",
    "\n",
    "plt.figure(figsize=(8, 6))\n",
    "sns.heatmap(cm, annot=True, fmt=\"d\", cmap=\"Blues\", xticklabels=['Bem', 'Médio', 'Mal'], yticklabels=['Bem', 'Médio', 'Mal'])\n",
    "plt.xlabel('Predito')\n",
    "plt.ylabel('Real')\n",
    "plt.title('Matriz de Confusão')\n",
    "plt.show()"
   ]
  },
  {
   "cell_type": "markdown",
   "metadata": {},
   "source": [
    "## Métricas de eficácia"
   ]
  },
  {
   "cell_type": "code",
   "execution_count": 27,
   "metadata": {},
   "outputs": [
    {
     "name": "stdout",
     "output_type": "stream",
     "text": [
      "Melhores Hiperparâmetros Encontrados: {'criterion': 'gini', 'max_depth': None, 'min_samples_leaf': 1, 'min_samples_split': 2}\n",
      "----------------------------------------------------------------\n",
      "\n",
      "Acurácia: 1.0\n",
      "----------------------------------------------------------------\n",
      "\n",
      "Relatório de Classificação:\n",
      "              precision    recall  f1-score   support\n",
      "\n",
      "         Bem       1.00      1.00      1.00       132\n",
      "         Mal       1.00      1.00      1.00        71\n",
      "       Médio       1.00      1.00      1.00        97\n",
      "\n",
      "    accuracy                           1.00       300\n",
      "   macro avg       1.00      1.00      1.00       300\n",
      "weighted avg       1.00      1.00      1.00       300\n",
      "\n"
     ]
    }
   ],
   "source": [
    "print(f'Melhores Hiperparâmetros Encontrados: {grid_search.best_params_}')\n",
    "\n",
    "print(\"----------------------------------------------------------------\\n\")\n",
    "accuracy = accuracy_score(y_test, y_pred)  \n",
    "print(f'Acurácia: {accuracy}')\n",
    "\n",
    "print(\"----------------------------------------------------------------\\n\")\n",
    "classification_rep = classification_report(y_test, y_pred)\n",
    "print(f'Relatório de Classificação:\\n{classification_rep}')\n",
    "\n",
    "# precision = precision_score(y_test, y_pred)  # Substitua y_test e y_pred pelos seus dados reais e previstos\n",
    "# print(f'Precisão: {precision}')\n",
    "\n",
    "# recall = recall_score(y_test, y_pred)  # Substitua y_test e y_pred pelos seus dados reais e previstos\n",
    "# print(f'Recall: {recall}')\n",
    "\n",
    "# f1 = f1_score(y_test, y_pred)  # Substitua y_test e y_pred pelos seus dados reais e previstos\n",
    "# print(f'Medida F: {f1}')"
   ]
  }
 ],
 "metadata": {
  "kernelspec": {
   "display_name": "Python 3",
   "language": "python",
   "name": "python3"
  },
  "language_info": {
   "codemirror_mode": {
    "name": "ipython",
    "version": 3
   },
   "file_extension": ".py",
   "mimetype": "text/x-python",
   "name": "python",
   "nbconvert_exporter": "python",
   "pygments_lexer": "ipython3",
   "version": "3.10.11"
  }
 },
 "nbformat": 4,
 "nbformat_minor": 2
}
