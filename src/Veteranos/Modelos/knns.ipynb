{
 "cells": [
  {
   "cell_type": "code",
   "execution_count": 9,
   "metadata": {},
   "outputs": [],
   "source": [
    "import numpy as np\n",
    "import pandas as pd\n",
    "from tabulate import tabulate\n",
    "\n",
    "from sklearn.model_selection import GridSearchCV\n",
    "from sklearn.neighbors import KNeighborsClassifier\n",
    "from sklearn.preprocessing import StandardScaler\n",
    "from sklearn.metrics import confusion_matrix, accuracy_score, precision_score, recall_score, f1_score, classification_report\n",
    "\n",
    "import matplotlib.pyplot as plt\n",
    "import seaborn as sns"
   ]
  },
  {
   "cell_type": "markdown",
   "metadata": {},
   "source": [
    "## 1) Carregar os dados de treinamento e teste"
   ]
  },
  {
   "cell_type": "code",
   "execution_count": 10,
   "metadata": {},
   "outputs": [],
   "source": [
    "# Carregar os dados de treinamento e teste\n",
    "X_train = pd.read_csv('../Dados/ModelosSimples/X_train.csv')\n",
    "y_train = pd.read_csv('../Dados/ModelosSimples/y_train.csv')\n",
    "X_test = pd.read_csv('../Dados/ModelosSimples/X_test.csv')\n",
    "y_test = pd.read_csv('../Dados/ModelosSimples/y_test.csv')\n",
    "\n",
    "# Converter y_train e y_test em vetores 1D\n",
    "y_train = y_train.values.ravel()\n",
    "y_test = y_test.values.ravel()"
   ]
  },
  {
   "cell_type": "markdown",
   "metadata": {},
   "source": [
    "## 2) Pre-processando dados"
   ]
  },
  {
   "cell_type": "code",
   "execution_count": 11,
   "metadata": {},
   "outputs": [],
   "source": [
    "# Normalização dos dados\n",
    "scaler = StandardScaler()\n",
    "X_train_scaled = scaler.fit_transform(X_train)\n",
    "X_test_scaled = scaler.transform(X_test)"
   ]
  },
  {
   "cell_type": "markdown",
   "metadata": {},
   "source": [
    "## 3) Treinando modelo "
   ]
  },
  {
   "cell_type": "code",
   "execution_count": 12,
   "metadata": {},
   "outputs": [
    {
     "data": {
      "text/html": [
       "<style>#sk-container-id-2 {color: black;}#sk-container-id-2 pre{padding: 0;}#sk-container-id-2 div.sk-toggleable {background-color: white;}#sk-container-id-2 label.sk-toggleable__label {cursor: pointer;display: block;width: 100%;margin-bottom: 0;padding: 0.3em;box-sizing: border-box;text-align: center;}#sk-container-id-2 label.sk-toggleable__label-arrow:before {content: \"▸\";float: left;margin-right: 0.25em;color: #696969;}#sk-container-id-2 label.sk-toggleable__label-arrow:hover:before {color: black;}#sk-container-id-2 div.sk-estimator:hover label.sk-toggleable__label-arrow:before {color: black;}#sk-container-id-2 div.sk-toggleable__content {max-height: 0;max-width: 0;overflow: hidden;text-align: left;background-color: #f0f8ff;}#sk-container-id-2 div.sk-toggleable__content pre {margin: 0.2em;color: black;border-radius: 0.25em;background-color: #f0f8ff;}#sk-container-id-2 input.sk-toggleable__control:checked~div.sk-toggleable__content {max-height: 200px;max-width: 100%;overflow: auto;}#sk-container-id-2 input.sk-toggleable__control:checked~label.sk-toggleable__label-arrow:before {content: \"▾\";}#sk-container-id-2 div.sk-estimator input.sk-toggleable__control:checked~label.sk-toggleable__label {background-color: #d4ebff;}#sk-container-id-2 div.sk-label input.sk-toggleable__control:checked~label.sk-toggleable__label {background-color: #d4ebff;}#sk-container-id-2 input.sk-hidden--visually {border: 0;clip: rect(1px 1px 1px 1px);clip: rect(1px, 1px, 1px, 1px);height: 1px;margin: -1px;overflow: hidden;padding: 0;position: absolute;width: 1px;}#sk-container-id-2 div.sk-estimator {font-family: monospace;background-color: #f0f8ff;border: 1px dotted black;border-radius: 0.25em;box-sizing: border-box;margin-bottom: 0.5em;}#sk-container-id-2 div.sk-estimator:hover {background-color: #d4ebff;}#sk-container-id-2 div.sk-parallel-item::after {content: \"\";width: 100%;border-bottom: 1px solid gray;flex-grow: 1;}#sk-container-id-2 div.sk-label:hover label.sk-toggleable__label {background-color: #d4ebff;}#sk-container-id-2 div.sk-serial::before {content: \"\";position: absolute;border-left: 1px solid gray;box-sizing: border-box;top: 0;bottom: 0;left: 50%;z-index: 0;}#sk-container-id-2 div.sk-serial {display: flex;flex-direction: column;align-items: center;background-color: white;padding-right: 0.2em;padding-left: 0.2em;position: relative;}#sk-container-id-2 div.sk-item {position: relative;z-index: 1;}#sk-container-id-2 div.sk-parallel {display: flex;align-items: stretch;justify-content: center;background-color: white;position: relative;}#sk-container-id-2 div.sk-item::before, #sk-container-id-2 div.sk-parallel-item::before {content: \"\";position: absolute;border-left: 1px solid gray;box-sizing: border-box;top: 0;bottom: 0;left: 50%;z-index: -1;}#sk-container-id-2 div.sk-parallel-item {display: flex;flex-direction: column;z-index: 1;position: relative;background-color: white;}#sk-container-id-2 div.sk-parallel-item:first-child::after {align-self: flex-end;width: 50%;}#sk-container-id-2 div.sk-parallel-item:last-child::after {align-self: flex-start;width: 50%;}#sk-container-id-2 div.sk-parallel-item:only-child::after {width: 0;}#sk-container-id-2 div.sk-dashed-wrapped {border: 1px dashed gray;margin: 0 0.4em 0.5em 0.4em;box-sizing: border-box;padding-bottom: 0.4em;background-color: white;}#sk-container-id-2 div.sk-label label {font-family: monospace;font-weight: bold;display: inline-block;line-height: 1.2em;}#sk-container-id-2 div.sk-label-container {text-align: center;}#sk-container-id-2 div.sk-container {/* jupyter's `normalize.less` sets `[hidden] { display: none; }` but bootstrap.min.css set `[hidden] { display: none !important; }` so we also need the `!important` here to be able to override the default hidden behavior on the sphinx rendered scikit-learn.org. See: https://github.com/scikit-learn/scikit-learn/issues/21755 */display: inline-block !important;position: relative;}#sk-container-id-2 div.sk-text-repr-fallback {display: none;}</style><div id=\"sk-container-id-2\" class=\"sk-top-container\"><div class=\"sk-text-repr-fallback\"><pre>GridSearchCV(cv=5, estimator=KNeighborsClassifier(),\n",
       "             param_grid={&#x27;n_neighbors&#x27;: [3, 5, 7, 9, 11], &#x27;p&#x27;: [1, 2],\n",
       "                         &#x27;weights&#x27;: [&#x27;uniform&#x27;, &#x27;distance&#x27;]},\n",
       "             return_train_score=True, scoring=&#x27;accuracy&#x27;)</pre><b>In a Jupyter environment, please rerun this cell to show the HTML representation or trust the notebook. <br />On GitHub, the HTML representation is unable to render, please try loading this page with nbviewer.org.</b></div><div class=\"sk-container\" hidden><div class=\"sk-item sk-dashed-wrapped\"><div class=\"sk-label-container\"><div class=\"sk-label sk-toggleable\"><input class=\"sk-toggleable__control sk-hidden--visually\" id=\"sk-estimator-id-4\" type=\"checkbox\" ><label for=\"sk-estimator-id-4\" class=\"sk-toggleable__label sk-toggleable__label-arrow\">GridSearchCV</label><div class=\"sk-toggleable__content\"><pre>GridSearchCV(cv=5, estimator=KNeighborsClassifier(),\n",
       "             param_grid={&#x27;n_neighbors&#x27;: [3, 5, 7, 9, 11], &#x27;p&#x27;: [1, 2],\n",
       "                         &#x27;weights&#x27;: [&#x27;uniform&#x27;, &#x27;distance&#x27;]},\n",
       "             return_train_score=True, scoring=&#x27;accuracy&#x27;)</pre></div></div></div><div class=\"sk-parallel\"><div class=\"sk-parallel-item\"><div class=\"sk-item\"><div class=\"sk-label-container\"><div class=\"sk-label sk-toggleable\"><input class=\"sk-toggleable__control sk-hidden--visually\" id=\"sk-estimator-id-5\" type=\"checkbox\" ><label for=\"sk-estimator-id-5\" class=\"sk-toggleable__label sk-toggleable__label-arrow\">estimator: KNeighborsClassifier</label><div class=\"sk-toggleable__content\"><pre>KNeighborsClassifier()</pre></div></div></div><div class=\"sk-serial\"><div class=\"sk-item\"><div class=\"sk-estimator sk-toggleable\"><input class=\"sk-toggleable__control sk-hidden--visually\" id=\"sk-estimator-id-6\" type=\"checkbox\" ><label for=\"sk-estimator-id-6\" class=\"sk-toggleable__label sk-toggleable__label-arrow\">KNeighborsClassifier</label><div class=\"sk-toggleable__content\"><pre>KNeighborsClassifier()</pre></div></div></div></div></div></div></div></div></div></div>"
      ],
      "text/plain": [
       "GridSearchCV(cv=5, estimator=KNeighborsClassifier(),\n",
       "             param_grid={'n_neighbors': [3, 5, 7, 9, 11], 'p': [1, 2],\n",
       "                         'weights': ['uniform', 'distance']},\n",
       "             return_train_score=True, scoring='accuracy')"
      ]
     },
     "execution_count": 12,
     "metadata": {},
     "output_type": "execute_result"
    }
   ],
   "source": [
    "param_grid = {\n",
    "    'n_neighbors': [3, 5, 7, 9, 11],  # Teste diferentes valores para o número de vizinhos\n",
    "    'weights': ['uniform', 'distance'],  # Teste pesos uniformes e ponderados pela distância\n",
    "    'p': [1, 2],  # Teste distância de Manhattan (p=1) e distância Euclidiana (p=2)\n",
    "}\n",
    "\n",
    "grid_search = GridSearchCV(KNeighborsClassifier(), param_grid, cv=5, scoring='accuracy', return_train_score=True)\n",
    "grid_search.fit(X_train_scaled, y_train)"
   ]
  },
  {
   "cell_type": "markdown",
   "metadata": {},
   "source": [
    "### 3.1) Tabela comparativa para todas combinações"
   ]
  },
  {
   "cell_type": "code",
   "execution_count": 13,
   "metadata": {},
   "outputs": [
    {
     "name": "stdout",
     "output_type": "stream",
     "text": [
      "╒══════════════╤════════════════════════════════════════════════════╤═══════════════╤════════════════════╕\n",
      "│ Combinação   │ Hiperparâmetros                                    │ Train Score   │ Validation Score   │\n",
      "╞══════════════╪════════════════════════════════════════════════════╪═══════════════╪════════════════════╡\n",
      "│ 1            │ {'n_neighbors': 3, 'p': 1, 'weights': 'uniform'}   │ 0.980714      │ 0.945714           │\n",
      "├──────────────┼────────────────────────────────────────────────────┼───────────────┼────────────────────┤\n",
      "│ 2            │ {'n_neighbors': 3, 'p': 1, 'weights': 'distance'}  │ 1             │ 0.947143           │\n",
      "├──────────────┼────────────────────────────────────────────────────┼───────────────┼────────────────────┤\n",
      "│ 3            │ {'n_neighbors': 3, 'p': 2, 'weights': 'uniform'}   │ 0.972143      │ 0.924286           │\n",
      "├──────────────┼────────────────────────────────────────────────────┼───────────────┼────────────────────┤\n",
      "│ 4            │ {'n_neighbors': 3, 'p': 2, 'weights': 'distance'}  │ 1             │ 0.927143           │\n",
      "├──────────────┼────────────────────────────────────────────────────┼───────────────┼────────────────────┤\n",
      "│ 5            │ {'n_neighbors': 5, 'p': 1, 'weights': 'uniform'}   │ 0.964643      │ 0.937143           │\n",
      "├──────────────┼────────────────────────────────────────────────────┼───────────────┼────────────────────┤\n",
      "│ 6            │ {'n_neighbors': 5, 'p': 1, 'weights': 'distance'}  │ 1             │ 0.941429           │\n",
      "├──────────────┼────────────────────────────────────────────────────┼───────────────┼────────────────────┤\n",
      "│ 7            │ {'n_neighbors': 5, 'p': 2, 'weights': 'uniform'}   │ 0.958214      │ 0.927143           │\n",
      "├──────────────┼────────────────────────────────────────────────────┼───────────────┼────────────────────┤\n",
      "│ 8            │ {'n_neighbors': 5, 'p': 2, 'weights': 'distance'}  │ 1             │ 0.934286           │\n",
      "├──────────────┼────────────────────────────────────────────────────┼───────────────┼────────────────────┤\n",
      "│ 9            │ {'n_neighbors': 7, 'p': 1, 'weights': 'uniform'}   │ 0.957143      │ 0.931429           │\n",
      "├──────────────┼────────────────────────────────────────────────────┼───────────────┼────────────────────┤\n",
      "│ 10           │ {'n_neighbors': 7, 'p': 1, 'weights': 'distance'}  │ 1             │ 0.942857           │\n",
      "├──────────────┼────────────────────────────────────────────────────┼───────────────┼────────────────────┤\n",
      "│ 11           │ {'n_neighbors': 7, 'p': 2, 'weights': 'uniform'}   │ 0.948929      │ 0.92               │\n",
      "├──────────────┼────────────────────────────────────────────────────┼───────────────┼────────────────────┤\n",
      "│ 12           │ {'n_neighbors': 7, 'p': 2, 'weights': 'distance'}  │ 1             │ 0.934286           │\n",
      "├──────────────┼────────────────────────────────────────────────────┼───────────────┼────────────────────┤\n",
      "│ 13           │ {'n_neighbors': 9, 'p': 1, 'weights': 'uniform'}   │ 0.951071      │ 0.934286           │\n",
      "├──────────────┼────────────────────────────────────────────────────┼───────────────┼────────────────────┤\n",
      "│ 14           │ {'n_neighbors': 9, 'p': 1, 'weights': 'distance'}  │ 1             │ 0.937143           │\n",
      "├──────────────┼────────────────────────────────────────────────────┼───────────────┼────────────────────┤\n",
      "│ 15           │ {'n_neighbors': 9, 'p': 2, 'weights': 'uniform'}   │ 0.943571      │ 0.925714           │\n",
      "├──────────────┼────────────────────────────────────────────────────┼───────────────┼────────────────────┤\n",
      "│ 16           │ {'n_neighbors': 9, 'p': 2, 'weights': 'distance'}  │ 1             │ 0.938571           │\n",
      "├──────────────┼────────────────────────────────────────────────────┼───────────────┼────────────────────┤\n",
      "│ 17           │ {'n_neighbors': 11, 'p': 1, 'weights': 'uniform'}  │ 0.948214      │ 0.93               │\n",
      "├──────────────┼────────────────────────────────────────────────────┼───────────────┼────────────────────┤\n",
      "│ 18           │ {'n_neighbors': 11, 'p': 1, 'weights': 'distance'} │ 1             │ 0.934286           │\n",
      "├──────────────┼────────────────────────────────────────────────────┼───────────────┼────────────────────┤\n",
      "│ 19           │ {'n_neighbors': 11, 'p': 2, 'weights': 'uniform'}  │ 0.942143      │ 0.92               │\n",
      "├──────────────┼────────────────────────────────────────────────────┼───────────────┼────────────────────┤\n",
      "│ 20           │ {'n_neighbors': 11, 'p': 2, 'weights': 'distance'} │ 1             │ 0.935714           │\n",
      "╘══════════════╧════════════════════════════════════════════════════╧═══════════════╧════════════════════╛\n"
     ]
    }
   ],
   "source": [
    "# Seus dados do GridSearchCV\n",
    "results = grid_search.cv_results_\n",
    "param_combinations = [f'{params}' for params in grid_search.cv_results_['params']]\n",
    "train_scores = results['mean_train_score']\n",
    "test_scores = results['mean_test_score']\n",
    "\n",
    "table_data = []\n",
    "\n",
    "for i in range(len(param_combinations)):\n",
    "    row = [i+1, param_combinations[i], train_scores[i], test_scores[i]]  # Adicione o índice de linha (i+1)\n",
    "    table_data.append(row)\n",
    "\n",
    "# Crie a tabela usando a função tabulate\n",
    "table = tabulate(table_data, headers=['Combinação', 'Hiperparâmetros', 'Train Score', 'Validation Score'], tablefmt='fancy_grid', numalign='left')\n",
    "\n",
    "print(table)"
   ]
  },
  {
   "cell_type": "markdown",
   "metadata": {},
   "source": [
    "## 4) Predição"
   ]
  },
  {
   "cell_type": "code",
   "execution_count": 14,
   "metadata": {},
   "outputs": [],
   "source": [
    "best_knn = grid_search.best_estimator_\n",
    "y_pred = best_knn.predict(X_test_scaled)"
   ]
  },
  {
   "cell_type": "markdown",
   "metadata": {},
   "source": [
    "## 5) Matriz Confusão"
   ]
  },
  {
   "cell_type": "code",
   "execution_count": 15,
   "metadata": {},
   "outputs": [
    {
     "data": {
      "image/png": "[encoded data removed]",
      "text/plain": [
       "<Figure size 800x600 with 2 Axes>"
      ]
     },
     "metadata": {},
     "output_type": "display_data"
    }
   ],
   "source": [
    "cm = confusion_matrix(y_test, y_pred) \n",
    "\n",
    "plt.figure(figsize=(8, 6))\n",
    "sns.heatmap(cm, annot=True, fmt=\"d\", cmap=\"Blues\", xticklabels=['Bem', 'Médio', 'Mal'], yticklabels=['Bem', 'Médio', 'Mal'])\n",
    "plt.xlabel('Predito')\n",
    "plt.ylabel('Real')\n",
    "plt.title('Matriz de Confusão')\n",
    "plt.show()"
   ]
  },
  {
   "cell_type": "markdown",
   "metadata": {},
   "source": [
    "## 6) Métricas de eficácia"
   ]
  },
  {
   "cell_type": "code",
   "execution_count": 16,
   "metadata": {},
   "outputs": [
    {
     "name": "stdout",
     "output_type": "stream",
     "text": [
      "Melhores Hiperparâmetros Encontrados: {'n_neighbors': 3, 'p': 1, 'weights': 'distance'}\n",
      "----------------------------------------------------------------\n",
      "Acurácia: 0.93\n",
      "----------------------------------------------------------------\n",
      "\n",
      "Relatório de Classificação:\n",
      "              precision    recall  f1-score   support\n",
      "\n",
      "         Bem       0.96      0.95      0.96       144\n",
      "         Mal       0.91      0.95      0.93        65\n",
      "       Médio       0.89      0.88      0.88        91\n",
      "\n",
      "    accuracy                           0.93       300\n",
      "   macro avg       0.92      0.93      0.92       300\n",
      "weighted avg       0.93      0.93      0.93       300\n",
      "\n"
     ]
    }
   ],
   "source": [
    "print(f'Melhores Hiperparâmetros Encontrados: {grid_search.best_params_}')\n",
    "\n",
    "print(\"----------------------------------------------------------------\")\n",
    "accuracy = accuracy_score(y_test, y_pred)  \n",
    "print(f'Acurácia: {accuracy}')\n",
    "\n",
    "print(\"----------------------------------------------------------------\\n\")\n",
    "classification_rep = classification_report(y_test, y_pred)\n",
    "print(f'Relatório de Classificação:\\n{classification_rep}')\n",
    "\n",
    "# precision = precision_score(y_test, y_pred)  \n",
    "# print(f'Precisão: {precision}')\n",
    "\n",
    "# recall = recall_score(y_test, y_pred)  \n",
    "# print(f'Recall: {recall}')\n",
    "\n",
    "# f1 = f1_score(y_test, y_pred) \n",
    "# print(f'Medida F: {f1}')"
   ]
  }
 ],
 "metadata": {
  "kernelspec": {
   "display_name": "Python 3",
   "language": "python",
   "name": "python3"
  },
  "language_info": {
   "codemirror_mode": {
    "name": "ipython",
    "version": 3
   },
   "file_extension": ".py",
   "mimetype": "text/x-python",
   "name": "python",
   "nbconvert_exporter": "python",
   "pygments_lexer": "ipython3",
   "version": "3.10.1"
  }
 },
 "nbformat": 4,
 "nbformat_minor": 2
}
