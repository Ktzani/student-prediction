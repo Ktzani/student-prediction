{
 "cells": [
  {
   "cell_type": "code",
   "execution_count": 10,
   "metadata": {},
   "outputs": [],
   "source": [
    "import numpy as np\n",
    "import pandas as pd\n",
    "import random\n",
    "\n",
    "from sklearn.model_selection import train_test_split, GridSearchCV\n",
    "from sklearn.neighbors import KNeighborsClassifier\n",
    "from sklearn.preprocessing import StandardScaler\n",
    "from sklearn.metrics import confusion_matrix, accuracy_score, precision_score, recall_score, f1_score, classification_report\n",
    "\n",
    "import matplotlib.pyplot as plt\n",
    "import seaborn as sns"
   ]
  },
  {
   "cell_type": "markdown",
   "metadata": {},
   "source": [
    "## 1) Coletando dados ficticios"
   ]
  },
  {
   "cell_type": "code",
   "execution_count": 11,
   "metadata": {},
   "outputs": [
    {
     "data": {
      "text/html": [
       "<div>\n",
       "<style scoped>\n",
       "    .dataframe tbody tr th:only-of-type {\n",
       "        vertical-align: middle;\n",
       "    }\n",
       "\n",
       "    .dataframe tbody tr th {\n",
       "        vertical-align: top;\n",
       "    }\n",
       "\n",
       "    .dataframe thead th {\n",
       "        text-align: right;\n",
       "    }\n",
       "</style>\n",
       "<table border=\"1\" class=\"dataframe\">\n",
       "  <thead>\n",
       "    <tr style=\"text-align: right;\">\n",
       "      <th></th>\n",
       "      <th>Media_Total</th>\n",
       "      <th>Coeficiente</th>\n",
       "      <th>Introducao_a_Programacao</th>\n",
       "      <th>Estrutura_de_Dados</th>\n",
       "      <th>Introducao_a_Programacao_Aprovado</th>\n",
       "      <th>Estrutura_de_Dados_Aprovado</th>\n",
       "      <th>Desempenho</th>\n",
       "    </tr>\n",
       "  </thead>\n",
       "  <tbody>\n",
       "    <tr>\n",
       "      <th>0</th>\n",
       "      <td>9.626715</td>\n",
       "      <td>10.644896</td>\n",
       "      <td>3.088811</td>\n",
       "      <td>1.762699</td>\n",
       "      <td>0</td>\n",
       "      <td>0</td>\n",
       "      <td>Bem</td>\n",
       "    </tr>\n",
       "    <tr>\n",
       "      <th>1</th>\n",
       "      <td>9.960334</td>\n",
       "      <td>9.818715</td>\n",
       "      <td>4.464785</td>\n",
       "      <td>7.720980</td>\n",
       "      <td>0</td>\n",
       "      <td>1</td>\n",
       "      <td>Bem</td>\n",
       "    </tr>\n",
       "    <tr>\n",
       "      <th>2</th>\n",
       "      <td>8.740338</td>\n",
       "      <td>9.086914</td>\n",
       "      <td>2.740052</td>\n",
       "      <td>0.712933</td>\n",
       "      <td>0</td>\n",
       "      <td>0</td>\n",
       "      <td>Bem</td>\n",
       "    </tr>\n",
       "    <tr>\n",
       "      <th>3</th>\n",
       "      <td>7.774918</td>\n",
       "      <td>7.093310</td>\n",
       "      <td>0.930765</td>\n",
       "      <td>4.508544</td>\n",
       "      <td>0</td>\n",
       "      <td>0</td>\n",
       "      <td>Bem</td>\n",
       "    </tr>\n",
       "    <tr>\n",
       "      <th>4</th>\n",
       "      <td>5.637035</td>\n",
       "      <td>4.517239</td>\n",
       "      <td>6.393895</td>\n",
       "      <td>2.023240</td>\n",
       "      <td>1</td>\n",
       "      <td>0</td>\n",
       "      <td>Mal</td>\n",
       "    </tr>\n",
       "    <tr>\n",
       "      <th>...</th>\n",
       "      <td>...</td>\n",
       "      <td>...</td>\n",
       "      <td>...</td>\n",
       "      <td>...</td>\n",
       "      <td>...</td>\n",
       "      <td>...</td>\n",
       "      <td>...</td>\n",
       "    </tr>\n",
       "    <tr>\n",
       "      <th>995</th>\n",
       "      <td>7.914746</td>\n",
       "      <td>9.330353</td>\n",
       "      <td>0.823461</td>\n",
       "      <td>4.628386</td>\n",
       "      <td>0</td>\n",
       "      <td>0</td>\n",
       "      <td>Bem</td>\n",
       "    </tr>\n",
       "    <tr>\n",
       "      <th>996</th>\n",
       "      <td>7.816127</td>\n",
       "      <td>7.221967</td>\n",
       "      <td>2.966806</td>\n",
       "      <td>1.612926</td>\n",
       "      <td>0</td>\n",
       "      <td>0</td>\n",
       "      <td>Bem</td>\n",
       "    </tr>\n",
       "    <tr>\n",
       "      <th>997</th>\n",
       "      <td>7.139751</td>\n",
       "      <td>6.000495</td>\n",
       "      <td>0.525839</td>\n",
       "      <td>8.293730</td>\n",
       "      <td>0</td>\n",
       "      <td>1</td>\n",
       "      <td>Médio</td>\n",
       "    </tr>\n",
       "    <tr>\n",
       "      <th>998</th>\n",
       "      <td>8.311339</td>\n",
       "      <td>8.480750</td>\n",
       "      <td>8.148992</td>\n",
       "      <td>3.742535</td>\n",
       "      <td>1</td>\n",
       "      <td>0</td>\n",
       "      <td>Bem</td>\n",
       "    </tr>\n",
       "    <tr>\n",
       "      <th>999</th>\n",
       "      <td>9.120988</td>\n",
       "      <td>9.574601</td>\n",
       "      <td>3.439619</td>\n",
       "      <td>3.280129</td>\n",
       "      <td>0</td>\n",
       "      <td>0</td>\n",
       "      <td>Bem</td>\n",
       "    </tr>\n",
       "  </tbody>\n",
       "</table>\n",
       "<p>1000 rows × 7 columns</p>\n",
       "</div>"
      ],
      "text/plain": [
       "     Media_Total  Coeficiente  Introducao_a_Programacao  Estrutura_de_Dados  \\\n",
       "0       9.626715    10.644896                  3.088811            1.762699   \n",
       "1       9.960334     9.818715                  4.464785            7.720980   \n",
       "2       8.740338     9.086914                  2.740052            0.712933   \n",
       "3       7.774918     7.093310                  0.930765            4.508544   \n",
       "4       5.637035     4.517239                  6.393895            2.023240   \n",
       "..           ...          ...                       ...                 ...   \n",
       "995     7.914746     9.330353                  0.823461            4.628386   \n",
       "996     7.816127     7.221967                  2.966806            1.612926   \n",
       "997     7.139751     6.000495                  0.525839            8.293730   \n",
       "998     8.311339     8.480750                  8.148992            3.742535   \n",
       "999     9.120988     9.574601                  3.439619            3.280129   \n",
       "\n",
       "     Introducao_a_Programacao_Aprovado  Estrutura_de_Dados_Aprovado Desempenho  \n",
       "0                                    0                            0        Bem  \n",
       "1                                    0                            1        Bem  \n",
       "2                                    0                            0        Bem  \n",
       "3                                    0                            0        Bem  \n",
       "4                                    1                            0        Mal  \n",
       "..                                 ...                          ...        ...  \n",
       "995                                  0                            0        Bem  \n",
       "996                                  0                            0        Bem  \n",
       "997                                  0                            1      Médio  \n",
       "998                                  1                            0        Bem  \n",
       "999                                  0                            0        Bem  \n",
       "\n",
       "[1000 rows x 7 columns]"
      ]
     },
     "execution_count": 11,
     "metadata": {},
     "output_type": "execute_result"
    }
   ],
   "source": [
    "# Especifique o caminho para o arquivo CSV\n",
    "caminho_arquivo_csv = \"../Dados/alunos_vet_ficticios.csv\"\n",
    "\n",
    "# Carregue o arquivo CSV em um DataFrame\n",
    "df = pd.read_csv(caminho_arquivo_csv)\n",
    "\n",
    "df"
   ]
  },
  {
   "cell_type": "markdown",
   "metadata": {},
   "source": [
    "### 1.1) Dividir os dados em recursos (X) e rótulos (y)"
   ]
  },
  {
   "cell_type": "code",
   "execution_count": 12,
   "metadata": {},
   "outputs": [],
   "source": [
    "X = df[['Media_Total', 'Coeficiente', 'Introducao_a_Programacao', 'Estrutura_de_Dados']]\n",
    "y = df['Desempenho']"
   ]
  },
  {
   "cell_type": "markdown",
   "metadata": {},
   "source": [
    "## 2) Divisão em dados de treinamento e teste"
   ]
  },
  {
   "cell_type": "code",
   "execution_count": 13,
   "metadata": {},
   "outputs": [],
   "source": [
    "X_train, X_test, y_train, y_test = train_test_split(X, y, test_size=0.3, random_state=42)\n",
    "\n",
    "# Normalização dos dados\n",
    "scaler = StandardScaler()\n",
    "X_train_scaled = scaler.fit_transform(X_train)\n",
    "X_test_scaled = scaler.transform(X_test)"
   ]
  },
  {
   "cell_type": "markdown",
   "metadata": {},
   "source": [
    "## 3) Treinando modelo "
   ]
  },
  {
   "cell_type": "code",
   "execution_count": 14,
   "metadata": {},
   "outputs": [
    {
     "data": {
      "text/html": [
       "<style>#sk-container-id-2 {color: black;}#sk-container-id-2 pre{padding: 0;}#sk-container-id-2 div.sk-toggleable {background-color: white;}#sk-container-id-2 label.sk-toggleable__label {cursor: pointer;display: block;width: 100%;margin-bottom: 0;padding: 0.3em;box-sizing: border-box;text-align: center;}#sk-container-id-2 label.sk-toggleable__label-arrow:before {content: \"▸\";float: left;margin-right: 0.25em;color: #696969;}#sk-container-id-2 label.sk-toggleable__label-arrow:hover:before {color: black;}#sk-container-id-2 div.sk-estimator:hover label.sk-toggleable__label-arrow:before {color: black;}#sk-container-id-2 div.sk-toggleable__content {max-height: 0;max-width: 0;overflow: hidden;text-align: left;background-color: #f0f8ff;}#sk-container-id-2 div.sk-toggleable__content pre {margin: 0.2em;color: black;border-radius: 0.25em;background-color: #f0f8ff;}#sk-container-id-2 input.sk-toggleable__control:checked~div.sk-toggleable__content {max-height: 200px;max-width: 100%;overflow: auto;}#sk-container-id-2 input.sk-toggleable__control:checked~label.sk-toggleable__label-arrow:before {content: \"▾\";}#sk-container-id-2 div.sk-estimator input.sk-toggleable__control:checked~label.sk-toggleable__label {background-color: #d4ebff;}#sk-container-id-2 div.sk-label input.sk-toggleable__control:checked~label.sk-toggleable__label {background-color: #d4ebff;}#sk-container-id-2 input.sk-hidden--visually {border: 0;clip: rect(1px 1px 1px 1px);clip: rect(1px, 1px, 1px, 1px);height: 1px;margin: -1px;overflow: hidden;padding: 0;position: absolute;width: 1px;}#sk-container-id-2 div.sk-estimator {font-family: monospace;background-color: #f0f8ff;border: 1px dotted black;border-radius: 0.25em;box-sizing: border-box;margin-bottom: 0.5em;}#sk-container-id-2 div.sk-estimator:hover {background-color: #d4ebff;}#sk-container-id-2 div.sk-parallel-item::after {content: \"\";width: 100%;border-bottom: 1px solid gray;flex-grow: 1;}#sk-container-id-2 div.sk-label:hover label.sk-toggleable__label {background-color: #d4ebff;}#sk-container-id-2 div.sk-serial::before {content: \"\";position: absolute;border-left: 1px solid gray;box-sizing: border-box;top: 0;bottom: 0;left: 50%;z-index: 0;}#sk-container-id-2 div.sk-serial {display: flex;flex-direction: column;align-items: center;background-color: white;padding-right: 0.2em;padding-left: 0.2em;position: relative;}#sk-container-id-2 div.sk-item {position: relative;z-index: 1;}#sk-container-id-2 div.sk-parallel {display: flex;align-items: stretch;justify-content: center;background-color: white;position: relative;}#sk-container-id-2 div.sk-item::before, #sk-container-id-2 div.sk-parallel-item::before {content: \"\";position: absolute;border-left: 1px solid gray;box-sizing: border-box;top: 0;bottom: 0;left: 50%;z-index: -1;}#sk-container-id-2 div.sk-parallel-item {display: flex;flex-direction: column;z-index: 1;position: relative;background-color: white;}#sk-container-id-2 div.sk-parallel-item:first-child::after {align-self: flex-end;width: 50%;}#sk-container-id-2 div.sk-parallel-item:last-child::after {align-self: flex-start;width: 50%;}#sk-container-id-2 div.sk-parallel-item:only-child::after {width: 0;}#sk-container-id-2 div.sk-dashed-wrapped {border: 1px dashed gray;margin: 0 0.4em 0.5em 0.4em;box-sizing: border-box;padding-bottom: 0.4em;background-color: white;}#sk-container-id-2 div.sk-label label {font-family: monospace;font-weight: bold;display: inline-block;line-height: 1.2em;}#sk-container-id-2 div.sk-label-container {text-align: center;}#sk-container-id-2 div.sk-container {/* jupyter's `normalize.less` sets `[hidden] { display: none; }` but bootstrap.min.css set `[hidden] { display: none !important; }` so we also need the `!important` here to be able to override the default hidden behavior on the sphinx rendered scikit-learn.org. See: https://github.com/scikit-learn/scikit-learn/issues/21755 */display: inline-block !important;position: relative;}#sk-container-id-2 div.sk-text-repr-fallback {display: none;}</style><div id=\"sk-container-id-2\" class=\"sk-top-container\"><div class=\"sk-text-repr-fallback\"><pre>KNeighborsClassifier(n_neighbors=11, p=1)</pre><b>In a Jupyter environment, please rerun this cell to show the HTML representation or trust the notebook. <br />On GitHub, the HTML representation is unable to render, please try loading this page with nbviewer.org.</b></div><div class=\"sk-container\" hidden><div class=\"sk-item\"><div class=\"sk-estimator sk-toggleable\"><input class=\"sk-toggleable__control sk-hidden--visually\" id=\"sk-estimator-id-2\" type=\"checkbox\" checked><label for=\"sk-estimator-id-2\" class=\"sk-toggleable__label sk-toggleable__label-arrow\">KNeighborsClassifier</label><div class=\"sk-toggleable__content\"><pre>KNeighborsClassifier(n_neighbors=11, p=1)</pre></div></div></div></div></div>"
      ],
      "text/plain": [
       "KNeighborsClassifier(n_neighbors=11, p=1)"
      ]
     },
     "execution_count": 14,
     "metadata": {},
     "output_type": "execute_result"
    }
   ],
   "source": [
    "param_grid = {\n",
    "    'n_neighbors': [3, 5, 7, 9, 11],  # Teste diferentes valores para o número de vizinhos\n",
    "    'weights': ['uniform', 'distance'],  # Teste pesos uniformes e ponderados pela distância\n",
    "    'p': [1, 2],  # Teste distância de Manhattan (p=1) e distância Euclidiana (p=2)\n",
    "}\n",
    "\n",
    "grid_search = GridSearchCV(KNeighborsClassifier(), param_grid, cv=5, scoring='accuracy')\n",
    "grid_search.fit(X_train_scaled, y_train)\n",
    "\n",
    "best_knn = grid_search.best_estimator_\n",
    "\n",
    "best_knn.fit(X_train_scaled, y_train)"
   ]
  },
  {
   "cell_type": "markdown",
   "metadata": {},
   "source": [
    "## 4) Predição"
   ]
  },
  {
   "cell_type": "code",
   "execution_count": 15,
   "metadata": {},
   "outputs": [],
   "source": [
    "y_pred = best_knn.predict(X_test_scaled)"
   ]
  },
  {
   "cell_type": "markdown",
   "metadata": {},
   "source": [
    "## 5) Matriz Confusão"
   ]
  },
  {
   "cell_type": "code",
   "execution_count": 16,
   "metadata": {},
   "outputs": [
    {
     "data": {
      "image/png": "[encoded data removed]",
      "text/plain": [
       "<Figure size 800x600 with 2 Axes>"
      ]
     },
     "metadata": {},
     "output_type": "display_data"
    }
   ],
   "source": [
    "cm = confusion_matrix(y_test, y_pred) \n",
    "\n",
    "plt.figure(figsize=(8, 6))\n",
    "sns.heatmap(cm, annot=True, fmt=\"d\", cmap=\"Blues\", xticklabels=['Bem', 'Médio', 'Mal'], yticklabels=['Bem', 'Médio', 'Mal'])\n",
    "plt.xlabel('Predito')\n",
    "plt.ylabel('Real')\n",
    "plt.title('Matriz de Confusão')\n",
    "plt.show()"
   ]
  },
  {
   "cell_type": "markdown",
   "metadata": {},
   "source": [
    "## 6) Métricas de eficácia"
   ]
  },
  {
   "cell_type": "code",
   "execution_count": 17,
   "metadata": {},
   "outputs": [
    {
     "name": "stdout",
     "output_type": "stream",
     "text": [
      "Melhores Hiperparâmetros Encontrados: {'n_neighbors': 11, 'p': 1, 'weights': 'uniform'}\n",
      "----------------------------------------------------------------\n",
      "Acurácia: 0.9433333333333334\n",
      "----------------------------------------------------------------\n",
      "\n",
      "Relatório de Classificação:\n",
      "              precision    recall  f1-score   support\n",
      "\n",
      "         Bem       0.96      0.97      0.97       159\n",
      "         Mal       0.93      0.96      0.95        57\n",
      "       Médio       0.91      0.88      0.90        84\n",
      "\n",
      "    accuracy                           0.94       300\n",
      "   macro avg       0.94      0.94      0.94       300\n",
      "weighted avg       0.94      0.94      0.94       300\n",
      "\n"
     ]
    }
   ],
   "source": [
    "print(f'Melhores Hiperparâmetros Encontrados: {grid_search.best_params_}')\n",
    "\n",
    "print(\"----------------------------------------------------------------\")\n",
    "accuracy = accuracy_score(y_test, y_pred)  \n",
    "print(f'Acurácia: {accuracy}')\n",
    "\n",
    "print(\"----------------------------------------------------------------\\n\")\n",
    "classification_rep = classification_report(y_test, y_pred)\n",
    "print(f'Relatório de Classificação:\\n{classification_rep}')\n",
    "\n",
    "# precision = precision_score(y_test, y_pred)  \n",
    "# print(f'Precisão: {precision}')\n",
    "\n",
    "# recall = recall_score(y_test, y_pred)  \n",
    "# print(f'Recall: {recall}')\n",
    "\n",
    "# f1 = f1_score(y_test, y_pred) \n",
    "# print(f'Medida F: {f1}')"
   ]
  }
 ],
 "metadata": {
  "kernelspec": {
   "display_name": "Python 3",
   "language": "python",
   "name": "python3"
  },
  "language_info": {
   "codemirror_mode": {
    "name": "ipython",
    "version": 3
   },
   "file_extension": ".py",
   "mimetype": "text/x-python",
   "name": "python",
   "nbconvert_exporter": "python",
   "pygments_lexer": "ipython3",
   "version": "3.10.11"
  }
 },
 "nbformat": 4,
 "nbformat_minor": 2
}
