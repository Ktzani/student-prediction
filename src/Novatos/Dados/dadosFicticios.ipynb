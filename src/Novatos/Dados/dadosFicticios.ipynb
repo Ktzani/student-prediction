{
 "cells": [
  {
   "cell_type": "code",
   "execution_count": 21,
   "metadata": {},
   "outputs": [],
   "source": [
    "import numpy as np\n",
    "import pandas as pd\n",
    "import random"
   ]
  },
  {
   "cell_type": "markdown",
   "metadata": {},
   "source": [
    "## 1) Criando dados ficticios"
   ]
  },
  {
   "cell_type": "code",
   "execution_count": 22,
   "metadata": {},
   "outputs": [],
   "source": [
    "data = {\n",
    "    'Media_Total': [random.uniform(5, 10) for _ in range(1000)],\n",
    "}\n",
    "\n",
    "# Gerando o coeficiente com base na média\n",
    "data['Coeficiente'] = [media * random.uniform(0.8, 1.2) for media in data['Media_Total']]\n",
    "\n",
    "# Adicionando as notas nas disciplinas\n",
    "data['Introducao_a_Programacao'] = [random.uniform(0, 10) for _ in range(1000)]\n",
    "data['Estrutura_de_Dados'] = [random.uniform(0, 10) for _ in range(1000)]"
   ]
  },
  {
   "cell_type": "markdown",
   "metadata": {},
   "source": [
    "### 1.1) Adicionando a coluna de aprovação em cada disciplina"
   ]
  },
  {
   "cell_type": "code",
   "execution_count": 23,
   "metadata": {},
   "outputs": [],
   "source": [
    "df = pd.DataFrame(data)\n",
    "df['Introducao_a_Programacao_Aprovado'] = [1 if x > 6.0 else 0 for x in df['Introducao_a_Programacao']]\n",
    "df['Estrutura_de_Dados_Aprovado'] = [1 if x > 6.0 else 0 for x in df['Estrutura_de_Dados']]"
   ]
  },
  {
   "cell_type": "markdown",
   "metadata": {},
   "source": [
    "### 1.2) Criando uma coluna de destino (classificação de desempenho)"
   ]
  },
  {
   "cell_type": "code",
   "execution_count": 24,
   "metadata": {},
   "outputs": [
    {
     "data": {
      "text/html": [
       "<div>\n",
       "<style scoped>\n",
       "    .dataframe tbody tr th:only-of-type {\n",
       "        vertical-align: middle;\n",
       "    }\n",
       "\n",
       "    .dataframe tbody tr th {\n",
       "        vertical-align: top;\n",
       "    }\n",
       "\n",
       "    .dataframe thead th {\n",
       "        text-align: right;\n",
       "    }\n",
       "</style>\n",
       "<table border=\"1\" class=\"dataframe\">\n",
       "  <thead>\n",
       "    <tr style=\"text-align: right;\">\n",
       "      <th></th>\n",
       "      <th>Media_Total</th>\n",
       "      <th>Coeficiente</th>\n",
       "      <th>Introducao_a_Programacao</th>\n",
       "      <th>Estrutura_de_Dados</th>\n",
       "      <th>Introducao_a_Programacao_Aprovado</th>\n",
       "      <th>Estrutura_de_Dados_Aprovado</th>\n",
       "      <th>Desempenho</th>\n",
       "    </tr>\n",
       "  </thead>\n",
       "  <tbody>\n",
       "    <tr>\n",
       "      <th>0</th>\n",
       "      <td>6.748437</td>\n",
       "      <td>6.623780</td>\n",
       "      <td>2.291808</td>\n",
       "      <td>1.492419</td>\n",
       "      <td>0</td>\n",
       "      <td>0</td>\n",
       "      <td>Médio</td>\n",
       "    </tr>\n",
       "    <tr>\n",
       "      <th>1</th>\n",
       "      <td>8.842322</td>\n",
       "      <td>9.331187</td>\n",
       "      <td>9.554135</td>\n",
       "      <td>7.201338</td>\n",
       "      <td>1</td>\n",
       "      <td>1</td>\n",
       "      <td>Bem</td>\n",
       "    </tr>\n",
       "    <tr>\n",
       "      <th>2</th>\n",
       "      <td>8.567444</td>\n",
       "      <td>8.323023</td>\n",
       "      <td>2.959294</td>\n",
       "      <td>5.498499</td>\n",
       "      <td>0</td>\n",
       "      <td>0</td>\n",
       "      <td>Bem</td>\n",
       "    </tr>\n",
       "    <tr>\n",
       "      <th>3</th>\n",
       "      <td>7.393484</td>\n",
       "      <td>6.675646</td>\n",
       "      <td>9.388512</td>\n",
       "      <td>0.209364</td>\n",
       "      <td>1</td>\n",
       "      <td>0</td>\n",
       "      <td>Mal</td>\n",
       "    </tr>\n",
       "    <tr>\n",
       "      <th>4</th>\n",
       "      <td>6.836498</td>\n",
       "      <td>7.064244</td>\n",
       "      <td>7.004154</td>\n",
       "      <td>6.315824</td>\n",
       "      <td>1</td>\n",
       "      <td>1</td>\n",
       "      <td>Médio</td>\n",
       "    </tr>\n",
       "    <tr>\n",
       "      <th>...</th>\n",
       "      <td>...</td>\n",
       "      <td>...</td>\n",
       "      <td>...</td>\n",
       "      <td>...</td>\n",
       "      <td>...</td>\n",
       "      <td>...</td>\n",
       "      <td>...</td>\n",
       "    </tr>\n",
       "    <tr>\n",
       "      <th>995</th>\n",
       "      <td>5.935026</td>\n",
       "      <td>7.068823</td>\n",
       "      <td>0.049197</td>\n",
       "      <td>9.188964</td>\n",
       "      <td>0</td>\n",
       "      <td>1</td>\n",
       "      <td>Mal</td>\n",
       "    </tr>\n",
       "    <tr>\n",
       "      <th>996</th>\n",
       "      <td>9.310145</td>\n",
       "      <td>10.839681</td>\n",
       "      <td>0.658848</td>\n",
       "      <td>4.370339</td>\n",
       "      <td>0</td>\n",
       "      <td>0</td>\n",
       "      <td>Médio</td>\n",
       "    </tr>\n",
       "    <tr>\n",
       "      <th>997</th>\n",
       "      <td>8.138169</td>\n",
       "      <td>6.910574</td>\n",
       "      <td>2.779150</td>\n",
       "      <td>0.547032</td>\n",
       "      <td>0</td>\n",
       "      <td>0</td>\n",
       "      <td>Mal</td>\n",
       "    </tr>\n",
       "    <tr>\n",
       "      <th>998</th>\n",
       "      <td>9.467479</td>\n",
       "      <td>11.189241</td>\n",
       "      <td>8.005626</td>\n",
       "      <td>6.981398</td>\n",
       "      <td>1</td>\n",
       "      <td>1</td>\n",
       "      <td>Bem</td>\n",
       "    </tr>\n",
       "    <tr>\n",
       "      <th>999</th>\n",
       "      <td>5.015296</td>\n",
       "      <td>5.070962</td>\n",
       "      <td>2.680788</td>\n",
       "      <td>5.735162</td>\n",
       "      <td>0</td>\n",
       "      <td>0</td>\n",
       "      <td>Mal</td>\n",
       "    </tr>\n",
       "  </tbody>\n",
       "</table>\n",
       "<p>1000 rows × 7 columns</p>\n",
       "</div>"
      ],
      "text/plain": [
       "     Media_Total  Coeficiente  Introducao_a_Programacao  Estrutura_de_Dados  \\\n",
       "0       6.748437     6.623780                  2.291808            1.492419   \n",
       "1       8.842322     9.331187                  9.554135            7.201338   \n",
       "2       8.567444     8.323023                  2.959294            5.498499   \n",
       "3       7.393484     6.675646                  9.388512            0.209364   \n",
       "4       6.836498     7.064244                  7.004154            6.315824   \n",
       "..           ...          ...                       ...                 ...   \n",
       "995     5.935026     7.068823                  0.049197            9.188964   \n",
       "996     9.310145    10.839681                  0.658848            4.370339   \n",
       "997     8.138169     6.910574                  2.779150            0.547032   \n",
       "998     9.467479    11.189241                  8.005626            6.981398   \n",
       "999     5.015296     5.070962                  2.680788            5.735162   \n",
       "\n",
       "     Introducao_a_Programacao_Aprovado  Estrutura_de_Dados_Aprovado Desempenho  \n",
       "0                                    0                            0      Médio  \n",
       "1                                    1                            1        Bem  \n",
       "2                                    0                            0        Bem  \n",
       "3                                    1                            0        Mal  \n",
       "4                                    1                            1      Médio  \n",
       "..                                 ...                          ...        ...  \n",
       "995                                  0                            1        Mal  \n",
       "996                                  0                            0      Médio  \n",
       "997                                  0                            0        Mal  \n",
       "998                                  1                            1        Bem  \n",
       "999                                  0                            0        Mal  \n",
       "\n",
       "[1000 rows x 7 columns]"
      ]
     },
     "execution_count": 24,
     "metadata": {},
     "output_type": "execute_result"
    }
   ],
   "source": [
    "def classificar_desempenho(row):\n",
    "    if row['Media_Total'] >= 7.5 and row['Coeficiente'] >= 0.8 and row['Introducao_a_Programacao'] >= 0.7 and row['Estrutura_de_Dados'] >= 0.7:\n",
    "        return 'Bem'\n",
    "    elif row['Media_Total'] >= 6 and row['Coeficiente'] >= 0.65 and row['Introducao_a_Programacao'] >= 0.6 and row['Estrutura_de_Dados'] >= 0.6:\n",
    "        return 'Médio'\n",
    "    else:\n",
    "        return 'Mal'\n",
    "\n",
    "df['Desempenho'] = df.apply(classificar_desempenho, axis=1)\n",
    "\n",
    "df"
   ]
  },
  {
   "cell_type": "markdown",
   "metadata": {},
   "source": [
    "### 1.3) Salvando dados em arquivo CSV"
   ]
  },
  {
   "cell_type": "code",
   "execution_count": 25,
   "metadata": {},
   "outputs": [
    {
     "name": "stdout",
     "output_type": "stream",
     "text": [
      "Dataset salvo em alunos_vet_ficticios.csv\n"
     ]
    }
   ],
   "source": [
    "nome_do_arquivo = \"alunos_vet_ficticios.csv\"\n",
    "\n",
    "# Salve o DataFrame em um arquivo CSV\n",
    "df.to_csv(nome_do_arquivo, index=False)\n",
    "\n",
    "print(f'Dataset salvo em {nome_do_arquivo}')"
   ]
  }
 ],
 "metadata": {
  "kernelspec": {
   "display_name": "Python 3",
   "language": "python",
   "name": "python3"
  },
  "language_info": {
   "codemirror_mode": {
    "name": "ipython",
    "version": 3
   },
   "file_extension": ".py",
   "mimetype": "text/x-python",
   "name": "python",
   "nbconvert_exporter": "python",
   "pygments_lexer": "ipython3",
   "version": "3.10.11"
  }
 },
 "nbformat": 4,
 "nbformat_minor": 2
}
