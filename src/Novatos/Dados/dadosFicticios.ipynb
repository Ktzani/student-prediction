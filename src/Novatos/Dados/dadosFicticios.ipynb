{
 "cells": [
  {
   "cell_type": "code",
   "execution_count": 18,
   "metadata": {},
   "outputs": [],
   "source": [
    "import pandas as pd\n",
    "import random\n",
    "import os\n",
    "\n",
    "from sklearn.model_selection import train_test_split\n",
    "from sklearn.preprocessing import MinMaxScaler\n",
    "\n",
    "from sklearn.preprocessing import LabelEncoder"
   ]
  },
  {
   "cell_type": "markdown",
   "metadata": {},
   "source": [
    "## 1) Criando dados ficticios"
   ]
  },
  {
   "cell_type": "code",
   "execution_count": 19,
   "metadata": {},
   "outputs": [],
   "source": [
    "media_portugues = [random.uniform(0, 10) for _ in range(1000)]\n",
    "\n",
    "media_matematica = [random.uniform(0, 10) for _ in range(1000)]\n",
    "\n",
    "media_geral = [(media_p + media_m) / 2 for media_p, media_m in zip(media_portugues, media_matematica)]\n",
    "\n",
    "data = {\n",
    "    'Media_Portugues': media_portugues,\n",
    "    'Media_Matematica': media_matematica,\n",
    "    'Media_Geral': media_geral\n",
    "}\n",
    "\n",
    "sexos = ['Masculino', 'Feminino']\n",
    "data['Sexo'] = [random.choice(sexos) for _ in range(1000)]\n",
    "\n",
    "data['Idade'] = [random.randint(18, 40) for _ in range(1000)]\n",
    "\n",
    "df = pd.DataFrame(data)"
   ]
  },
  {
   "cell_type": "markdown",
   "metadata": {},
   "source": [
    "### 1.1) Normalizando e limpando dados"
   ]
  },
  {
   "cell_type": "code",
   "execution_count": 20,
   "metadata": {},
   "outputs": [],
   "source": [
    "df = pd.DataFrame(data)\n",
    "\n",
    "# Codificando o sexo usando one-hot encoding\n",
    "df = pd.get_dummies(df, columns=['Sexo'], drop_first=True)\n",
    "\n",
    "# Normalizando a idade \n",
    "scaler = MinMaxScaler()\n",
    "df['Idade'] = scaler.fit_transform(df[['Idade']])"
   ]
  },
  {
   "cell_type": "markdown",
   "metadata": {},
   "source": [
    "### 1.2) Criando uma coluna de destino (classificação de desempenho)"
   ]
  },
  {
   "cell_type": "code",
   "execution_count": 21,
   "metadata": {},
   "outputs": [
    {
     "data": {
      "text/html": [
       "<div>\n",
       "<style scoped>\n",
       "    .dataframe tbody tr th:only-of-type {\n",
       "        vertical-align: middle;\n",
       "    }\n",
       "\n",
       "    .dataframe tbody tr th {\n",
       "        vertical-align: top;\n",
       "    }\n",
       "\n",
       "    .dataframe thead th {\n",
       "        text-align: right;\n",
       "    }\n",
       "</style>\n",
       "<table border=\"1\" class=\"dataframe\">\n",
       "  <thead>\n",
       "    <tr style=\"text-align: right;\">\n",
       "      <th></th>\n",
       "      <th>Media_Portugues</th>\n",
       "      <th>Media_Matematica</th>\n",
       "      <th>Media_Geral</th>\n",
       "      <th>Idade</th>\n",
       "      <th>Sexo_Masculino</th>\n",
       "      <th>Desempenho</th>\n",
       "    </tr>\n",
       "  </thead>\n",
       "  <tbody>\n",
       "    <tr>\n",
       "      <th>0</th>\n",
       "      <td>0.955999</td>\n",
       "      <td>1.037034</td>\n",
       "      <td>0.996517</td>\n",
       "      <td>0.318182</td>\n",
       "      <td>False</td>\n",
       "      <td>Mal</td>\n",
       "    </tr>\n",
       "    <tr>\n",
       "      <th>1</th>\n",
       "      <td>9.437032</td>\n",
       "      <td>4.987412</td>\n",
       "      <td>7.212222</td>\n",
       "      <td>1.000000</td>\n",
       "      <td>False</td>\n",
       "      <td>Médio</td>\n",
       "    </tr>\n",
       "    <tr>\n",
       "      <th>2</th>\n",
       "      <td>2.022655</td>\n",
       "      <td>6.026846</td>\n",
       "      <td>4.024751</td>\n",
       "      <td>0.772727</td>\n",
       "      <td>True</td>\n",
       "      <td>Mal</td>\n",
       "    </tr>\n",
       "    <tr>\n",
       "      <th>3</th>\n",
       "      <td>2.265626</td>\n",
       "      <td>6.048284</td>\n",
       "      <td>4.156955</td>\n",
       "      <td>0.909091</td>\n",
       "      <td>True</td>\n",
       "      <td>Mal</td>\n",
       "    </tr>\n",
       "    <tr>\n",
       "      <th>4</th>\n",
       "      <td>2.141681</td>\n",
       "      <td>3.921512</td>\n",
       "      <td>3.031597</td>\n",
       "      <td>0.954545</td>\n",
       "      <td>True</td>\n",
       "      <td>Mal</td>\n",
       "    </tr>\n",
       "    <tr>\n",
       "      <th>...</th>\n",
       "      <td>...</td>\n",
       "      <td>...</td>\n",
       "      <td>...</td>\n",
       "      <td>...</td>\n",
       "      <td>...</td>\n",
       "      <td>...</td>\n",
       "    </tr>\n",
       "    <tr>\n",
       "      <th>995</th>\n",
       "      <td>9.988901</td>\n",
       "      <td>7.147788</td>\n",
       "      <td>8.568345</td>\n",
       "      <td>0.136364</td>\n",
       "      <td>False</td>\n",
       "      <td>Bem</td>\n",
       "    </tr>\n",
       "    <tr>\n",
       "      <th>996</th>\n",
       "      <td>4.684159</td>\n",
       "      <td>0.637092</td>\n",
       "      <td>2.660625</td>\n",
       "      <td>0.181818</td>\n",
       "      <td>True</td>\n",
       "      <td>Mal</td>\n",
       "    </tr>\n",
       "    <tr>\n",
       "      <th>997</th>\n",
       "      <td>0.680489</td>\n",
       "      <td>9.375166</td>\n",
       "      <td>5.027828</td>\n",
       "      <td>0.909091</td>\n",
       "      <td>True</td>\n",
       "      <td>Mal</td>\n",
       "    </tr>\n",
       "    <tr>\n",
       "      <th>998</th>\n",
       "      <td>6.249319</td>\n",
       "      <td>5.133453</td>\n",
       "      <td>5.691386</td>\n",
       "      <td>0.500000</td>\n",
       "      <td>True</td>\n",
       "      <td>Mal</td>\n",
       "    </tr>\n",
       "    <tr>\n",
       "      <th>999</th>\n",
       "      <td>7.089724</td>\n",
       "      <td>0.035850</td>\n",
       "      <td>3.562787</td>\n",
       "      <td>0.545455</td>\n",
       "      <td>True</td>\n",
       "      <td>Mal</td>\n",
       "    </tr>\n",
       "  </tbody>\n",
       "</table>\n",
       "<p>1000 rows × 6 columns</p>\n",
       "</div>"
      ],
      "text/plain": [
       "     Media_Portugues  Media_Matematica  Media_Geral     Idade  Sexo_Masculino  \\\n",
       "0           0.955999          1.037034     0.996517  0.318182           False   \n",
       "1           9.437032          4.987412     7.212222  1.000000           False   \n",
       "2           2.022655          6.026846     4.024751  0.772727            True   \n",
       "3           2.265626          6.048284     4.156955  0.909091            True   \n",
       "4           2.141681          3.921512     3.031597  0.954545            True   \n",
       "..               ...               ...          ...       ...             ...   \n",
       "995         9.988901          7.147788     8.568345  0.136364           False   \n",
       "996         4.684159          0.637092     2.660625  0.181818            True   \n",
       "997         0.680489          9.375166     5.027828  0.909091            True   \n",
       "998         6.249319          5.133453     5.691386  0.500000            True   \n",
       "999         7.089724          0.035850     3.562787  0.545455            True   \n",
       "\n",
       "    Desempenho  \n",
       "0          Mal  \n",
       "1        Médio  \n",
       "2          Mal  \n",
       "3          Mal  \n",
       "4          Mal  \n",
       "..         ...  \n",
       "995        Bem  \n",
       "996        Mal  \n",
       "997        Mal  \n",
       "998        Mal  \n",
       "999        Mal  \n",
       "\n",
       "[1000 rows x 6 columns]"
      ]
     },
     "execution_count": 21,
     "metadata": {},
     "output_type": "execute_result"
    }
   ],
   "source": [
    "def classificar_desempenho(row):\n",
    "    if row['Media_Geral'] >= 7.5 and row['Media_Matematica'] >= 0.7 and row['Media_Portugues'] >= 0.7:\n",
    "        return 'Bem'\n",
    "    elif row['Media_Geral'] >= 6 and row['Media_Matematica'] >= 0.7 and row['Media_Portugues'] >= 0.7:\n",
    "        return 'Médio'\n",
    "    else:\n",
    "        return 'Mal'\n",
    "\n",
    "df['Desempenho'] = df.apply(classificar_desempenho, axis=1)\n",
    "\n",
    "df"
   ]
  },
  {
   "cell_type": "markdown",
   "metadata": {},
   "source": [
    "### 1.3) Dividir os dados em recursos (X) e rótulos (y)"
   ]
  },
  {
   "cell_type": "code",
   "execution_count": 22,
   "metadata": {},
   "outputs": [],
   "source": [
    "X = df[['Media_Portugues', 'Media_Matematica', 'Media_Geral', 'Idade', 'Sexo_Masculino']]\n",
    "y = df['Desempenho']"
   ]
  },
  {
   "cell_type": "markdown",
   "metadata": {},
   "source": [
    "## 2) Dados de treinamento e teste"
   ]
  },
  {
   "cell_type": "markdown",
   "metadata": {},
   "source": [
    "### 2.1) Modelos Simples"
   ]
  },
  {
   "cell_type": "markdown",
   "metadata": {},
   "source": [
    "#### 2.1.1) Divisão dos dados"
   ]
  },
  {
   "cell_type": "code",
   "execution_count": 23,
   "metadata": {},
   "outputs": [],
   "source": [
    "X_train, X_test, y_train, y_test = train_test_split(X, y, test_size=0.3, random_state=42)"
   ]
  },
  {
   "cell_type": "markdown",
   "metadata": {},
   "source": [
    "#### 2.1.2) Salvando dados"
   ]
  },
  {
   "cell_type": "code",
   "execution_count": 24,
   "metadata": {},
   "outputs": [],
   "source": [
    "\n",
    "diretorioModeloSimples = './ModelosSimples'\n",
    "if not os.path.exists(diretorioModeloSimples):\n",
    "    os.makedirs(diretorioModeloSimples)\n",
    "\n",
    "# Salvar os dados de treinamento\n",
    "pd.DataFrame(X_train).to_csv('./ModelosSimples/X_train.csv', index=False)\n",
    "pd.DataFrame(y_train).to_csv('./ModelosSimples/y_train.csv', index=False)\n",
    "\n",
    "# Salvar os dados de teste\n",
    "pd.DataFrame(X_test).to_csv('./ModelosSimples/X_test.csv', index=False)\n",
    "pd.DataFrame(y_test).to_csv('./ModelosSimples/y_test.csv', index=False)"
   ]
  },
  {
   "cell_type": "markdown",
   "metadata": {},
   "source": [
    "### 2.2) Redes Neurais"
   ]
  },
  {
   "cell_type": "markdown",
   "metadata": {},
   "source": [
    "#### 2.2.1) Pré-processando dados"
   ]
  },
  {
   "cell_type": "code",
   "execution_count": 25,
   "metadata": {},
   "outputs": [],
   "source": [
    "# Codificar as classes de desempenho em valores numéricos\n",
    "label_encoder = LabelEncoder()\n",
    "y = label_encoder.fit_transform(y)"
   ]
  },
  {
   "cell_type": "markdown",
   "metadata": {},
   "source": [
    "#### 2.2.2) Divisão dos dados"
   ]
  },
  {
   "cell_type": "code",
   "execution_count": 26,
   "metadata": {},
   "outputs": [],
   "source": [
    "X_train, X_temp, y_train, y_temp  = train_test_split(X, y, test_size=0.3, random_state=42)\n",
    "X_val, X_test, y_val, y_test = train_test_split(X_temp, y_temp, test_size=0.5, random_state=42)"
   ]
  },
  {
   "cell_type": "markdown",
   "metadata": {},
   "source": [
    "#### 2.2.3) Salvando dos dados"
   ]
  },
  {
   "cell_type": "code",
   "execution_count": 27,
   "metadata": {},
   "outputs": [],
   "source": [
    "diretorioRedesNeurais = './RedesNeurais'\n",
    "if not os.path.exists(diretorioRedesNeurais):\n",
    "    os.makedirs(diretorioRedesNeurais)\n",
    "\n",
    "# Salvar os dados de treinamento\n",
    "pd.DataFrame(X_train).to_csv('./RedesNeurais/X_train.csv', index=False)\n",
    "pd.DataFrame(y_train).to_csv('./RedesNeurais/y_train.csv', index=False)\n",
    "\n",
    "# Salvar os dados de teste\n",
    "pd.DataFrame(X_test).to_csv('./RedesNeurais/X_test.csv', index=False)\n",
    "pd.DataFrame(y_test).to_csv('./RedesNeurais/y_test.csv', index=False)\n",
    "\n",
    "# Salvar os dados de validacao\n",
    "pd.DataFrame(X_val).to_csv('./RedesNeurais/X_val.csv', index=False)\n",
    "pd.DataFrame(y_val).to_csv('./RedesNeurais/y_val.csv', index=False)"
   ]
  }
 ],
 "metadata": {
  "kernelspec": {
   "display_name": "Python 3",
   "language": "python",
   "name": "python3"
  },
  "language_info": {
   "codemirror_mode": {
    "name": "ipython",
    "version": 3
   },
   "file_extension": ".py",
   "mimetype": "text/x-python",
   "name": "python",
   "nbconvert_exporter": "python",
   "pygments_lexer": "ipython3",
   "version": "3.10.1"
  }
 },
 "nbformat": 4,
 "nbformat_minor": 2
}
