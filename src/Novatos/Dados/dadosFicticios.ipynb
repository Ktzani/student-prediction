{
 "cells": [
  {
   "cell_type": "code",
   "execution_count": 230,
   "metadata": {},
   "outputs": [],
   "source": [
    "import pandas as pd\n",
    "import random\n",
    "import os\n",
    "\n",
    "from sklearn.model_selection import train_test_split\n",
    "from sklearn.preprocessing import MinMaxScaler\n",
    "from sklearn.preprocessing import LabelEncoder\n",
    "\n",
    "import matplotlib.pyplot as plt\n",
    "\n",
    "# parametro = 0"
   ]
  },
  {
   "cell_type": "markdown",
   "metadata": {},
   "source": [
    "## 1) Criando dados ficticios"
   ]
  },
  {
   "cell_type": "code",
   "execution_count": 231,
   "metadata": {},
   "outputs": [],
   "source": [
    "# Generate random data\n",
    "media_portugues = [random.uniform(5, 10) for _ in range(700)] + [random.uniform(8, 10) for _ in range(300)]\n",
    "media_matematica = [random.uniform(5, 10) for _ in range(700)] + [random.uniform(8, 10) for _ in range(300)]\n",
    "\n",
    "media_geral = [(media_p + media_m) / 2 for media_p, media_m in zip(media_portugues, media_matematica)]\n",
    "\n",
    "data = {\n",
    "    'Media_Portugues': media_portugues,\n",
    "    'Media_Matematica': media_matematica,\n",
    "    'Media_Geral': media_geral\n",
    "}\n",
    "\n",
    "sexos = ['Masculino', 'Feminino']\n",
    "data['Sexo'] = [random.choice(sexos) for _ in range(1000)]\n",
    "\n",
    "data['Idade'] = [random.randint(18, 30) for _ in range(700)] + [random.randint(25, 40) for _ in range(300)]\n",
    "\n",
    "df = pd.DataFrame(data)"
   ]
  },
  {
   "cell_type": "markdown",
   "metadata": {},
   "source": [
    "### 1.1) Normalizando e limpando dados"
   ]
  },
  {
   "cell_type": "code",
   "execution_count": 232,
   "metadata": {},
   "outputs": [],
   "source": [
    "df = pd.DataFrame(data)\n",
    "\n",
    "# Codificando o sexo usando one-hot encoding\n",
    "df = pd.get_dummies(df, columns=['Sexo'], drop_first=True)\n",
    "\n",
    "# Normalizando a idade \n",
    "scaler = MinMaxScaler()\n",
    "df['Idade'] = scaler.fit_transform(df[['Idade']])"
   ]
  },
  {
   "cell_type": "markdown",
   "metadata": {},
   "source": [
    "### 1.2) Criando uma coluna de destino (classificação de desempenho)"
   ]
  },
  {
   "cell_type": "code",
   "execution_count": 233,
   "metadata": {},
   "outputs": [
    {
     "data": {
      "image/png": "[encoded data removed]",
      "text/plain": [
       "<Figure size 640x480 with 1 Axes>"
      ]
     },
     "metadata": {},
     "output_type": "display_data"
    }
   ],
   "source": [
    "def classificar_desempenho(row):\n",
    "    if row['Media_Geral'] >= 7.5 and row['Media_Matematica'] >= 8 and row['Media_Portugues'] >= 8:\n",
    "        return 'Bem'\n",
    "    elif row['Media_Geral'] >= 6 and row['Media_Matematica'] >= 6 and row['Media_Portugues'] >= 6:\n",
    "        return 'Medio'\n",
    "    else:\n",
    "        return 'Mal'\n",
    "\n",
    "df['Desempenho'] = df.apply(classificar_desempenho, axis=1)\n",
    "\n",
    "# Visualize the distribution of 'Desempenho'\n",
    "df['Desempenho'].value_counts().plot(kind='bar')\n",
    "plt.show()"
   ]
  },
  {
   "cell_type": "markdown",
   "metadata": {},
   "source": [
    "### 1.3) Dividir os dados em recursos (X) e rótulos (y)"
   ]
  },
  {
   "cell_type": "code",
   "execution_count": 234,
   "metadata": {},
   "outputs": [],
   "source": [
    "X = df[['Media_Portugues', 'Media_Matematica', 'Media_Geral', 'Idade', 'Sexo_Masculino']]\n",
    "y = df['Desempenho']"
   ]
  },
  {
   "cell_type": "markdown",
   "metadata": {},
   "source": [
    "## 2) Dados de treinamento e teste"
   ]
  },
  {
   "cell_type": "markdown",
   "metadata": {},
   "source": [
    "### 2.1) Modelos Simples"
   ]
  },
  {
   "cell_type": "markdown",
   "metadata": {},
   "source": [
    "#### 2.1.1) Divisão dos dados"
   ]
  },
  {
   "cell_type": "code",
   "execution_count": 235,
   "metadata": {},
   "outputs": [],
   "source": [
    "X_train, X_test, y_train, y_test = train_test_split(X, y, test_size=0.3, random_state=42)"
   ]
  },
  {
   "cell_type": "markdown",
   "metadata": {},
   "source": [
    "#### 2.1.2) Salvando dados"
   ]
  },
  {
   "cell_type": "code",
   "execution_count": 236,
   "metadata": {},
   "outputs": [],
   "source": [
    "diretorioModeloSimples = f'./ModelosSimples/Conjunto_{parametro}'\n",
    "if not os.path.exists(diretorioModeloSimples):\n",
    "    os.makedirs(diretorioModeloSimples)\n",
    "\n",
    "# Salvar os dados de treinamento\n",
    "pd.DataFrame(X_train).to_csv(f'./ModelosSimples/Conjunto_{parametro}/X_train.csv', index=False)\n",
    "pd.DataFrame(y_train).to_csv(f'./ModelosSimples/Conjunto_{parametro}/y_train.csv', index=False)\n",
    "\n",
    "# Salvar os dados de teste\n",
    "pd.DataFrame(X_test).to_csv(f'./ModelosSimples/Conjunto_{parametro}/X_test.csv', index=False)\n",
    "pd.DataFrame(y_test).to_csv(f'./ModelosSimples/Conjunto_{parametro}/y_test.csv', index=False)"
   ]
  },
  {
   "cell_type": "markdown",
   "metadata": {},
   "source": [
    "### 2.2) Redes Neurais"
   ]
  },
  {
   "cell_type": "markdown",
   "metadata": {},
   "source": [
    "#### 2.2.1) Pré-processando dados"
   ]
  },
  {
   "cell_type": "code",
   "execution_count": 237,
   "metadata": {},
   "outputs": [],
   "source": [
    "# Codificar as classes de desempenho em valores numéricos\n",
    "label_encoder = LabelEncoder()\n",
    "y = label_encoder.fit_transform(y)"
   ]
  },
  {
   "cell_type": "markdown",
   "metadata": {},
   "source": [
    "#### 2.2.2) Divisão dos dados"
   ]
  },
  {
   "cell_type": "code",
   "execution_count": 238,
   "metadata": {},
   "outputs": [],
   "source": [
    "X_train, X_test, y_train, y_test  = train_test_split(X, y, test_size=0.3, random_state=42)"
   ]
  },
  {
   "cell_type": "markdown",
   "metadata": {},
   "source": [
    "#### 2.2.3) Salvando dos dados"
   ]
  },
  {
   "cell_type": "code",
   "execution_count": 239,
   "metadata": {},
   "outputs": [
    {
     "name": "stdout",
     "output_type": "stream",
     "text": [
      "Dados salvos com sucesso!\n"
     ]
    }
   ],
   "source": [
    "diretorioRedesNeurais = f'./RedesNeurais/Conjunto_{parametro}'\n",
    "if not os.path.exists(diretorioRedesNeurais):\n",
    "    os.makedirs(diretorioRedesNeurais)\n",
    "\n",
    "# Salvar os dados de treinamento\n",
    "pd.DataFrame(X_train).to_csv(f'./RedesNeurais/Conjunto_{parametro}/X_train.csv', index=False)\n",
    "pd.DataFrame(y_train).to_csv(f'./RedesNeurais/Conjunto_{parametro}/y_train.csv', index=False)\n",
    "\n",
    "# Salvar os dados de teste\n",
    "pd.DataFrame(X_test).to_csv(f'./RedesNeurais/Conjunto_{parametro}/X_test.csv', index=False)\n",
    "pd.DataFrame(y_test).to_csv(f'./RedesNeurais/Conjunto_{parametro}/y_test.csv', index=False)\n",
    "\n",
    "print('Dados salvos com sucesso!')"
   ]
  }
 ],
 "metadata": {
  "kernelspec": {
   "display_name": "Python 3",
   "language": "python",
   "name": "python3"
  },
  "language_info": {
   "codemirror_mode": {
    "name": "ipython",
    "version": 3
   },
   "file_extension": ".py",
   "mimetype": "text/x-python",
   "name": "python",
   "nbconvert_exporter": "python",
   "pygments_lexer": "ipython3",
   "version": "3.10.1"
  }
 },
 "nbformat": 4,
 "nbformat_minor": 2
}
