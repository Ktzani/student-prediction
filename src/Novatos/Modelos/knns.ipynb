{
 "cells": [
  {
   "cell_type": "code",
   "execution_count": 1,
   "metadata": {},
   "outputs": [],
   "source": [
    "import numpy as np\n",
    "import pandas as pd\n",
    "from tabulate import tabulate\n",
    "\n",
    "from sklearn.model_selection import GridSearchCV\n",
    "from sklearn.neighbors import KNeighborsClassifier\n",
    "from sklearn.preprocessing import StandardScaler\n",
    "from sklearn.metrics import confusion_matrix, accuracy_score, precision_score, recall_score, f1_score, classification_report\n",
    "\n",
    "import matplotlib.pyplot as plt\n",
    "import seaborn as sns"
   ]
  },
  {
   "cell_type": "markdown",
   "metadata": {},
   "source": [
    "## 1) Carregar os dados de treinamento e teste"
   ]
  },
  {
   "cell_type": "code",
   "execution_count": 2,
   "metadata": {},
   "outputs": [
    {
     "data": {
      "text/html": [
       "<div>\n",
       "<style scoped>\n",
       "    .dataframe tbody tr th:only-of-type {\n",
       "        vertical-align: middle;\n",
       "    }\n",
       "\n",
       "    .dataframe tbody tr th {\n",
       "        vertical-align: top;\n",
       "    }\n",
       "\n",
       "    .dataframe thead th {\n",
       "        text-align: right;\n",
       "    }\n",
       "</style>\n",
       "<table border=\"1\" class=\"dataframe\">\n",
       "  <thead>\n",
       "    <tr style=\"text-align: right;\">\n",
       "      <th></th>\n",
       "      <th>Media_Portugues</th>\n",
       "      <th>Media_Matematica</th>\n",
       "      <th>Media_Geral</th>\n",
       "      <th>Idade</th>\n",
       "      <th>Sexo_Masculino</th>\n",
       "    </tr>\n",
       "  </thead>\n",
       "  <tbody>\n",
       "    <tr>\n",
       "      <th>0</th>\n",
       "      <td>5.102822</td>\n",
       "      <td>3.717952</td>\n",
       "      <td>4.410387</td>\n",
       "      <td>0.500000</td>\n",
       "      <td>False</td>\n",
       "    </tr>\n",
       "    <tr>\n",
       "      <th>1</th>\n",
       "      <td>2.083594</td>\n",
       "      <td>4.389733</td>\n",
       "      <td>3.236663</td>\n",
       "      <td>0.818182</td>\n",
       "      <td>True</td>\n",
       "    </tr>\n",
       "    <tr>\n",
       "      <th>2</th>\n",
       "      <td>7.381216</td>\n",
       "      <td>5.647863</td>\n",
       "      <td>6.514540</td>\n",
       "      <td>0.318182</td>\n",
       "      <td>True</td>\n",
       "    </tr>\n",
       "    <tr>\n",
       "      <th>3</th>\n",
       "      <td>8.554867</td>\n",
       "      <td>2.815314</td>\n",
       "      <td>5.685090</td>\n",
       "      <td>0.090909</td>\n",
       "      <td>True</td>\n",
       "    </tr>\n",
       "    <tr>\n",
       "      <th>4</th>\n",
       "      <td>3.747059</td>\n",
       "      <td>6.225290</td>\n",
       "      <td>4.986174</td>\n",
       "      <td>0.363636</td>\n",
       "      <td>False</td>\n",
       "    </tr>\n",
       "    <tr>\n",
       "      <th>...</th>\n",
       "      <td>...</td>\n",
       "      <td>...</td>\n",
       "      <td>...</td>\n",
       "      <td>...</td>\n",
       "      <td>...</td>\n",
       "    </tr>\n",
       "    <tr>\n",
       "      <th>695</th>\n",
       "      <td>3.040510</td>\n",
       "      <td>0.461539</td>\n",
       "      <td>1.751025</td>\n",
       "      <td>0.136364</td>\n",
       "      <td>False</td>\n",
       "    </tr>\n",
       "    <tr>\n",
       "      <th>696</th>\n",
       "      <td>7.067150</td>\n",
       "      <td>4.139677</td>\n",
       "      <td>5.603413</td>\n",
       "      <td>0.681818</td>\n",
       "      <td>False</td>\n",
       "    </tr>\n",
       "    <tr>\n",
       "      <th>697</th>\n",
       "      <td>1.565982</td>\n",
       "      <td>4.432034</td>\n",
       "      <td>2.999008</td>\n",
       "      <td>0.454545</td>\n",
       "      <td>True</td>\n",
       "    </tr>\n",
       "    <tr>\n",
       "      <th>698</th>\n",
       "      <td>0.547879</td>\n",
       "      <td>0.905073</td>\n",
       "      <td>0.726476</td>\n",
       "      <td>0.454545</td>\n",
       "      <td>False</td>\n",
       "    </tr>\n",
       "    <tr>\n",
       "      <th>699</th>\n",
       "      <td>4.924607</td>\n",
       "      <td>1.447461</td>\n",
       "      <td>3.186034</td>\n",
       "      <td>0.363636</td>\n",
       "      <td>False</td>\n",
       "    </tr>\n",
       "  </tbody>\n",
       "</table>\n",
       "<p>700 rows × 5 columns</p>\n",
       "</div>"
      ],
      "text/plain": [
       "     Media_Portugues  Media_Matematica  Media_Geral     Idade  Sexo_Masculino\n",
       "0           5.102822          3.717952     4.410387  0.500000           False\n",
       "1           2.083594          4.389733     3.236663  0.818182            True\n",
       "2           7.381216          5.647863     6.514540  0.318182            True\n",
       "3           8.554867          2.815314     5.685090  0.090909            True\n",
       "4           3.747059          6.225290     4.986174  0.363636           False\n",
       "..               ...               ...          ...       ...             ...\n",
       "695         3.040510          0.461539     1.751025  0.136364           False\n",
       "696         7.067150          4.139677     5.603413  0.681818           False\n",
       "697         1.565982          4.432034     2.999008  0.454545            True\n",
       "698         0.547879          0.905073     0.726476  0.454545           False\n",
       "699         4.924607          1.447461     3.186034  0.363636           False\n",
       "\n",
       "[700 rows x 5 columns]"
      ]
     },
     "execution_count": 2,
     "metadata": {},
     "output_type": "execute_result"
    }
   ],
   "source": [
    "X_train = pd.read_csv('../Dados/ModelosSimples/X_train.csv')\n",
    "y_train = pd.read_csv('../Dados/ModelosSimples/y_train.csv')\n",
    "X_test = pd.read_csv('../Dados/ModelosSimples/X_test.csv')\n",
    "y_test = pd.read_csv('../Dados/ModelosSimples/y_test.csv')\n",
    "\n",
    "y_train = y_train.values.ravel()\n",
    "y_test = y_test.values.ravel()\n",
    "\n",
    "X_train"
   ]
  },
  {
   "cell_type": "markdown",
   "metadata": {},
   "source": [
    "## 2) Pre-processando dados"
   ]
  },
  {
   "cell_type": "code",
   "execution_count": 3,
   "metadata": {},
   "outputs": [],
   "source": [
    "# Normalização dos dados\n",
    "scaler = StandardScaler()\n",
    "X_train_scaled = scaler.fit_transform(X_train)\n",
    "X_test_scaled = scaler.transform(X_test)"
   ]
  },
  {
   "cell_type": "markdown",
   "metadata": {},
   "source": [
    "## 3) Treinando modelo "
   ]
  },
  {
   "cell_type": "code",
   "execution_count": 4,
   "metadata": {},
   "outputs": [
    {
     "data": {
      "text/html": [
       "<style>#sk-container-id-1 {color: black;}#sk-container-id-1 pre{padding: 0;}#sk-container-id-1 div.sk-toggleable {background-color: white;}#sk-container-id-1 label.sk-toggleable__label {cursor: pointer;display: block;width: 100%;margin-bottom: 0;padding: 0.3em;box-sizing: border-box;text-align: center;}#sk-container-id-1 label.sk-toggleable__label-arrow:before {content: \"▸\";float: left;margin-right: 0.25em;color: #696969;}#sk-container-id-1 label.sk-toggleable__label-arrow:hover:before {color: black;}#sk-container-id-1 div.sk-estimator:hover label.sk-toggleable__label-arrow:before {color: black;}#sk-container-id-1 div.sk-toggleable__content {max-height: 0;max-width: 0;overflow: hidden;text-align: left;background-color: #f0f8ff;}#sk-container-id-1 div.sk-toggleable__content pre {margin: 0.2em;color: black;border-radius: 0.25em;background-color: #f0f8ff;}#sk-container-id-1 input.sk-toggleable__control:checked~div.sk-toggleable__content {max-height: 200px;max-width: 100%;overflow: auto;}#sk-container-id-1 input.sk-toggleable__control:checked~label.sk-toggleable__label-arrow:before {content: \"▾\";}#sk-container-id-1 div.sk-estimator input.sk-toggleable__control:checked~label.sk-toggleable__label {background-color: #d4ebff;}#sk-container-id-1 div.sk-label input.sk-toggleable__control:checked~label.sk-toggleable__label {background-color: #d4ebff;}#sk-container-id-1 input.sk-hidden--visually {border: 0;clip: rect(1px 1px 1px 1px);clip: rect(1px, 1px, 1px, 1px);height: 1px;margin: -1px;overflow: hidden;padding: 0;position: absolute;width: 1px;}#sk-container-id-1 div.sk-estimator {font-family: monospace;background-color: #f0f8ff;border: 1px dotted black;border-radius: 0.25em;box-sizing: border-box;margin-bottom: 0.5em;}#sk-container-id-1 div.sk-estimator:hover {background-color: #d4ebff;}#sk-container-id-1 div.sk-parallel-item::after {content: \"\";width: 100%;border-bottom: 1px solid gray;flex-grow: 1;}#sk-container-id-1 div.sk-label:hover label.sk-toggleable__label {background-color: #d4ebff;}#sk-container-id-1 div.sk-serial::before {content: \"\";position: absolute;border-left: 1px solid gray;box-sizing: border-box;top: 0;bottom: 0;left: 50%;z-index: 0;}#sk-container-id-1 div.sk-serial {display: flex;flex-direction: column;align-items: center;background-color: white;padding-right: 0.2em;padding-left: 0.2em;position: relative;}#sk-container-id-1 div.sk-item {position: relative;z-index: 1;}#sk-container-id-1 div.sk-parallel {display: flex;align-items: stretch;justify-content: center;background-color: white;position: relative;}#sk-container-id-1 div.sk-item::before, #sk-container-id-1 div.sk-parallel-item::before {content: \"\";position: absolute;border-left: 1px solid gray;box-sizing: border-box;top: 0;bottom: 0;left: 50%;z-index: -1;}#sk-container-id-1 div.sk-parallel-item {display: flex;flex-direction: column;z-index: 1;position: relative;background-color: white;}#sk-container-id-1 div.sk-parallel-item:first-child::after {align-self: flex-end;width: 50%;}#sk-container-id-1 div.sk-parallel-item:last-child::after {align-self: flex-start;width: 50%;}#sk-container-id-1 div.sk-parallel-item:only-child::after {width: 0;}#sk-container-id-1 div.sk-dashed-wrapped {border: 1px dashed gray;margin: 0 0.4em 0.5em 0.4em;box-sizing: border-box;padding-bottom: 0.4em;background-color: white;}#sk-container-id-1 div.sk-label label {font-family: monospace;font-weight: bold;display: inline-block;line-height: 1.2em;}#sk-container-id-1 div.sk-label-container {text-align: center;}#sk-container-id-1 div.sk-container {/* jupyter's `normalize.less` sets `[hidden] { display: none; }` but bootstrap.min.css set `[hidden] { display: none !important; }` so we also need the `!important` here to be able to override the default hidden behavior on the sphinx rendered scikit-learn.org. See: https://github.com/scikit-learn/scikit-learn/issues/21755 */display: inline-block !important;position: relative;}#sk-container-id-1 div.sk-text-repr-fallback {display: none;}</style><div id=\"sk-container-id-1\" class=\"sk-top-container\"><div class=\"sk-text-repr-fallback\"><pre>GridSearchCV(cv=5, estimator=KNeighborsClassifier(),\n",
       "             param_grid={&#x27;n_neighbors&#x27;: [3, 5, 7, 9, 11], &#x27;p&#x27;: [1, 2],\n",
       "                         &#x27;weights&#x27;: [&#x27;uniform&#x27;, &#x27;distance&#x27;]},\n",
       "             return_train_score=True, scoring=&#x27;accuracy&#x27;)</pre><b>In a Jupyter environment, please rerun this cell to show the HTML representation or trust the notebook. <br />On GitHub, the HTML representation is unable to render, please try loading this page with nbviewer.org.</b></div><div class=\"sk-container\" hidden><div class=\"sk-item sk-dashed-wrapped\"><div class=\"sk-label-container\"><div class=\"sk-label sk-toggleable\"><input class=\"sk-toggleable__control sk-hidden--visually\" id=\"sk-estimator-id-1\" type=\"checkbox\" ><label for=\"sk-estimator-id-1\" class=\"sk-toggleable__label sk-toggleable__label-arrow\">GridSearchCV</label><div class=\"sk-toggleable__content\"><pre>GridSearchCV(cv=5, estimator=KNeighborsClassifier(),\n",
       "             param_grid={&#x27;n_neighbors&#x27;: [3, 5, 7, 9, 11], &#x27;p&#x27;: [1, 2],\n",
       "                         &#x27;weights&#x27;: [&#x27;uniform&#x27;, &#x27;distance&#x27;]},\n",
       "             return_train_score=True, scoring=&#x27;accuracy&#x27;)</pre></div></div></div><div class=\"sk-parallel\"><div class=\"sk-parallel-item\"><div class=\"sk-item\"><div class=\"sk-label-container\"><div class=\"sk-label sk-toggleable\"><input class=\"sk-toggleable__control sk-hidden--visually\" id=\"sk-estimator-id-2\" type=\"checkbox\" ><label for=\"sk-estimator-id-2\" class=\"sk-toggleable__label sk-toggleable__label-arrow\">estimator: KNeighborsClassifier</label><div class=\"sk-toggleable__content\"><pre>KNeighborsClassifier()</pre></div></div></div><div class=\"sk-serial\"><div class=\"sk-item\"><div class=\"sk-estimator sk-toggleable\"><input class=\"sk-toggleable__control sk-hidden--visually\" id=\"sk-estimator-id-3\" type=\"checkbox\" ><label for=\"sk-estimator-id-3\" class=\"sk-toggleable__label sk-toggleable__label-arrow\">KNeighborsClassifier</label><div class=\"sk-toggleable__content\"><pre>KNeighborsClassifier()</pre></div></div></div></div></div></div></div></div></div></div>"
      ],
      "text/plain": [
       "GridSearchCV(cv=5, estimator=KNeighborsClassifier(),\n",
       "             param_grid={'n_neighbors': [3, 5, 7, 9, 11], 'p': [1, 2],\n",
       "                         'weights': ['uniform', 'distance']},\n",
       "             return_train_score=True, scoring='accuracy')"
      ]
     },
     "execution_count": 4,
     "metadata": {},
     "output_type": "execute_result"
    }
   ],
   "source": [
    "param_grid = {\n",
    "    'n_neighbors': [3, 5, 7, 9, 11],  # Teste diferentes valores para o número de vizinhos\n",
    "    'weights': ['uniform', 'distance'],  # Teste pesos uniformes e ponderados pela distância\n",
    "    'p': [1, 2],  # Teste distância de Manhattan (p=1) e distância Euclidiana (p=2)\n",
    "}\n",
    "\n",
    "grid_search = GridSearchCV(KNeighborsClassifier(), param_grid, cv=5, scoring='accuracy', return_train_score=True)\n",
    "grid_search.fit(X_train_scaled, y_train)"
   ]
  },
  {
   "cell_type": "markdown",
   "metadata": {},
   "source": [
    "### 3.1) Tabela comparativa para todas combinações"
   ]
  },
  {
   "cell_type": "code",
   "execution_count": 5,
   "metadata": {},
   "outputs": [
    {
     "name": "stdout",
     "output_type": "stream",
     "text": [
      "╒══════════════╤════════════════════════════════════════════════════╤═══════════════╤════════════════════╕\n",
      "│ Combinação   │ Hiperparâmetros                                    │ Train Score   │ Validation Score   │\n",
      "╞══════════════╪════════════════════════════════════════════════════╪═══════════════╪════════════════════╡\n",
      "│ 1            │ {'n_neighbors': 3, 'p': 1, 'weights': 'uniform'}   │ 0.975         │ 0.938571           │\n",
      "├──────────────┼────────────────────────────────────────────────────┼───────────────┼────────────────────┤\n",
      "│ 2            │ {'n_neighbors': 3, 'p': 1, 'weights': 'distance'}  │ 1             │ 0.938571           │\n",
      "├──────────────┼────────────────────────────────────────────────────┼───────────────┼────────────────────┤\n",
      "│ 3            │ {'n_neighbors': 3, 'p': 2, 'weights': 'uniform'}   │ 0.973214      │ 0.934286           │\n",
      "├──────────────┼────────────────────────────────────────────────────┼───────────────┼────────────────────┤\n",
      "│ 4            │ {'n_neighbors': 3, 'p': 2, 'weights': 'distance'}  │ 1             │ 0.935714           │\n",
      "├──────────────┼────────────────────────────────────────────────────┼───────────────┼────────────────────┤\n",
      "│ 5            │ {'n_neighbors': 5, 'p': 1, 'weights': 'uniform'}   │ 0.973929      │ 0.942857           │\n",
      "├──────────────┼────────────────────────────────────────────────────┼───────────────┼────────────────────┤\n",
      "│ 6            │ {'n_neighbors': 5, 'p': 1, 'weights': 'distance'}  │ 1             │ 0.948571           │\n",
      "├──────────────┼────────────────────────────────────────────────────┼───────────────┼────────────────────┤\n",
      "│ 7            │ {'n_neighbors': 5, 'p': 2, 'weights': 'uniform'}   │ 0.970714      │ 0.94               │\n",
      "├──────────────┼────────────────────────────────────────────────────┼───────────────┼────────────────────┤\n",
      "│ 8            │ {'n_neighbors': 5, 'p': 2, 'weights': 'distance'}  │ 1             │ 0.944286           │\n",
      "├──────────────┼────────────────────────────────────────────────────┼───────────────┼────────────────────┤\n",
      "│ 9            │ {'n_neighbors': 7, 'p': 1, 'weights': 'uniform'}   │ 0.972143      │ 0.947143           │\n",
      "├──────────────┼────────────────────────────────────────────────────┼───────────────┼────────────────────┤\n",
      "│ 10           │ {'n_neighbors': 7, 'p': 1, 'weights': 'distance'}  │ 1             │ 0.952857           │\n",
      "├──────────────┼────────────────────────────────────────────────────┼───────────────┼────────────────────┤\n",
      "│ 11           │ {'n_neighbors': 7, 'p': 2, 'weights': 'uniform'}   │ 0.965714      │ 0.938571           │\n",
      "├──────────────┼────────────────────────────────────────────────────┼───────────────┼────────────────────┤\n",
      "│ 12           │ {'n_neighbors': 7, 'p': 2, 'weights': 'distance'}  │ 1             │ 0.945714           │\n",
      "├──────────────┼────────────────────────────────────────────────────┼───────────────┼────────────────────┤\n",
      "│ 13           │ {'n_neighbors': 9, 'p': 1, 'weights': 'uniform'}   │ 0.968929      │ 0.95               │\n",
      "├──────────────┼────────────────────────────────────────────────────┼───────────────┼────────────────────┤\n",
      "│ 14           │ {'n_neighbors': 9, 'p': 1, 'weights': 'distance'}  │ 1             │ 0.952857           │\n",
      "├──────────────┼────────────────────────────────────────────────────┼───────────────┼────────────────────┤\n",
      "│ 15           │ {'n_neighbors': 9, 'p': 2, 'weights': 'uniform'}   │ 0.958929      │ 0.941429           │\n",
      "├──────────────┼────────────────────────────────────────────────────┼───────────────┼────────────────────┤\n",
      "│ 16           │ {'n_neighbors': 9, 'p': 2, 'weights': 'distance'}  │ 1             │ 0.942857           │\n",
      "├──────────────┼────────────────────────────────────────────────────┼───────────────┼────────────────────┤\n",
      "│ 17           │ {'n_neighbors': 11, 'p': 1, 'weights': 'uniform'}  │ 0.963571      │ 0.945714           │\n",
      "├──────────────┼────────────────────────────────────────────────────┼───────────────┼────────────────────┤\n",
      "│ 18           │ {'n_neighbors': 11, 'p': 1, 'weights': 'distance'} │ 1             │ 0.954286           │\n",
      "├──────────────┼────────────────────────────────────────────────────┼───────────────┼────────────────────┤\n",
      "│ 19           │ {'n_neighbors': 11, 'p': 2, 'weights': 'uniform'}  │ 0.951786      │ 0.935714           │\n",
      "├──────────────┼────────────────────────────────────────────────────┼───────────────┼────────────────────┤\n",
      "│ 20           │ {'n_neighbors': 11, 'p': 2, 'weights': 'distance'} │ 1             │ 0.938571           │\n",
      "╘══════════════╧════════════════════════════════════════════════════╧═══════════════╧════════════════════╛\n"
     ]
    }
   ],
   "source": [
    "# Seus dados do GridSearchCV\n",
    "results = grid_search.cv_results_\n",
    "param_combinations = [f'{params}' for params in grid_search.cv_results_['params']]\n",
    "train_scores = results['mean_train_score']\n",
    "test_scores = results['mean_test_score']\n",
    "\n",
    "table_data = []\n",
    "\n",
    "for i in range(len(param_combinations)):\n",
    "    row = [i+1, param_combinations[i], train_scores[i], test_scores[i]]  # Adicione o índice de linha (i+1)\n",
    "    table_data.append(row)\n",
    "\n",
    "# Crie a tabela usando a função tabulate\n",
    "table = tabulate(table_data, headers=['Combinação', 'Hiperparâmetros', 'Train Score', 'Validation Score'], tablefmt='fancy_grid', numalign='left')\n",
    "\n",
    "print(table)"
   ]
  },
  {
   "cell_type": "markdown",
   "metadata": {},
   "source": [
    "## 4) Predição"
   ]
  },
  {
   "cell_type": "code",
   "execution_count": 6,
   "metadata": {},
   "outputs": [],
   "source": [
    "best_knn = grid_search.best_estimator_\n",
    "y_pred = best_knn.predict(X_test_scaled)"
   ]
  },
  {
   "cell_type": "markdown",
   "metadata": {},
   "source": [
    "## 5) Matriz Confusão"
   ]
  },
  {
   "cell_type": "code",
   "execution_count": 7,
   "metadata": {},
   "outputs": [
    {
     "data": {
      "image/png": "[encoded data removed]",
      "text/plain": [
       "<Figure size 800x600 with 2 Axes>"
      ]
     },
     "metadata": {},
     "output_type": "display_data"
    }
   ],
   "source": [
    "cm = confusion_matrix(y_test, y_pred) \n",
    "\n",
    "plt.figure(figsize=(8, 6))\n",
    "sns.heatmap(cm, annot=True, fmt=\"d\", cmap=\"Blues\", xticklabels=['Bem', 'Médio', 'Mal'], yticklabels=['Bem', 'Médio', 'Mal'])\n",
    "plt.xlabel('Predito')\n",
    "plt.ylabel('Real')\n",
    "plt.title('Matriz de Confusão')\n",
    "plt.show()"
   ]
  },
  {
   "cell_type": "markdown",
   "metadata": {},
   "source": [
    "## 6) Métricas de eficácia"
   ]
  },
  {
   "cell_type": "code",
   "execution_count": 8,
   "metadata": {},
   "outputs": [
    {
     "name": "stdout",
     "output_type": "stream",
     "text": [
      "Melhores Hiperparâmetros Encontrados: {'n_neighbors': 11, 'p': 1, 'weights': 'distance'}\n",
      "----------------------------------------------------------------\n",
      "Acurácia: 0.9433333333333334\n",
      "----------------------------------------------------------------\n",
      "\n",
      "Relatório de Classificação:\n",
      "              precision    recall  f1-score   support\n",
      "\n",
      "         Bem       0.97      0.83      0.90        36\n",
      "         Mal       0.97      0.97      0.97       200\n",
      "       Médio       0.84      0.91      0.87        64\n",
      "\n",
      "    accuracy                           0.94       300\n",
      "   macro avg       0.93      0.90      0.91       300\n",
      "weighted avg       0.95      0.94      0.94       300\n",
      "\n"
     ]
    }
   ],
   "source": [
    "print(f'Melhores Hiperparâmetros Encontrados: {grid_search.best_params_}')\n",
    "\n",
    "print(\"----------------------------------------------------------------\")\n",
    "accuracy = accuracy_score(y_test, y_pred)  \n",
    "print(f'Acurácia: {accuracy}')\n",
    "\n",
    "print(\"----------------------------------------------------------------\\n\")\n",
    "classification_rep = classification_report(y_test, y_pred)\n",
    "print(f'Relatório de Classificação:\\n{classification_rep}')\n",
    "\n",
    "# precision = precision_score(y_test, y_pred)  \n",
    "# print(f'Precisão: {precision}')\n",
    "\n",
    "# recall = recall_score(y_test, y_pred)  \n",
    "# print(f'Recall: {recall}')\n",
    "\n",
    "# f1 = f1_score(y_test, y_pred) \n",
    "# print(f'Medida F: {f1}')"
   ]
  }
 ],
 "metadata": {
  "kernelspec": {
   "display_name": "Python 3",
   "language": "python",
   "name": "python3"
  },
  "language_info": {
   "codemirror_mode": {
    "name": "ipython",
    "version": 3
   },
   "file_extension": ".py",
   "mimetype": "text/x-python",
   "name": "python",
   "nbconvert_exporter": "python",
   "pygments_lexer": "ipython3",
   "version": "3.10.1"
  }
 },
 "nbformat": 4,
 "nbformat_minor": 2
}
